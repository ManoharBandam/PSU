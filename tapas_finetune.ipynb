{
  "cells": [
    {
      "cell_type": "markdown",
      "metadata": {
        "id": "view-in-github",
        "colab_type": "text"
      },
      "source": [
        "<a href=\"https://colab.research.google.com/github/ManoharBandam/PSU/blob/master/tapas_finetune.ipynb\" target=\"_parent\"><img src=\"https://colab.research.google.com/assets/colab-badge.svg\" alt=\"Open In Colab\"/></a>"
      ]
    },
    {
      "cell_type": "code",
      "execution_count": 1,
      "metadata": {
        "id": "O1iKVAMosxAF"
      },
      "outputs": [],
      "source": [
        "# https://github.com/bhattbhavesh91/table-question-answering-demo/blob/main/table-qa-pipeline.ipynb\n",
        "# module 1 tapas"
      ]
    },
    {
      "cell_type": "code",
      "execution_count": 2,
      "metadata": {
        "id": "i3ncG2TXE_N9"
      },
      "outputs": [],
      "source": [
        "!pip install -q transformers==4.4.2\n"
      ]
    },
    {
      "cell_type": "code",
      "source": [
        "!pip install sentencepiece"
      ],
      "metadata": {
        "colab": {
          "base_uri": "https://localhost:8080/"
        },
        "id": "uBHbWANBpDRq",
        "outputId": "2cb7e6d3-d0fa-462c-f3a1-facc57187791"
      },
      "execution_count": 3,
      "outputs": [
        {
          "output_type": "stream",
          "name": "stdout",
          "text": [
            "Requirement already satisfied: sentencepiece in /usr/local/lib/python3.7/dist-packages (0.1.96)\n"
          ]
        }
      ]
    },
    {
      "cell_type": "code",
      "execution_count": 4,
      "metadata": {
        "colab": {
          "base_uri": "https://localhost:8080/",
          "height": 37
        },
        "id": "JTmmQWM4FJN3",
        "outputId": "5d0f0136-1c3b-4abb-8ed6-8a24965af015"
      },
      "outputs": [
        {
          "output_type": "execute_result",
          "data": {
            "text/plain": [
              "'1.11.0+cu113'"
            ],
            "application/vnd.google.colaboratory.intrinsic+json": {
              "type": "string"
            }
          },
          "metadata": {},
          "execution_count": 4
        }
      ],
      "source": [
        "import torch\n",
        "torch.__version__"
      ]
    },
    {
      "cell_type": "code",
      "execution_count": 5,
      "metadata": {
        "colab": {
          "base_uri": "https://localhost:8080/"
        },
        "id": "XlvJ4YdcFJK7",
        "outputId": "348501f7-ce15-4c63-d138-d7cc2190f3bf"
      },
      "outputs": [
        {
          "output_type": "stream",
          "name": "stdout",
          "text": [
            "Looking in links: https://pytorch-geometric.com/whl/torch-1.8.0+cu101.html\n",
            "Requirement already satisfied: torch-scatter in /usr/local/lib/python3.7/dist-packages (2.0.9)\n"
          ]
        }
      ],
      "source": [
        "!pip install torch-scatter -f https://pytorch-geometric.com/whl/torch-1.8.0+cu101.html\n"
      ]
    },
    {
      "cell_type": "code",
      "execution_count": 6,
      "metadata": {
        "id": "OFL-DCNcFJIK"
      },
      "outputs": [],
      "source": [
        "from transformers import pipeline\n",
        "import pandas as pd\n"
      ]
    },
    {
      "cell_type": "code",
      "execution_count": 7,
      "metadata": {
        "id": "Ba2WbQa3FJFU"
      },
      "outputs": [],
      "source": [
        "tqa = pipeline(task=\"table-question-answering\", \n",
        "               model=\"google/tapas-base-finetuned-wtq\")"
      ]
    },
    {
      "cell_type": "code",
      "execution_count": 8,
      "metadata": {
        "id": "8nMvQK4nFJCq"
      },
      "outputs": [],
      "source": [
        "df1 = pd.read_json('sample_data/fetaQA-v1_train.json')\n",
        "df2 = pd.json_normalize(df1['data'])\n",
        "# df2.columns = df2.columns.map(lambda x: x.split(\".\")[-1])\n",
        "# df3 = df2['data'].to_csv()\n",
        "# df3 = df2.astype(str)"
      ]
    },
    {
      "cell_type": "code",
      "execution_count": 9,
      "metadata": {
        "colab": {
          "base_uri": "https://localhost:8080/",
          "height": 693
        },
        "id": "aZoa1R6VJPTb",
        "outputId": "0a6e133b-1f1b-4b33-f702-098c9d36e24a"
      },
      "outputs": [
        {
          "output_type": "execute_result",
          "data": {
            "text/plain": [
              "   feta_id                          table_source_json  \\\n",
              "0    12019  totto_source/train_json/example-4318.json   \n",
              "1    10691  totto_source/train_json/example-2990.json   \n",
              "2     8300   totto_source/train_json/example-599.json   \n",
              "3     8107   totto_source/train_json/example-406.json   \n",
              "4    10564  totto_source/train_json/example-2863.json   \n",
              "\n",
              "                                  page_wikipedia_url  \\\n",
              "0  http://en.wikipedia.org/wiki/Core_fonts_for_th...   \n",
              "1  http://en.wikipedia.org/wiki/Shruti_Haasan_fil...   \n",
              "2  http://en.wikipedia.org/wiki/List_of_Assyrian_...   \n",
              "3  http://en.wikipedia.org/wiki/List_of_Stanley_C...   \n",
              "4  http://en.wikipedia.org/wiki/Estadio_El%C3%ADa...   \n",
              "\n",
              "                table_page_title                    table_section_title  \\\n",
              "0         Core fonts for the Web                List of fonts and files   \n",
              "1      Shruti Haasan filmography                            Filmography   \n",
              "2         List of Assyrian kings  Dynasty of Puzur-Ashur (2025–1749 BC)   \n",
              "3  List of Stanley Cup champions                           Active teams   \n",
              "4          Estadio Elías Aguirre           International matches hosted   \n",
              "\n",
              "                                         table_array  \\\n",
              "0  [[File name, Font name, Variants, Last version...   \n",
              "1  [[Title, Year, Role(s), Director, Language(s),...   \n",
              "2  [[#, Image, King, Reign, Succession, Notes, Re...   \n",
              "3  [[Apps, Team, Wins, Losses, Win %, Years of ap...   \n",
              "4  [[Date, Team #1, Res., Team #2, Round, Attenda...   \n",
              "\n",
              "                                highlighted_cell_ids  \\\n",
              "0  [[1, 1], [1, 3], [9, 1], [9, 3], [20, 1], [20,...   \n",
              "1  [[1, 0], [1, 1], [1, 4], [1, 5], [2, 0], [2, 1...   \n",
              "2           [[5, 2], [6, 2], [6, 4], [7, 2], [7, 4]]   \n",
              "3                   [[1, 1], [1, 2], [3, 1], [3, 2]]   \n",
              "4  [[1, 1], [1, 2], [1, 3], [1, 4], [5, 1], [5, 2...   \n",
              "\n",
              "                                            question  \\\n",
              "0  What were the font-versions that were availabl...   \n",
              "1  In what films has Shruti Haasan made a cameo a...   \n",
              "2  On the Assyrian King List, for whom is Sargon ...   \n",
              "3  How many Stanley Cup championships did Toronto...   \n",
              "4  What were the first and final Copa América mat...   \n",
              "\n",
              "                                              answer          source  \n",
              "0  The font-versions that were available from Cor...  mturk-approved  \n",
              "1  Shruti Haasan made a cameo appearance in Tamil...        internal  \n",
              "2  On the Assyrian King List, Sargon appears as t...        internal  \n",
              "3  The Toronto Maple Leafs has won thirteen Stanl...        internal  \n",
              "4  The game that opened the Elías Aguirre's parti...        internal  "
            ],
            "text/html": [
              "\n",
              "  <div id=\"df-27b07a72-05cf-4e6c-86c6-d24cdaede98d\">\n",
              "    <div class=\"colab-df-container\">\n",
              "      <div>\n",
              "<style scoped>\n",
              "    .dataframe tbody tr th:only-of-type {\n",
              "        vertical-align: middle;\n",
              "    }\n",
              "\n",
              "    .dataframe tbody tr th {\n",
              "        vertical-align: top;\n",
              "    }\n",
              "\n",
              "    .dataframe thead th {\n",
              "        text-align: right;\n",
              "    }\n",
              "</style>\n",
              "<table border=\"1\" class=\"dataframe\">\n",
              "  <thead>\n",
              "    <tr style=\"text-align: right;\">\n",
              "      <th></th>\n",
              "      <th>feta_id</th>\n",
              "      <th>table_source_json</th>\n",
              "      <th>page_wikipedia_url</th>\n",
              "      <th>table_page_title</th>\n",
              "      <th>table_section_title</th>\n",
              "      <th>table_array</th>\n",
              "      <th>highlighted_cell_ids</th>\n",
              "      <th>question</th>\n",
              "      <th>answer</th>\n",
              "      <th>source</th>\n",
              "    </tr>\n",
              "  </thead>\n",
              "  <tbody>\n",
              "    <tr>\n",
              "      <th>0</th>\n",
              "      <td>12019</td>\n",
              "      <td>totto_source/train_json/example-4318.json</td>\n",
              "      <td>http://en.wikipedia.org/wiki/Core_fonts_for_th...</td>\n",
              "      <td>Core fonts for the Web</td>\n",
              "      <td>List of fonts and files</td>\n",
              "      <td>[[File name, Font name, Variants, Last version...</td>\n",
              "      <td>[[1, 1], [1, 3], [9, 1], [9, 3], [20, 1], [20,...</td>\n",
              "      <td>What were the font-versions that were availabl...</td>\n",
              "      <td>The font-versions that were available from Cor...</td>\n",
              "      <td>mturk-approved</td>\n",
              "    </tr>\n",
              "    <tr>\n",
              "      <th>1</th>\n",
              "      <td>10691</td>\n",
              "      <td>totto_source/train_json/example-2990.json</td>\n",
              "      <td>http://en.wikipedia.org/wiki/Shruti_Haasan_fil...</td>\n",
              "      <td>Shruti Haasan filmography</td>\n",
              "      <td>Filmography</td>\n",
              "      <td>[[Title, Year, Role(s), Director, Language(s),...</td>\n",
              "      <td>[[1, 0], [1, 1], [1, 4], [1, 5], [2, 0], [2, 1...</td>\n",
              "      <td>In what films has Shruti Haasan made a cameo a...</td>\n",
              "      <td>Shruti Haasan made a cameo appearance in Tamil...</td>\n",
              "      <td>internal</td>\n",
              "    </tr>\n",
              "    <tr>\n",
              "      <th>2</th>\n",
              "      <td>8300</td>\n",
              "      <td>totto_source/train_json/example-599.json</td>\n",
              "      <td>http://en.wikipedia.org/wiki/List_of_Assyrian_...</td>\n",
              "      <td>List of Assyrian kings</td>\n",
              "      <td>Dynasty of Puzur-Ashur (2025–1749 BC)</td>\n",
              "      <td>[[#, Image, King, Reign, Succession, Notes, Re...</td>\n",
              "      <td>[[5, 2], [6, 2], [6, 4], [7, 2], [7, 4]]</td>\n",
              "      <td>On the Assyrian King List, for whom is Sargon ...</td>\n",
              "      <td>On the Assyrian King List, Sargon appears as t...</td>\n",
              "      <td>internal</td>\n",
              "    </tr>\n",
              "    <tr>\n",
              "      <th>3</th>\n",
              "      <td>8107</td>\n",
              "      <td>totto_source/train_json/example-406.json</td>\n",
              "      <td>http://en.wikipedia.org/wiki/List_of_Stanley_C...</td>\n",
              "      <td>List of Stanley Cup champions</td>\n",
              "      <td>Active teams</td>\n",
              "      <td>[[Apps, Team, Wins, Losses, Win %, Years of ap...</td>\n",
              "      <td>[[1, 1], [1, 2], [3, 1], [3, 2]]</td>\n",
              "      <td>How many Stanley Cup championships did Toronto...</td>\n",
              "      <td>The Toronto Maple Leafs has won thirteen Stanl...</td>\n",
              "      <td>internal</td>\n",
              "    </tr>\n",
              "    <tr>\n",
              "      <th>4</th>\n",
              "      <td>10564</td>\n",
              "      <td>totto_source/train_json/example-2863.json</td>\n",
              "      <td>http://en.wikipedia.org/wiki/Estadio_El%C3%ADa...</td>\n",
              "      <td>Estadio Elías Aguirre</td>\n",
              "      <td>International matches hosted</td>\n",
              "      <td>[[Date, Team #1, Res., Team #2, Round, Attenda...</td>\n",
              "      <td>[[1, 1], [1, 2], [1, 3], [1, 4], [5, 1], [5, 2...</td>\n",
              "      <td>What were the first and final Copa América mat...</td>\n",
              "      <td>The game that opened the Elías Aguirre's parti...</td>\n",
              "      <td>internal</td>\n",
              "    </tr>\n",
              "  </tbody>\n",
              "</table>\n",
              "</div>\n",
              "      <button class=\"colab-df-convert\" onclick=\"convertToInteractive('df-27b07a72-05cf-4e6c-86c6-d24cdaede98d')\"\n",
              "              title=\"Convert this dataframe to an interactive table.\"\n",
              "              style=\"display:none;\">\n",
              "        \n",
              "  <svg xmlns=\"http://www.w3.org/2000/svg\" height=\"24px\"viewBox=\"0 0 24 24\"\n",
              "       width=\"24px\">\n",
              "    <path d=\"M0 0h24v24H0V0z\" fill=\"none\"/>\n",
              "    <path d=\"M18.56 5.44l.94 2.06.94-2.06 2.06-.94-2.06-.94-.94-2.06-.94 2.06-2.06.94zm-11 1L8.5 8.5l.94-2.06 2.06-.94-2.06-.94L8.5 2.5l-.94 2.06-2.06.94zm10 10l.94 2.06.94-2.06 2.06-.94-2.06-.94-.94-2.06-.94 2.06-2.06.94z\"/><path d=\"M17.41 7.96l-1.37-1.37c-.4-.4-.92-.59-1.43-.59-.52 0-1.04.2-1.43.59L10.3 9.45l-7.72 7.72c-.78.78-.78 2.05 0 2.83L4 21.41c.39.39.9.59 1.41.59.51 0 1.02-.2 1.41-.59l7.78-7.78 2.81-2.81c.8-.78.8-2.07 0-2.86zM5.41 20L4 18.59l7.72-7.72 1.47 1.35L5.41 20z\"/>\n",
              "  </svg>\n",
              "      </button>\n",
              "      \n",
              "  <style>\n",
              "    .colab-df-container {\n",
              "      display:flex;\n",
              "      flex-wrap:wrap;\n",
              "      gap: 12px;\n",
              "    }\n",
              "\n",
              "    .colab-df-convert {\n",
              "      background-color: #E8F0FE;\n",
              "      border: none;\n",
              "      border-radius: 50%;\n",
              "      cursor: pointer;\n",
              "      display: none;\n",
              "      fill: #1967D2;\n",
              "      height: 32px;\n",
              "      padding: 0 0 0 0;\n",
              "      width: 32px;\n",
              "    }\n",
              "\n",
              "    .colab-df-convert:hover {\n",
              "      background-color: #E2EBFA;\n",
              "      box-shadow: 0px 1px 2px rgba(60, 64, 67, 0.3), 0px 1px 3px 1px rgba(60, 64, 67, 0.15);\n",
              "      fill: #174EA6;\n",
              "    }\n",
              "\n",
              "    [theme=dark] .colab-df-convert {\n",
              "      background-color: #3B4455;\n",
              "      fill: #D2E3FC;\n",
              "    }\n",
              "\n",
              "    [theme=dark] .colab-df-convert:hover {\n",
              "      background-color: #434B5C;\n",
              "      box-shadow: 0px 1px 3px 1px rgba(0, 0, 0, 0.15);\n",
              "      filter: drop-shadow(0px 1px 2px rgba(0, 0, 0, 0.3));\n",
              "      fill: #FFFFFF;\n",
              "    }\n",
              "  </style>\n",
              "\n",
              "      <script>\n",
              "        const buttonEl =\n",
              "          document.querySelector('#df-27b07a72-05cf-4e6c-86c6-d24cdaede98d button.colab-df-convert');\n",
              "        buttonEl.style.display =\n",
              "          google.colab.kernel.accessAllowed ? 'block' : 'none';\n",
              "\n",
              "        async function convertToInteractive(key) {\n",
              "          const element = document.querySelector('#df-27b07a72-05cf-4e6c-86c6-d24cdaede98d');\n",
              "          const dataTable =\n",
              "            await google.colab.kernel.invokeFunction('convertToInteractive',\n",
              "                                                     [key], {});\n",
              "          if (!dataTable) return;\n",
              "\n",
              "          const docLinkHtml = 'Like what you see? Visit the ' +\n",
              "            '<a target=\"_blank\" href=https://colab.research.google.com/notebooks/data_table.ipynb>data table notebook</a>'\n",
              "            + ' to learn more about interactive tables.';\n",
              "          element.innerHTML = '';\n",
              "          dataTable['output_type'] = 'display_data';\n",
              "          await google.colab.output.renderOutput(dataTable, element);\n",
              "          const docLink = document.createElement('div');\n",
              "          docLink.innerHTML = docLinkHtml;\n",
              "          element.appendChild(docLink);\n",
              "        }\n",
              "      </script>\n",
              "    </div>\n",
              "  </div>\n",
              "  "
            ]
          },
          "metadata": {},
          "execution_count": 9
        }
      ],
      "source": [
        "df2.head()"
      ]
    },
    {
      "cell_type": "code",
      "execution_count": 10,
      "metadata": {
        "colab": {
          "base_uri": "https://localhost:8080/"
        },
        "id": "QgMo2t__y76h",
        "outputId": "bbd9b792-5e27-4017-cb04-f533bf750c7a"
      },
      "outputs": [
        {
          "output_type": "execute_result",
          "data": {
            "text/plain": [
              "feta_id                 7325\n",
              "table_source_json       7325\n",
              "page_wikipedia_url      7325\n",
              "table_page_title        7325\n",
              "table_section_title     7325\n",
              "table_array             7325\n",
              "highlighted_cell_ids    7325\n",
              "question                7325\n",
              "answer                  7325\n",
              "source                  7325\n",
              "dtype: int64"
            ]
          },
          "metadata": {},
          "execution_count": 10
        }
      ],
      "source": [
        "df2.count()"
      ]
    },
    {
      "cell_type": "code",
      "execution_count": 11,
      "metadata": {
        "colab": {
          "base_uri": "https://localhost:8080/",
          "height": 37
        },
        "id": "aZD28otJIdQI",
        "outputId": "736d2c74-713e-4d07-9973-1b469bf5a71e"
      },
      "outputs": [
        {
          "output_type": "execute_result",
          "data": {
            "text/plain": [
              "'Last version'"
            ],
            "application/vnd.google.colaboratory.intrinsic+json": {
              "type": "string"
            }
          },
          "metadata": {},
          "execution_count": 11
        }
      ],
      "source": [
        "table_df = pd.DataFrame(df2[\"table_array\"][0])\n",
        "# ,3print(table_df)\n",
        "table_df.iloc[0,3]\n",
        "# table_df.columns[3]\n",
        "# for col in table_df.columns:\n",
        "#     print(col)"
      ]
    },
    {
      "cell_type": "code",
      "execution_count": 39,
      "metadata": {
        "id": "Rx9yVvuskAlV"
      },
      "outputs": [],
      "source": [
        "dart_df = pd.DataFrame()\n",
        "for i in range(1000):\n",
        "  if i%50 == 0:\n",
        "    print(\"running epoch:\",i)\n",
        "  table_df = pd.DataFrame(df2[\"table_array\"][i])\n",
        "  label = df2[\"answer\"][i]\n",
        "  table_df.columns = table_df.iloc[0] \n",
        "  table_df1 = table_df[1:]\n",
        "  query1 = str(df2[\"question\"][i])\n",
        "  # print(query1)\n",
        "  tqa_result = tqa(table=table_df, query=query1)\n",
        "  # print(tqa_result)\n",
        "  # print(tqa_result.get(\"coordinates\"))\n",
        "  # print(len(tqa_result.get(\"coordinates\")))\n",
        "  tqa_result[\"table_name\"] = df2['table_page_title'][i]\n",
        "  tqa_result[\"table_section_title\"] = df2['table_section_title'][i]\n",
        "  tqa_result[\"target\"] = label\n",
        "  # print(table_df.iloc[0,3])\n",
        "  tqa_result[\"column_header\"] = table_df.iloc[0,int(tqa_result.get(\"coordinates\")[0][1])] if len(tqa_result.get(\"coordinates\"))>0 else \" \"\n",
        "  dart_df = dart_df.append(tqa_result, ignore_index=True)\n"
      ]
    },
    {
      "cell_type": "code",
      "source": [
        "dart_df.count()"
      ],
      "metadata": {
        "colab": {
          "base_uri": "https://localhost:8080/"
        },
        "id": "MWe_awHkyvne",
        "outputId": "7c0738ab-7561-4656-f0b8-260249b48c89"
      },
      "execution_count": 41,
      "outputs": [
        {
          "output_type": "execute_result",
          "data": {
            "text/plain": [
              "answer                 1000\n",
              "coordinates            1000\n",
              "cells                  1000\n",
              "aggregator             1000\n",
              "table_name             1000\n",
              "table_section_title    1000\n",
              "target                 1000\n",
              "column_header          1000\n",
              "dtype: int64"
            ]
          },
          "metadata": {},
          "execution_count": 41
        }
      ]
    },
    {
      "cell_type": "code",
      "execution_count": 40,
      "metadata": {
        "colab": {
          "base_uri": "https://localhost:8080/",
          "height": 503
        },
        "id": "ETdXyei36Ize",
        "outputId": "735d4f22-cc01-40cc-b4e8-b74e44d9277a"
      },
      "outputs": [
        {
          "output_type": "execute_result",
          "data": {
            "text/plain": [
              "                                              answer  \\\n",
              "0                         version 1.03, version 1.01   \n",
              "1                                   Hey Ram, Hey Ram   \n",
              "2       Sargon I Šarru-ukīn \"the king is legitimate\"   \n",
              "3                                     COUNT > 24, 13   \n",
              "4  7 July 2004, 7 July 2004, 10 July 2004, 10 Jul...   \n",
              "\n",
              "                                coordinates  \\\n",
              "0                        [(28, 3), (29, 3)]   \n",
              "1                          [(1, 0), (2, 0)]   \n",
              "2                                  [(6, 2)]   \n",
              "3                          [(1, 2), (3, 2)]   \n",
              "4  [(1, 0), (2, 0), (3, 0), (4, 0), (5, 0)]   \n",
              "\n",
              "                                               cells aggregator  \\\n",
              "0                       [version 1.03, version 1.01]       NONE   \n",
              "1                                 [Hey Ram, Hey Ram]       NONE   \n",
              "2     [Sargon I Šarru-ukīn \"the king is legitimate\"]       NONE   \n",
              "3                                           [24, 13]      COUNT   \n",
              "4  [7 July 2004, 7 July 2004, 10 July 2004, 10 Ju...       NONE   \n",
              "\n",
              "                      table_name                    table_section_title  \\\n",
              "0         Core fonts for the Web                List of fonts and files   \n",
              "1      Shruti Haasan filmography                            Filmography   \n",
              "2         List of Assyrian kings  Dynasty of Puzur-Ashur (2025–1749 BC)   \n",
              "3  List of Stanley Cup champions                           Active teams   \n",
              "4          Estadio Elías Aguirre           International matches hosted   \n",
              "\n",
              "                                              target column_header  \n",
              "0  The font-versions that were available from Cor...  Last version  \n",
              "1  Shruti Haasan made a cameo appearance in Tamil...         Title  \n",
              "2  On the Assyrian King List, Sargon appears as t...          King  \n",
              "3  The Toronto Maple Leafs has won thirteen Stanl...          Wins  \n",
              "4  The game that opened the Elías Aguirre's parti...          Date  "
            ],
            "text/html": [
              "\n",
              "  <div id=\"df-61c6d716-882d-450a-bdc0-49a6ca7a42b3\">\n",
              "    <div class=\"colab-df-container\">\n",
              "      <div>\n",
              "<style scoped>\n",
              "    .dataframe tbody tr th:only-of-type {\n",
              "        vertical-align: middle;\n",
              "    }\n",
              "\n",
              "    .dataframe tbody tr th {\n",
              "        vertical-align: top;\n",
              "    }\n",
              "\n",
              "    .dataframe thead th {\n",
              "        text-align: right;\n",
              "    }\n",
              "</style>\n",
              "<table border=\"1\" class=\"dataframe\">\n",
              "  <thead>\n",
              "    <tr style=\"text-align: right;\">\n",
              "      <th></th>\n",
              "      <th>answer</th>\n",
              "      <th>coordinates</th>\n",
              "      <th>cells</th>\n",
              "      <th>aggregator</th>\n",
              "      <th>table_name</th>\n",
              "      <th>table_section_title</th>\n",
              "      <th>target</th>\n",
              "      <th>column_header</th>\n",
              "    </tr>\n",
              "  </thead>\n",
              "  <tbody>\n",
              "    <tr>\n",
              "      <th>0</th>\n",
              "      <td>version 1.03, version 1.01</td>\n",
              "      <td>[(28, 3), (29, 3)]</td>\n",
              "      <td>[version 1.03, version 1.01]</td>\n",
              "      <td>NONE</td>\n",
              "      <td>Core fonts for the Web</td>\n",
              "      <td>List of fonts and files</td>\n",
              "      <td>The font-versions that were available from Cor...</td>\n",
              "      <td>Last version</td>\n",
              "    </tr>\n",
              "    <tr>\n",
              "      <th>1</th>\n",
              "      <td>Hey Ram, Hey Ram</td>\n",
              "      <td>[(1, 0), (2, 0)]</td>\n",
              "      <td>[Hey Ram, Hey Ram]</td>\n",
              "      <td>NONE</td>\n",
              "      <td>Shruti Haasan filmography</td>\n",
              "      <td>Filmography</td>\n",
              "      <td>Shruti Haasan made a cameo appearance in Tamil...</td>\n",
              "      <td>Title</td>\n",
              "    </tr>\n",
              "    <tr>\n",
              "      <th>2</th>\n",
              "      <td>Sargon I Šarru-ukīn \"the king is legitimate\"</td>\n",
              "      <td>[(6, 2)]</td>\n",
              "      <td>[Sargon I Šarru-ukīn \"the king is legitimate\"]</td>\n",
              "      <td>NONE</td>\n",
              "      <td>List of Assyrian kings</td>\n",
              "      <td>Dynasty of Puzur-Ashur (2025–1749 BC)</td>\n",
              "      <td>On the Assyrian King List, Sargon appears as t...</td>\n",
              "      <td>King</td>\n",
              "    </tr>\n",
              "    <tr>\n",
              "      <th>3</th>\n",
              "      <td>COUNT &gt; 24, 13</td>\n",
              "      <td>[(1, 2), (3, 2)]</td>\n",
              "      <td>[24, 13]</td>\n",
              "      <td>COUNT</td>\n",
              "      <td>List of Stanley Cup champions</td>\n",
              "      <td>Active teams</td>\n",
              "      <td>The Toronto Maple Leafs has won thirteen Stanl...</td>\n",
              "      <td>Wins</td>\n",
              "    </tr>\n",
              "    <tr>\n",
              "      <th>4</th>\n",
              "      <td>7 July 2004, 7 July 2004, 10 July 2004, 10 Jul...</td>\n",
              "      <td>[(1, 0), (2, 0), (3, 0), (4, 0), (5, 0)]</td>\n",
              "      <td>[7 July 2004, 7 July 2004, 10 July 2004, 10 Ju...</td>\n",
              "      <td>NONE</td>\n",
              "      <td>Estadio Elías Aguirre</td>\n",
              "      <td>International matches hosted</td>\n",
              "      <td>The game that opened the Elías Aguirre's parti...</td>\n",
              "      <td>Date</td>\n",
              "    </tr>\n",
              "  </tbody>\n",
              "</table>\n",
              "</div>\n",
              "      <button class=\"colab-df-convert\" onclick=\"convertToInteractive('df-61c6d716-882d-450a-bdc0-49a6ca7a42b3')\"\n",
              "              title=\"Convert this dataframe to an interactive table.\"\n",
              "              style=\"display:none;\">\n",
              "        \n",
              "  <svg xmlns=\"http://www.w3.org/2000/svg\" height=\"24px\"viewBox=\"0 0 24 24\"\n",
              "       width=\"24px\">\n",
              "    <path d=\"M0 0h24v24H0V0z\" fill=\"none\"/>\n",
              "    <path d=\"M18.56 5.44l.94 2.06.94-2.06 2.06-.94-2.06-.94-.94-2.06-.94 2.06-2.06.94zm-11 1L8.5 8.5l.94-2.06 2.06-.94-2.06-.94L8.5 2.5l-.94 2.06-2.06.94zm10 10l.94 2.06.94-2.06 2.06-.94-2.06-.94-.94-2.06-.94 2.06-2.06.94z\"/><path d=\"M17.41 7.96l-1.37-1.37c-.4-.4-.92-.59-1.43-.59-.52 0-1.04.2-1.43.59L10.3 9.45l-7.72 7.72c-.78.78-.78 2.05 0 2.83L4 21.41c.39.39.9.59 1.41.59.51 0 1.02-.2 1.41-.59l7.78-7.78 2.81-2.81c.8-.78.8-2.07 0-2.86zM5.41 20L4 18.59l7.72-7.72 1.47 1.35L5.41 20z\"/>\n",
              "  </svg>\n",
              "      </button>\n",
              "      \n",
              "  <style>\n",
              "    .colab-df-container {\n",
              "      display:flex;\n",
              "      flex-wrap:wrap;\n",
              "      gap: 12px;\n",
              "    }\n",
              "\n",
              "    .colab-df-convert {\n",
              "      background-color: #E8F0FE;\n",
              "      border: none;\n",
              "      border-radius: 50%;\n",
              "      cursor: pointer;\n",
              "      display: none;\n",
              "      fill: #1967D2;\n",
              "      height: 32px;\n",
              "      padding: 0 0 0 0;\n",
              "      width: 32px;\n",
              "    }\n",
              "\n",
              "    .colab-df-convert:hover {\n",
              "      background-color: #E2EBFA;\n",
              "      box-shadow: 0px 1px 2px rgba(60, 64, 67, 0.3), 0px 1px 3px 1px rgba(60, 64, 67, 0.15);\n",
              "      fill: #174EA6;\n",
              "    }\n",
              "\n",
              "    [theme=dark] .colab-df-convert {\n",
              "      background-color: #3B4455;\n",
              "      fill: #D2E3FC;\n",
              "    }\n",
              "\n",
              "    [theme=dark] .colab-df-convert:hover {\n",
              "      background-color: #434B5C;\n",
              "      box-shadow: 0px 1px 3px 1px rgba(0, 0, 0, 0.15);\n",
              "      filter: drop-shadow(0px 1px 2px rgba(0, 0, 0, 0.3));\n",
              "      fill: #FFFFFF;\n",
              "    }\n",
              "  </style>\n",
              "\n",
              "      <script>\n",
              "        const buttonEl =\n",
              "          document.querySelector('#df-61c6d716-882d-450a-bdc0-49a6ca7a42b3 button.colab-df-convert');\n",
              "        buttonEl.style.display =\n",
              "          google.colab.kernel.accessAllowed ? 'block' : 'none';\n",
              "\n",
              "        async function convertToInteractive(key) {\n",
              "          const element = document.querySelector('#df-61c6d716-882d-450a-bdc0-49a6ca7a42b3');\n",
              "          const dataTable =\n",
              "            await google.colab.kernel.invokeFunction('convertToInteractive',\n",
              "                                                     [key], {});\n",
              "          if (!dataTable) return;\n",
              "\n",
              "          const docLinkHtml = 'Like what you see? Visit the ' +\n",
              "            '<a target=\"_blank\" href=https://colab.research.google.com/notebooks/data_table.ipynb>data table notebook</a>'\n",
              "            + ' to learn more about interactive tables.';\n",
              "          element.innerHTML = '';\n",
              "          dataTable['output_type'] = 'display_data';\n",
              "          await google.colab.output.renderOutput(dataTable, element);\n",
              "          const docLink = document.createElement('div');\n",
              "          docLink.innerHTML = docLinkHtml;\n",
              "          element.appendChild(docLink);\n",
              "        }\n",
              "      </script>\n",
              "    </div>\n",
              "  </div>\n",
              "  "
            ]
          },
          "metadata": {},
          "execution_count": 40
        }
      ],
      "source": [
        "dart_df.head()"
      ]
    },
    {
      "cell_type": "code",
      "execution_count": 42,
      "metadata": {
        "id": "WqHJ4dVSrDGd"
      },
      "outputs": [],
      "source": [
        "dart_df_filtered = dart_df.copy()\n",
        "dart_df_filtered[\"table_context\"] = dart_df_filtered[\"table_section_title\"]+\" in \"+dart_df_filtered[\"table_name\"]\n",
        "dart_df_filtered = dart_df_filtered.drop(['coordinates', 'aggregator','table_name','table_section_title','cells'], axis = 1)"
      ]
    },
    {
      "cell_type": "code",
      "source": [
        "dart_df.head()"
      ],
      "metadata": {
        "colab": {
          "base_uri": "https://localhost:8080/",
          "height": 503
        },
        "id": "3d1TsF0LmfS0",
        "outputId": "4eef29c8-67df-4bad-bb26-64908e130e7a"
      },
      "execution_count": 43,
      "outputs": [
        {
          "output_type": "execute_result",
          "data": {
            "text/plain": [
              "                                              answer  \\\n",
              "0                         version 1.03, version 1.01   \n",
              "1                                   Hey Ram, Hey Ram   \n",
              "2       Sargon I Šarru-ukīn \"the king is legitimate\"   \n",
              "3                                     COUNT > 24, 13   \n",
              "4  7 July 2004, 7 July 2004, 10 July 2004, 10 Jul...   \n",
              "\n",
              "                                coordinates  \\\n",
              "0                        [(28, 3), (29, 3)]   \n",
              "1                          [(1, 0), (2, 0)]   \n",
              "2                                  [(6, 2)]   \n",
              "3                          [(1, 2), (3, 2)]   \n",
              "4  [(1, 0), (2, 0), (3, 0), (4, 0), (5, 0)]   \n",
              "\n",
              "                                               cells aggregator  \\\n",
              "0                       [version 1.03, version 1.01]       NONE   \n",
              "1                                 [Hey Ram, Hey Ram]       NONE   \n",
              "2     [Sargon I Šarru-ukīn \"the king is legitimate\"]       NONE   \n",
              "3                                           [24, 13]      COUNT   \n",
              "4  [7 July 2004, 7 July 2004, 10 July 2004, 10 Ju...       NONE   \n",
              "\n",
              "                      table_name                    table_section_title  \\\n",
              "0         Core fonts for the Web                List of fonts and files   \n",
              "1      Shruti Haasan filmography                            Filmography   \n",
              "2         List of Assyrian kings  Dynasty of Puzur-Ashur (2025–1749 BC)   \n",
              "3  List of Stanley Cup champions                           Active teams   \n",
              "4          Estadio Elías Aguirre           International matches hosted   \n",
              "\n",
              "                                              target column_header  \n",
              "0  The font-versions that were available from Cor...  Last version  \n",
              "1  Shruti Haasan made a cameo appearance in Tamil...         Title  \n",
              "2  On the Assyrian King List, Sargon appears as t...          King  \n",
              "3  The Toronto Maple Leafs has won thirteen Stanl...          Wins  \n",
              "4  The game that opened the Elías Aguirre's parti...          Date  "
            ],
            "text/html": [
              "\n",
              "  <div id=\"df-59c795f3-c913-4d49-bd1e-b25296ab761d\">\n",
              "    <div class=\"colab-df-container\">\n",
              "      <div>\n",
              "<style scoped>\n",
              "    .dataframe tbody tr th:only-of-type {\n",
              "        vertical-align: middle;\n",
              "    }\n",
              "\n",
              "    .dataframe tbody tr th {\n",
              "        vertical-align: top;\n",
              "    }\n",
              "\n",
              "    .dataframe thead th {\n",
              "        text-align: right;\n",
              "    }\n",
              "</style>\n",
              "<table border=\"1\" class=\"dataframe\">\n",
              "  <thead>\n",
              "    <tr style=\"text-align: right;\">\n",
              "      <th></th>\n",
              "      <th>answer</th>\n",
              "      <th>coordinates</th>\n",
              "      <th>cells</th>\n",
              "      <th>aggregator</th>\n",
              "      <th>table_name</th>\n",
              "      <th>table_section_title</th>\n",
              "      <th>target</th>\n",
              "      <th>column_header</th>\n",
              "    </tr>\n",
              "  </thead>\n",
              "  <tbody>\n",
              "    <tr>\n",
              "      <th>0</th>\n",
              "      <td>version 1.03, version 1.01</td>\n",
              "      <td>[(28, 3), (29, 3)]</td>\n",
              "      <td>[version 1.03, version 1.01]</td>\n",
              "      <td>NONE</td>\n",
              "      <td>Core fonts for the Web</td>\n",
              "      <td>List of fonts and files</td>\n",
              "      <td>The font-versions that were available from Cor...</td>\n",
              "      <td>Last version</td>\n",
              "    </tr>\n",
              "    <tr>\n",
              "      <th>1</th>\n",
              "      <td>Hey Ram, Hey Ram</td>\n",
              "      <td>[(1, 0), (2, 0)]</td>\n",
              "      <td>[Hey Ram, Hey Ram]</td>\n",
              "      <td>NONE</td>\n",
              "      <td>Shruti Haasan filmography</td>\n",
              "      <td>Filmography</td>\n",
              "      <td>Shruti Haasan made a cameo appearance in Tamil...</td>\n",
              "      <td>Title</td>\n",
              "    </tr>\n",
              "    <tr>\n",
              "      <th>2</th>\n",
              "      <td>Sargon I Šarru-ukīn \"the king is legitimate\"</td>\n",
              "      <td>[(6, 2)]</td>\n",
              "      <td>[Sargon I Šarru-ukīn \"the king is legitimate\"]</td>\n",
              "      <td>NONE</td>\n",
              "      <td>List of Assyrian kings</td>\n",
              "      <td>Dynasty of Puzur-Ashur (2025–1749 BC)</td>\n",
              "      <td>On the Assyrian King List, Sargon appears as t...</td>\n",
              "      <td>King</td>\n",
              "    </tr>\n",
              "    <tr>\n",
              "      <th>3</th>\n",
              "      <td>COUNT &gt; 24, 13</td>\n",
              "      <td>[(1, 2), (3, 2)]</td>\n",
              "      <td>[24, 13]</td>\n",
              "      <td>COUNT</td>\n",
              "      <td>List of Stanley Cup champions</td>\n",
              "      <td>Active teams</td>\n",
              "      <td>The Toronto Maple Leafs has won thirteen Stanl...</td>\n",
              "      <td>Wins</td>\n",
              "    </tr>\n",
              "    <tr>\n",
              "      <th>4</th>\n",
              "      <td>7 July 2004, 7 July 2004, 10 July 2004, 10 Jul...</td>\n",
              "      <td>[(1, 0), (2, 0), (3, 0), (4, 0), (5, 0)]</td>\n",
              "      <td>[7 July 2004, 7 July 2004, 10 July 2004, 10 Ju...</td>\n",
              "      <td>NONE</td>\n",
              "      <td>Estadio Elías Aguirre</td>\n",
              "      <td>International matches hosted</td>\n",
              "      <td>The game that opened the Elías Aguirre's parti...</td>\n",
              "      <td>Date</td>\n",
              "    </tr>\n",
              "  </tbody>\n",
              "</table>\n",
              "</div>\n",
              "      <button class=\"colab-df-convert\" onclick=\"convertToInteractive('df-59c795f3-c913-4d49-bd1e-b25296ab761d')\"\n",
              "              title=\"Convert this dataframe to an interactive table.\"\n",
              "              style=\"display:none;\">\n",
              "        \n",
              "  <svg xmlns=\"http://www.w3.org/2000/svg\" height=\"24px\"viewBox=\"0 0 24 24\"\n",
              "       width=\"24px\">\n",
              "    <path d=\"M0 0h24v24H0V0z\" fill=\"none\"/>\n",
              "    <path d=\"M18.56 5.44l.94 2.06.94-2.06 2.06-.94-2.06-.94-.94-2.06-.94 2.06-2.06.94zm-11 1L8.5 8.5l.94-2.06 2.06-.94-2.06-.94L8.5 2.5l-.94 2.06-2.06.94zm10 10l.94 2.06.94-2.06 2.06-.94-2.06-.94-.94-2.06-.94 2.06-2.06.94z\"/><path d=\"M17.41 7.96l-1.37-1.37c-.4-.4-.92-.59-1.43-.59-.52 0-1.04.2-1.43.59L10.3 9.45l-7.72 7.72c-.78.78-.78 2.05 0 2.83L4 21.41c.39.39.9.59 1.41.59.51 0 1.02-.2 1.41-.59l7.78-7.78 2.81-2.81c.8-.78.8-2.07 0-2.86zM5.41 20L4 18.59l7.72-7.72 1.47 1.35L5.41 20z\"/>\n",
              "  </svg>\n",
              "      </button>\n",
              "      \n",
              "  <style>\n",
              "    .colab-df-container {\n",
              "      display:flex;\n",
              "      flex-wrap:wrap;\n",
              "      gap: 12px;\n",
              "    }\n",
              "\n",
              "    .colab-df-convert {\n",
              "      background-color: #E8F0FE;\n",
              "      border: none;\n",
              "      border-radius: 50%;\n",
              "      cursor: pointer;\n",
              "      display: none;\n",
              "      fill: #1967D2;\n",
              "      height: 32px;\n",
              "      padding: 0 0 0 0;\n",
              "      width: 32px;\n",
              "    }\n",
              "\n",
              "    .colab-df-convert:hover {\n",
              "      background-color: #E2EBFA;\n",
              "      box-shadow: 0px 1px 2px rgba(60, 64, 67, 0.3), 0px 1px 3px 1px rgba(60, 64, 67, 0.15);\n",
              "      fill: #174EA6;\n",
              "    }\n",
              "\n",
              "    [theme=dark] .colab-df-convert {\n",
              "      background-color: #3B4455;\n",
              "      fill: #D2E3FC;\n",
              "    }\n",
              "\n",
              "    [theme=dark] .colab-df-convert:hover {\n",
              "      background-color: #434B5C;\n",
              "      box-shadow: 0px 1px 3px 1px rgba(0, 0, 0, 0.15);\n",
              "      filter: drop-shadow(0px 1px 2px rgba(0, 0, 0, 0.3));\n",
              "      fill: #FFFFFF;\n",
              "    }\n",
              "  </style>\n",
              "\n",
              "      <script>\n",
              "        const buttonEl =\n",
              "          document.querySelector('#df-59c795f3-c913-4d49-bd1e-b25296ab761d button.colab-df-convert');\n",
              "        buttonEl.style.display =\n",
              "          google.colab.kernel.accessAllowed ? 'block' : 'none';\n",
              "\n",
              "        async function convertToInteractive(key) {\n",
              "          const element = document.querySelector('#df-59c795f3-c913-4d49-bd1e-b25296ab761d');\n",
              "          const dataTable =\n",
              "            await google.colab.kernel.invokeFunction('convertToInteractive',\n",
              "                                                     [key], {});\n",
              "          if (!dataTable) return;\n",
              "\n",
              "          const docLinkHtml = 'Like what you see? Visit the ' +\n",
              "            '<a target=\"_blank\" href=https://colab.research.google.com/notebooks/data_table.ipynb>data table notebook</a>'\n",
              "            + ' to learn more about interactive tables.';\n",
              "          element.innerHTML = '';\n",
              "          dataTable['output_type'] = 'display_data';\n",
              "          await google.colab.output.renderOutput(dataTable, element);\n",
              "          const docLink = document.createElement('div');\n",
              "          docLink.innerHTML = docLinkHtml;\n",
              "          element.appendChild(docLink);\n",
              "        }\n",
              "      </script>\n",
              "    </div>\n",
              "  </div>\n",
              "  "
            ]
          },
          "metadata": {},
          "execution_count": 43
        }
      ]
    },
    {
      "cell_type": "code",
      "execution_count": 44,
      "metadata": {
        "colab": {
          "base_uri": "https://localhost:8080/",
          "height": 333
        },
        "id": "ZmU9Znx6pN-q",
        "outputId": "440a0cb2-fbee-4b26-e09f-bf143e7a8c0e"
      },
      "outputs": [
        {
          "output_type": "execute_result",
          "data": {
            "text/plain": [
              "                                              answer  \\\n",
              "0                         version 1.03, version 1.01   \n",
              "1                                   Hey Ram, Hey Ram   \n",
              "2       Sargon I Šarru-ukīn \"the king is legitimate\"   \n",
              "3                                     COUNT > 24, 13   \n",
              "4  7 July 2004, 7 July 2004, 10 July 2004, 10 Jul...   \n",
              "\n",
              "                                              target column_header  \\\n",
              "0  The font-versions that were available from Cor...  Last version   \n",
              "1  Shruti Haasan made a cameo appearance in Tamil...         Title   \n",
              "2  On the Assyrian King List, Sargon appears as t...          King   \n",
              "3  The Toronto Maple Leafs has won thirteen Stanl...          Wins   \n",
              "4  The game that opened the Elías Aguirre's parti...          Date   \n",
              "\n",
              "                                       table_context  \n",
              "0  List of fonts and files in Core fonts for the Web  \n",
              "1           Filmography in Shruti Haasan filmography  \n",
              "2  Dynasty of Puzur-Ashur (2025–1749 BC) in List ...  \n",
              "3      Active teams in List of Stanley Cup champions  \n",
              "4  International matches hosted in Estadio Elías ...  "
            ],
            "text/html": [
              "\n",
              "  <div id=\"df-bced0b88-38f2-4ca1-ab02-e75cde35f0e9\">\n",
              "    <div class=\"colab-df-container\">\n",
              "      <div>\n",
              "<style scoped>\n",
              "    .dataframe tbody tr th:only-of-type {\n",
              "        vertical-align: middle;\n",
              "    }\n",
              "\n",
              "    .dataframe tbody tr th {\n",
              "        vertical-align: top;\n",
              "    }\n",
              "\n",
              "    .dataframe thead th {\n",
              "        text-align: right;\n",
              "    }\n",
              "</style>\n",
              "<table border=\"1\" class=\"dataframe\">\n",
              "  <thead>\n",
              "    <tr style=\"text-align: right;\">\n",
              "      <th></th>\n",
              "      <th>answer</th>\n",
              "      <th>target</th>\n",
              "      <th>column_header</th>\n",
              "      <th>table_context</th>\n",
              "    </tr>\n",
              "  </thead>\n",
              "  <tbody>\n",
              "    <tr>\n",
              "      <th>0</th>\n",
              "      <td>version 1.03, version 1.01</td>\n",
              "      <td>The font-versions that were available from Cor...</td>\n",
              "      <td>Last version</td>\n",
              "      <td>List of fonts and files in Core fonts for the Web</td>\n",
              "    </tr>\n",
              "    <tr>\n",
              "      <th>1</th>\n",
              "      <td>Hey Ram, Hey Ram</td>\n",
              "      <td>Shruti Haasan made a cameo appearance in Tamil...</td>\n",
              "      <td>Title</td>\n",
              "      <td>Filmography in Shruti Haasan filmography</td>\n",
              "    </tr>\n",
              "    <tr>\n",
              "      <th>2</th>\n",
              "      <td>Sargon I Šarru-ukīn \"the king is legitimate\"</td>\n",
              "      <td>On the Assyrian King List, Sargon appears as t...</td>\n",
              "      <td>King</td>\n",
              "      <td>Dynasty of Puzur-Ashur (2025–1749 BC) in List ...</td>\n",
              "    </tr>\n",
              "    <tr>\n",
              "      <th>3</th>\n",
              "      <td>COUNT &gt; 24, 13</td>\n",
              "      <td>The Toronto Maple Leafs has won thirteen Stanl...</td>\n",
              "      <td>Wins</td>\n",
              "      <td>Active teams in List of Stanley Cup champions</td>\n",
              "    </tr>\n",
              "    <tr>\n",
              "      <th>4</th>\n",
              "      <td>7 July 2004, 7 July 2004, 10 July 2004, 10 Jul...</td>\n",
              "      <td>The game that opened the Elías Aguirre's parti...</td>\n",
              "      <td>Date</td>\n",
              "      <td>International matches hosted in Estadio Elías ...</td>\n",
              "    </tr>\n",
              "  </tbody>\n",
              "</table>\n",
              "</div>\n",
              "      <button class=\"colab-df-convert\" onclick=\"convertToInteractive('df-bced0b88-38f2-4ca1-ab02-e75cde35f0e9')\"\n",
              "              title=\"Convert this dataframe to an interactive table.\"\n",
              "              style=\"display:none;\">\n",
              "        \n",
              "  <svg xmlns=\"http://www.w3.org/2000/svg\" height=\"24px\"viewBox=\"0 0 24 24\"\n",
              "       width=\"24px\">\n",
              "    <path d=\"M0 0h24v24H0V0z\" fill=\"none\"/>\n",
              "    <path d=\"M18.56 5.44l.94 2.06.94-2.06 2.06-.94-2.06-.94-.94-2.06-.94 2.06-2.06.94zm-11 1L8.5 8.5l.94-2.06 2.06-.94-2.06-.94L8.5 2.5l-.94 2.06-2.06.94zm10 10l.94 2.06.94-2.06 2.06-.94-2.06-.94-.94-2.06-.94 2.06-2.06.94z\"/><path d=\"M17.41 7.96l-1.37-1.37c-.4-.4-.92-.59-1.43-.59-.52 0-1.04.2-1.43.59L10.3 9.45l-7.72 7.72c-.78.78-.78 2.05 0 2.83L4 21.41c.39.39.9.59 1.41.59.51 0 1.02-.2 1.41-.59l7.78-7.78 2.81-2.81c.8-.78.8-2.07 0-2.86zM5.41 20L4 18.59l7.72-7.72 1.47 1.35L5.41 20z\"/>\n",
              "  </svg>\n",
              "      </button>\n",
              "      \n",
              "  <style>\n",
              "    .colab-df-container {\n",
              "      display:flex;\n",
              "      flex-wrap:wrap;\n",
              "      gap: 12px;\n",
              "    }\n",
              "\n",
              "    .colab-df-convert {\n",
              "      background-color: #E8F0FE;\n",
              "      border: none;\n",
              "      border-radius: 50%;\n",
              "      cursor: pointer;\n",
              "      display: none;\n",
              "      fill: #1967D2;\n",
              "      height: 32px;\n",
              "      padding: 0 0 0 0;\n",
              "      width: 32px;\n",
              "    }\n",
              "\n",
              "    .colab-df-convert:hover {\n",
              "      background-color: #E2EBFA;\n",
              "      box-shadow: 0px 1px 2px rgba(60, 64, 67, 0.3), 0px 1px 3px 1px rgba(60, 64, 67, 0.15);\n",
              "      fill: #174EA6;\n",
              "    }\n",
              "\n",
              "    [theme=dark] .colab-df-convert {\n",
              "      background-color: #3B4455;\n",
              "      fill: #D2E3FC;\n",
              "    }\n",
              "\n",
              "    [theme=dark] .colab-df-convert:hover {\n",
              "      background-color: #434B5C;\n",
              "      box-shadow: 0px 1px 3px 1px rgba(0, 0, 0, 0.15);\n",
              "      filter: drop-shadow(0px 1px 2px rgba(0, 0, 0, 0.3));\n",
              "      fill: #FFFFFF;\n",
              "    }\n",
              "  </style>\n",
              "\n",
              "      <script>\n",
              "        const buttonEl =\n",
              "          document.querySelector('#df-bced0b88-38f2-4ca1-ab02-e75cde35f0e9 button.colab-df-convert');\n",
              "        buttonEl.style.display =\n",
              "          google.colab.kernel.accessAllowed ? 'block' : 'none';\n",
              "\n",
              "        async function convertToInteractive(key) {\n",
              "          const element = document.querySelector('#df-bced0b88-38f2-4ca1-ab02-e75cde35f0e9');\n",
              "          const dataTable =\n",
              "            await google.colab.kernel.invokeFunction('convertToInteractive',\n",
              "                                                     [key], {});\n",
              "          if (!dataTable) return;\n",
              "\n",
              "          const docLinkHtml = 'Like what you see? Visit the ' +\n",
              "            '<a target=\"_blank\" href=https://colab.research.google.com/notebooks/data_table.ipynb>data table notebook</a>'\n",
              "            + ' to learn more about interactive tables.';\n",
              "          element.innerHTML = '';\n",
              "          dataTable['output_type'] = 'display_data';\n",
              "          await google.colab.output.renderOutput(dataTable, element);\n",
              "          const docLink = document.createElement('div');\n",
              "          docLink.innerHTML = docLinkHtml;\n",
              "          element.appendChild(docLink);\n",
              "        }\n",
              "      </script>\n",
              "    </div>\n",
              "  </div>\n",
              "  "
            ]
          },
          "metadata": {},
          "execution_count": 44
        }
      ],
      "source": [
        "dart_df_filtered.head()"
      ]
    },
    {
      "cell_type": "code",
      "execution_count": 66,
      "metadata": {
        "colab": {
          "base_uri": "https://localhost:8080/",
          "height": 37
        },
        "id": "oOzzl8LqFI3X",
        "outputId": "40ce3883-af47-42f5-a3a3-b6e6e9e5ac3c"
      },
      "outputs": [
        {
          "output_type": "execute_result",
          "data": {
            "text/plain": [
              "'Shruti Haasan made a cameo appearance in Tamil-Hindi bilingual directorial Hey Ram (2000).'"
            ],
            "application/vnd.google.colaboratory.intrinsic+json": {
              "type": "string"
            }
          },
          "metadata": {},
          "execution_count": 66
        }
      ],
      "source": [
        "dart_df_filtered[\"target\"][1]"
      ]
    },
    {
      "cell_type": "code",
      "execution_count": 55,
      "metadata": {
        "id": "tyZHrNj8FI0Z"
      },
      "outputs": [],
      "source": [
        "import pandas as pd\n",
        "import torch\n",
        "from transformers import T5Tokenizer, T5ForConditionalGeneration,Adafactor"
      ]
    },
    {
      "cell_type": "code",
      "execution_count": 56,
      "metadata": {
        "id": "xbbhvmaaFIyR"
      },
      "outputs": [],
      "source": [
        "batch_size=8\n",
        "num_of_batches=len(dart_df_filtered)/batch_size"
      ]
    },
    {
      "cell_type": "code",
      "execution_count": 57,
      "metadata": {
        "colab": {
          "base_uri": "https://localhost:8080/"
        },
        "id": "2hsjyZDEFIub",
        "outputId": "111a1b2b-cb0d-4fbc-a570-44228d8b47a6"
      },
      "outputs": [
        {
          "output_type": "stream",
          "name": "stdout",
          "text": [
            "Running on the GPU\n"
          ]
        }
      ],
      "source": [
        "if torch.cuda.is_available():\n",
        "   dev = torch.device(\"cuda:0\")\n",
        "   print(\"Running on the GPU\")\n",
        "else:\n",
        "   dev = torch.device(\"cpu\")\n",
        "   print(\"Running on the CPU\")"
      ]
    },
    {
      "cell_type": "code",
      "execution_count": null,
      "metadata": {
        "id": "sbNkxfIxFIrs"
      },
      "outputs": [],
      "source": [
        "tokenizer = T5Tokenizer.from_pretrained('t5-base')\n",
        "model = T5ForConditionalGeneration.from_pretrained('t5-base',\n",
        "                                             return_dict=True)\n",
        "#moving the model to GPU\n",
        "model.to(dev)"
      ]
    },
    {
      "cell_type": "code",
      "execution_count": 59,
      "metadata": {
        "id": "fu9MrswQMn45"
      },
      "outputs": [],
      "source": [
        "optimizer = Adafactor(model.parameters(),lr=1e-3,\n",
        "                      eps=(1e-30, 1e-3),\n",
        "                      clip_threshold=1.0,\n",
        "                      decay_rate=-0.8,\n",
        "                      beta1=None,\n",
        "                      weight_decay=0.0,\n",
        "                      relative_step=False,\n",
        "                      scale_parameter=False,\n",
        "                      warmup_init=False)\n"
      ]
    },
    {
      "cell_type": "code",
      "execution_count": 60,
      "metadata": {
        "id": "ZGuxw1-WNWyr"
      },
      "outputs": [],
      "source": [
        "from IPython.display import HTML, display\n",
        "def progress(loss,value, max=100):\n",
        " return HTML(\"\"\" Batch loss :{loss}\n",
        "      <progress    \n",
        "value='{value}'max='{max}',style='width: 100%'>{value}\n",
        "      </progress>\n",
        "             \"\"\".format(loss=loss,value=value, max=max))"
      ]
    },
    {
      "cell_type": "code",
      "source": [
        "input = dart_df_filtered[\"answer\"][0]\n",
        "label = dart_df_filtered[\"target\"][0]\n",
        "# print(tokenizer)\n",
        "tokenizer.batch_encode_plus(input,padding=True,max_length=400,return_tensors='pt')[\"input_ids\"]"
      ],
      "metadata": {
        "id": "uXw7DGZfoMH-"
      },
      "execution_count": null,
      "outputs": []
    },
    {
      "cell_type": "code",
      "execution_count": 62,
      "metadata": {
        "colab": {
          "base_uri": "https://localhost:8080/",
          "height": 275
        },
        "id": "Uzy_peFJNWv4",
        "outputId": "aea96f36-cc14-43e4-9b64-196cf4b51b41"
      },
      "outputs": [
        {
          "output_type": "stream",
          "name": "stdout",
          "text": [
            "Running epoch: 1\n"
          ]
        },
        {
          "output_type": "display_data",
          "data": {
            "text/plain": [
              "<IPython.core.display.HTML object>"
            ],
            "text/html": [
              " Batch loss :1.673728585243225\n",
              "      <progress    \n",
              "value='124'max='126.0',style='width: 100%'>124\n",
              "      </progress>\n",
              "             "
            ]
          },
          "metadata": {}
        },
        {
          "output_type": "stream",
          "name": "stderr",
          "text": [
            "/usr/local/lib/python3.7/dist-packages/transformers/models/t5/tokenization_t5.py:175: UserWarning: This sequence already has </s>. In future versions this behavior may lead to duplicated eos tokens being added.\n",
            "  f\"This sequence already has {self.eos_token}. In future versions this behavior may lead to duplicated eos tokens being added.\"\n"
          ]
        },
        {
          "output_type": "stream",
          "name": "stdout",
          "text": [
            "Epoch: 1 , Running loss: 2.0413947010040285\n",
            "Running epoch: 2\n"
          ]
        },
        {
          "output_type": "display_data",
          "data": {
            "text/plain": [
              "<IPython.core.display.HTML object>"
            ],
            "text/html": [
              " Batch loss :1.2544413805007935\n",
              "      <progress    \n",
              "value='124'max='126.0',style='width: 100%'>124\n",
              "      </progress>\n",
              "             "
            ]
          },
          "metadata": {}
        },
        {
          "output_type": "stream",
          "name": "stdout",
          "text": [
            "Epoch: 2 , Running loss: 1.5181000323295593\n",
            "Running epoch: 3\n"
          ]
        },
        {
          "output_type": "display_data",
          "data": {
            "text/plain": [
              "<IPython.core.display.HTML object>"
            ],
            "text/html": [
              " Batch loss :1.0043967962265015\n",
              "      <progress    \n",
              "value='124'max='126.0',style='width: 100%'>124\n",
              "      </progress>\n",
              "             "
            ]
          },
          "metadata": {}
        },
        {
          "output_type": "stream",
          "name": "stdout",
          "text": [
            "Epoch: 3 , Running loss: 1.1902403931617738\n",
            "Running epoch: 4\n"
          ]
        },
        {
          "output_type": "display_data",
          "data": {
            "text/plain": [
              "<IPython.core.display.HTML object>"
            ],
            "text/html": [
              " Batch loss :0.6804481744766235\n",
              "      <progress    \n",
              "value='124'max='126.0',style='width: 100%'>124\n",
              "      </progress>\n",
              "             "
            ]
          },
          "metadata": {}
        },
        {
          "output_type": "stream",
          "name": "stdout",
          "text": [
            "Epoch: 4 , Running loss: 0.9403363742828369\n"
          ]
        }
      ],
      "source": [
        "#Sets the module in training mode\n",
        "model.train()\n",
        "num_of_epochs = 4\n",
        "loss_per_10_steps=[]\n",
        "for epoch in range(1,num_of_epochs+1):\n",
        "  print('Running epoch: {}'.format(epoch))\n",
        "  \n",
        "  running_loss=0\n",
        "\n",
        "  out = display(progress(1, num_of_batches+1), display_id=True)\n",
        "  for i in range(int(num_of_batches)):\n",
        "    inputbatch=[]\n",
        "    labelbatch=[]\n",
        "    new_df=dart_df_filtered[i*batch_size:i*batch_size+batch_size]\n",
        "    for indx,row in new_df.iterrows():\n",
        "      # input = 'WebNLG: '+row['input_text']+'</s>'\n",
        "      input = 'WebNLG: '+row['answer']+'</s>'+row['column_header']+'</s>'+row['table_context']+'</s>' \n",
        "      labels = row['target']+'</s>'   \n",
        "      inputbatch.append(input)\n",
        "      labelbatch.append(labels)\n",
        "    inputbatch=tokenizer.batch_encode_plus(inputbatch,padding=True,max_length=400,return_tensors='pt')[\"input_ids\"]\n",
        "    labelbatch=tokenizer.batch_encode_plus(labelbatch,padding=True,max_length=400,return_tensors=\"pt\") [\"input_ids\"]\n",
        "    inputbatch=inputbatch.to(dev)\n",
        "    labelbatch=labelbatch.to(dev)\n",
        "\n",
        "    # clear out the gradients of all Variables \n",
        "    optimizer.zero_grad()\n",
        "\n",
        "    # Forward propogation\n",
        "    outputs = model(input_ids=inputbatch, labels=labelbatch)\n",
        "    loss = outputs.loss\n",
        "    loss_num=loss.item()\n",
        "    logits = outputs.logits\n",
        "    running_loss+=loss_num\n",
        "    if i%10 ==0:      \n",
        "      loss_per_10_steps.append(loss_num)\n",
        "    out.update(progress(loss_num,i, num_of_batches+1))\n",
        "\n",
        "    # calculating the gradients\n",
        "    loss.backward()\n",
        "\n",
        "    #updating the params\n",
        "    optimizer.step()\n",
        "    \n",
        "  running_loss=running_loss/int(num_of_batches)\n",
        "  print('Epoch: {} , Running loss: {}'.format(epoch,running_loss))"
      ]
    },
    {
      "cell_type": "code",
      "execution_count": 63,
      "metadata": {
        "id": "lzLlNIFsNWtL"
      },
      "outputs": [],
      "source": [
        "torch.save(model.state_dict(),'model/pytorch_model.bin')"
      ]
    },
    {
      "cell_type": "code",
      "execution_count": 26,
      "metadata": {
        "colab": {
          "base_uri": "https://localhost:8080/"
        },
        "id": "qeJl0VZPNWqL",
        "outputId": "92db27d8-ec30-4db3-91c2-8db692e7a0d5"
      },
      "outputs": [
        {
          "output_type": "stream",
          "name": "stdout",
          "text": [
            "--2022-05-04 20:05:36--  https://s3.amazonaws.com/models.huggingface.co/bert/t5-base-config.json\n",
            "Resolving s3.amazonaws.com (s3.amazonaws.com)... 52.217.131.8\n",
            "Connecting to s3.amazonaws.com (s3.amazonaws.com)|52.217.131.8|:443... connected.\n",
            "HTTP request sent, awaiting response... 200 OK\n",
            "Length: 1199 (1.2K) [application/json]\n",
            "Saving to: ‘t5-base-config.json’\n",
            "\n",
            "t5-base-config.json 100%[===================>]   1.17K  --.-KB/s    in 0s      \n",
            "\n",
            "2022-05-04 20:05:37 (50.6 MB/s) - ‘t5-base-config.json’ saved [1199/1199]\n",
            "\n"
          ]
        }
      ],
      "source": [
        "!wget https://s3.amazonaws.com/models.huggingface.co/bert/t5-base-config.json\n",
        "# url = https://s3.amazonaws.com/models.huggingface.co/bert/t5-base-config.json\n",
        "# output_directory = 'model'\n",
        "# filename = wget.download(url, out=output_directory)"
      ]
    },
    {
      "cell_type": "code",
      "execution_count": 64,
      "metadata": {
        "id": "0duihEEZNWnJ"
      },
      "outputs": [],
      "source": [
        "tokenizer = T5Tokenizer.from_pretrained('t5-base')\n",
        "model =T5ForConditionalGeneration.from_pretrained('model', \n",
        "                                                return_dict=True)\n",
        "def generate(text,model,tokenizer):\n",
        "   model.eval()\n",
        "   input_ids = tokenizer.encode(\"WebNLG:{} </s>\".format(text), \n",
        "                               return_tensors=\"pt\")  \n",
        "   outputs = model.generate(input_ids)\n",
        "   return tokenizer.decode(outputs[0])"
      ]
    },
    {
      "cell_type": "code",
      "execution_count": 65,
      "metadata": {
        "id": "YIKpR8DONWbQ",
        "colab": {
          "base_uri": "https://localhost:8080/",
          "height": 91
        },
        "outputId": "555fa7bf-63e9-4e3d-f225-8f842cfecf44"
      },
      "outputs": [
        {
          "output_type": "stream",
          "name": "stderr",
          "text": [
            "/usr/local/lib/python3.7/dist-packages/transformers/models/t5/tokenization_t5.py:175: UserWarning: This sequence already has </s>. In future versions this behavior may lead to duplicated eos tokens being added.\n",
            "  f\"This sequence already has {self.eos_token}. In future versions this behavior may lead to duplicated eos tokens being added.\"\n"
          ]
        },
        {
          "output_type": "execute_result",
          "data": {
            "text/plain": [
              "'<pad> The fonts used for the Web site were the fonts released in the United Kingdom in 2001'"
            ],
            "application/vnd.google.colaboratory.intrinsic+json": {
              "type": "string"
            }
          },
          "metadata": {},
          "execution_count": 65
        }
      ],
      "source": [
        "generate(\"version 1.03, version 1.01 | Last version | List of fonts and files in Core fonts for the Web\",model,tokenizer)"
      ]
    },
    {
      "cell_type": "code",
      "source": [
        "generate(\"Hey Ram, Hey Ram | Title | Filmography in Shruti Haasan filmography\",model,tokenizer)"
      ],
      "metadata": {
        "colab": {
          "base_uri": "https://localhost:8080/",
          "height": 91
        },
        "id": "IfUo43yF02Me",
        "outputId": "f0ff1b84-a51f-4c0b-c182-2a79f6df32a1"
      },
      "execution_count": 67,
      "outputs": [
        {
          "output_type": "stream",
          "name": "stderr",
          "text": [
            "/usr/local/lib/python3.7/dist-packages/transformers/models/t5/tokenization_t5.py:175: UserWarning: This sequence already has </s>. In future versions this behavior may lead to duplicated eos tokens being added.\n",
            "  f\"This sequence already has {self.eos_token}. In future versions this behavior may lead to duplicated eos tokens being added.\"\n"
          ]
        },
        {
          "output_type": "execute_result",
          "data": {
            "text/plain": [
              "'<pad> Shruti Haasan made the film \"Hey Ram\" in Hindi and Hey'"
            ],
            "application/vnd.google.colaboratory.intrinsic+json": {
              "type": "string"
            }
          },
          "metadata": {},
          "execution_count": 67
        }
      ]
    }
  ],
  "metadata": {
    "accelerator": "GPU",
    "colab": {
      "collapsed_sections": [],
      "name": "tapas_finetune.ipynb",
      "provenance": [],
      "include_colab_link": true
    },
    "kernelspec": {
      "display_name": "Python 3",
      "name": "python3"
    },
    "language_info": {
      "name": "python"
    }
  },
  "nbformat": 4,
  "nbformat_minor": 0
}