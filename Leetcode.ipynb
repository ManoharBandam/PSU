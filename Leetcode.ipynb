{
  "nbformat": 4,
  "nbformat_minor": 0,
  "metadata": {
    "colab": {
      "name": "Leetcode.ipynb",
      "provenance": [],
      "collapsed_sections": [],
      "toc_visible": true,
      "include_colab_link": true
    },
    "kernelspec": {
      "name": "python3",
      "display_name": "Python 3"
    },
    "language_info": {
      "name": "python"
    }
  },
  "cells": [
    {
      "cell_type": "markdown",
      "metadata": {
        "id": "view-in-github",
        "colab_type": "text"
      },
      "source": [
        "<a href=\"https://colab.research.google.com/github/ManoharBandam/PSU/blob/master/Leetcode.ipynb\" target=\"_parent\"><img src=\"https://colab.research.google.com/assets/colab-badge.svg\" alt=\"Open In Colab\"/></a>"
      ]
    },
    {
      "cell_type": "markdown",
      "source": [
        "### CISCO"
      ],
      "metadata": {
        "id": "qX_8khcTBi3T"
      }
    },
    {
      "cell_type": "code",
      "source": [
        "### CISCO"
      ],
      "metadata": {
        "id": "edt9IYfkSr5Q"
      },
      "execution_count": null,
      "outputs": []
    },
    {
      "cell_type": "code",
      "source": [
        "#### CISCO. ####"
      ],
      "metadata": {
        "id": "rA5dL_keSr3A"
      },
      "execution_count": null,
      "outputs": []
    },
    {
      "cell_type": "code",
      "execution_count": null,
      "metadata": {
        "colab": {
          "base_uri": "https://localhost:8080/"
        },
        "id": "xTfcwNjRQZTT",
        "outputId": "f0401e1e-0cf5-4d48-bb04-26adcaeb753f"
      },
      "outputs": [
        {
          "output_type": "stream",
          "name": "stdout",
          "text": [
            "W B W B W\n",
            "B W B W B\n",
            "W B W B W\n",
            "B W B W B\n",
            "W B W B W\n"
          ]
        }
      ],
      "source": [
        "def chessBoardPattern(num):\n",
        "  s1 = []\n",
        "  s2 = []\n",
        "  result = []\n",
        "  for i in range(0,num):\n",
        "    if i%2 == 0:\n",
        "      s1.append('W')\n",
        "      s2.append('B')\n",
        "    else:\n",
        "      s1.append('B')\n",
        "      s2.append('W')\n",
        "  for i in range(0,num):\n",
        "    if i%2 == 0:\n",
        "      result.append(s1)\n",
        "    else:\n",
        "      result.append(s2)\n",
        "  return result\n",
        "\n",
        "def main():\n",
        "  # num = int(raw_input())\n",
        "  num = 5\n",
        "  result = chessBoardPattern(num)\n",
        "\n",
        "  for i in range(len(result)):\n",
        "    temp = result[i]\n",
        "    print(\" \".join([str(res) for res in temp]))\n",
        "\n",
        "if __name__ == \"__main__\":\n",
        "  main()"
      ]
    },
    {
      "cell_type": "code",
      "source": [
        "def isPrime(elements):\n",
        "  result = []\n",
        "  for i in elements:\n",
        "    if(i == 2):\n",
        "      result.append(\"Prime\")\n",
        "    else:\n",
        "      flag = True\n",
        "      for j in range(2,i):\n",
        "        if i%j == 0:\n",
        "          result.append(\"Composite\")\n",
        "          flag = False\n",
        "          break\n",
        "      if flag:\n",
        "          result.append(\"Prime\")\n",
        "  return result\n",
        "\n",
        "\n",
        "def main():\n",
        "  elements = []\n",
        "  # size = int(raw_input())\n",
        "  size = \"4 11 34 29 7\"\n",
        "  elements = list(map(int, size.split()))\n",
        "\n",
        "  result = isPrime(elements)\n",
        "  print(\" \".join([str(res) for res in result]))\n",
        "\n",
        "if __name__ == \"__main__\":\n",
        "  main()"
      ],
      "metadata": {
        "colab": {
          "base_uri": "https://localhost:8080/"
        },
        "id": "XlRuO9gpSvLU",
        "outputId": "fd93d1d1-4b54-41a1-dcfa-6ce1b1f9520e"
      },
      "execution_count": null,
      "outputs": [
        {
          "output_type": "stream",
          "name": "stdout",
          "text": [
            "Composite Prime Composite Prime Prime\n"
          ]
        }
      ]
    },
    {
      "cell_type": "code",
      "source": [
        ""
      ],
      "metadata": {
        "id": "upvOFHiphykz"
      },
      "execution_count": null,
      "outputs": []
    },
    {
      "cell_type": "code",
      "source": [
        "def validate_ip_address(address):\n",
        "    parts = address.split(\".\")\n",
        "\n",
        "    if len(parts) != 4:\n",
        "        print(\"IP address {} is not valid\".format(address))\n",
        "        return False\n",
        "\n",
        "    for part in parts:\n",
        "        # print(part[0])\n",
        "        # print(len(part))\n",
        "        if not isinstance(int(part), int):\n",
        "            print(\"IP address {} is not valid\".format(address))\n",
        "            return False\n",
        "\n",
        "        if int(part) < 0 or int(part) > 255 or (part[0] == '0' and len(part)!=1):\n",
        "            print(\"IP address {} is not valid\".format(address))\n",
        "            return False\n",
        " \n",
        "    print(\"IP address {} is valid\".format(address))\n",
        "    return True \n",
        "\n",
        "def main():\n",
        "  # addressIp = int(raw_input())\n",
        "  addressIp = \"01.123.23.4\"\n",
        "  result = validate_ip_address(addressIp)\n",
        "  print(result)\n",
        "\n",
        "if __name__ == \"__main__\":\n",
        "  main()"
      ],
      "metadata": {
        "colab": {
          "base_uri": "https://localhost:8080/"
        },
        "id": "IpZ2g_bGUgIY",
        "outputId": "b3b877b9-e1a2-4d7d-e8e4-8bd27d4a32dc"
      },
      "execution_count": null,
      "outputs": [
        {
          "output_type": "stream",
          "name": "stdout",
          "text": [
            "0\n",
            "2\n",
            "IP address 01.123.23.4 is not valid\n",
            "False\n"
          ]
        }
      ]
    },
    {
      "cell_type": "code",
      "source": [
        "def digitSum(a,b):\n",
        "  count = 0\n",
        "  for i in range(a):\n",
        "    a_str = str(i)\n",
        "    temp_sum = 0\n",
        "    for j in range(len(a_str)):\n",
        "      # print(int(a_str[j]),temp_sum)\n",
        "      temp_sum +=  int(a_str[j])\n",
        "    if temp_sum == b:\n",
        "      count += 1\n",
        "  return count\n",
        "\n",
        "def main():\n",
        "  # addressIp = int(raw_input())\n",
        "  a = 20\n",
        "  b = 5\n",
        "  result = digitSum(a,b)\n",
        "  print(result)\n",
        "\n",
        "if __name__ == \"__main__\":\n",
        "  main()"
      ],
      "metadata": {
        "colab": {
          "base_uri": "https://localhost:8080/"
        },
        "id": "88WG08UIY9js",
        "outputId": "1034ddb7-938d-4c0a-d785-4781f39f2d0f"
      },
      "execution_count": null,
      "outputs": [
        {
          "output_type": "stream",
          "name": "stdout",
          "text": [
            "2\n"
          ]
        }
      ]
    },
    {
      "cell_type": "code",
      "source": [
        "def countOfBitSets(numInput):\n",
        "\t# Write your code here\n",
        "\tcount = 0\n",
        "\twhile(numInput>0):\n",
        "\t\tcount += numInput%2\n",
        "\t\tnumInput = numInput/2\n",
        "\treturn count\n",
        "\n",
        "def main():\n",
        "\t# input for numInput\n",
        "\t# numInput = int(raw_input())\n",
        "\tnumInput = 18\n",
        "\tresult = countOfBitSets(numInput)\n",
        "\tprint(int(result))\t\n",
        "\n",
        "if __name__ == \"__main__\":\n",
        "\tmain()"
      ],
      "metadata": {
        "colab": {
          "base_uri": "https://localhost:8080/"
        },
        "id": "SK-F3RsjhF_r",
        "outputId": "3d2d4de4-ea10-439d-87d9-48a8ec2cbbef"
      },
      "execution_count": null,
      "outputs": [
        {
          "output_type": "stream",
          "name": "stdout",
          "text": [
            "4\n"
          ]
        }
      ]
    },
    {
      "cell_type": "markdown",
      "source": [
        "Amazon"
      ],
      "metadata": {
        "id": "LvMcm-ukA8jv"
      }
    },
    {
      "cell_type": "code",
      "source": [
        "# Python 3 program to count number\n",
        "# of strictly decreasing subarrays\n",
        "# in O(n) time.\n",
        " \n",
        "# Function to count the number of\n",
        "# strictly decreasing subarrays\n",
        "def countDecreasing(A, n):\n",
        " \n",
        "    cnt = 0 # Initialize result\n",
        " \n",
        "    # Initialize length of current\n",
        "    # decreasing subarray\n",
        "    len = 1\n",
        " \n",
        "    # Traverse through the array\n",
        "    for i in range (n - 1) :\n",
        "         \n",
        "        # If arr[i+1] is less than arr[i],\n",
        "        # then increment length\n",
        "        if (A[i + 1] == A[i]-1):\n",
        "            len += 1\n",
        " \n",
        "        # Else Update count and\n",
        "        # reset length\n",
        "        else :\n",
        "            cnt += (((len - 1) * len) // 2);\n",
        "            len = 1\n",
        "     \n",
        "    # If last length is more than 1\n",
        "    if (len > 1):\n",
        "        cnt += (((len - 1) * len) // 2)\n",
        " \n",
        "    return cnt+n\n",
        " \n",
        "# Driver Code\n",
        "if __name__==\"__main__\":\n",
        " \n",
        "    A = [ 100, 4, 3, 2, 1, 13 ]\n",
        "    n = len(A)\n",
        " \n",
        "    print (countDecreasing(A, n))\n",
        " "
      ],
      "metadata": {
        "colab": {
          "base_uri": "https://localhost:8080/"
        },
        "id": "59F4Nsr1A8Np",
        "outputId": "4652c900-0a74-464c-8f0e-57dda42cd515"
      },
      "execution_count": null,
      "outputs": [
        {
          "output_type": "stream",
          "name": "stdout",
          "text": [
            "12\n"
          ]
        }
      ]
    },
    {
      "cell_type": "code",
      "source": [
        "#alternate way\n",
        "# Python 3 program to count number\n",
        "# of strictly decreasing subarrays\n",
        "# in O(n) time.\n",
        "import numpy as np\n",
        " \n",
        "# Function to count the number of\n",
        "# strictly decreasing subarrays\n",
        "def countDecreasing(A, n):\n",
        "    # count = np.ones(n)\n",
        "    count = [1] * n\n",
        "    for i in range(n-2):\n",
        "      i=i+1\n",
        "      if(A[i+1]==A[i]-1):\n",
        "        count[i]+=count[i-1]\n",
        "    return int(sum(count))\n",
        " \n",
        "if __name__==\"__main__\":\n",
        " \n",
        "    A = [ 100, 4, 3, 2, 5 ,4, 1, 13 ]\n",
        "    n = len(A)\n",
        " \n",
        "    print (countDecreasing(A, n))\n",
        " "
      ],
      "metadata": {
        "colab": {
          "base_uri": "https://localhost:8080/"
        },
        "id": "1lRkd36dCXNU",
        "outputId": "f074e478-e389-40e4-ad5e-a737280469ba"
      },
      "execution_count": null,
      "outputs": [
        {
          "output_type": "stream",
          "name": "stdout",
          "text": [
            "12\n"
          ]
        }
      ]
    },
    {
      "cell_type": "code",
      "source": [
        "# You are given two non-empty linked lists representing two non-negative integers. \n",
        "# The digits are stored in reverse order, and each of their nodes contains a single digit. Add the two numbers and return the sum as a linked list.\n",
        "\n",
        "# You may assume the two numbers do not contain any leading zero, except the number 0 itself.\n",
        "# Input: l1 = [2,4,3], l2 = [5,6,4]\n",
        "# Output: [7,0,8]\n",
        "# Explanation: 342 + 465 = 807.\n",
        "\n",
        "# Input: l1 = [9,9,9,9,9,9,9], l2 = [9,9,9,9]\n",
        "# Output: [8,9,9,9,0,0,0,1]"
      ],
      "metadata": {
        "id": "fbY4do8tWhb3"
      },
      "execution_count": null,
      "outputs": []
    },
    {
      "cell_type": "code",
      "source": [
        "# Definition for singly-linked list.\n",
        "# class ListNode(object):\n",
        "#     def __init__(self, val=0, next=None):\n",
        "#         self.val = val\n",
        "#         self.next = next\n",
        "class Solution(object):\n",
        "    def addTwoNumbers(l1, l2):\n",
        "        \"\"\"\n",
        "        :type l1: ListNode\n",
        "        :type l2: ListNode\n",
        "        :rtype: ListNode\n",
        "        \"\"\"\n",
        "        str1 = ''.join(map(str,l1))\n",
        "        str2 = ''.join(map(str,l2))\n",
        "        merged_int = int(str1)+int(str2)\n",
        "        reverse_str = str(merged_int)[::-1]\n",
        "        merged_str = list(map(int, reverse_str.split(\" \")))\n",
        "        return str(merged_str)\n",
        "\n",
        "\n",
        "    if __name__==\"__main__\":\n",
        "      A = [ 2,4,3 ]\n",
        "      B = [5,6,4]\n",
        "      l1 = [9,9,9,9,9,9,9]\n",
        "      l2 = [9,9,9,9]\n",
        "      print(addTwoNumbers(l1,l2))"
      ],
      "metadata": {
        "colab": {
          "base_uri": "https://localhost:8080/"
        },
        "id": "OymAQCT5WukG",
        "outputId": "5d50a6a3-21d6-4eb5-baa1-f8aa328c34ac"
      },
      "execution_count": null,
      "outputs": [
        {
          "output_type": "stream",
          "name": "stdout",
          "text": [
            "[89990001]\n"
          ]
        }
      ]
    },
    {
      "cell_type": "code",
      "source": [
        ""
      ],
      "metadata": {
        "id": "JpobYT5uaTok"
      },
      "execution_count": null,
      "outputs": []
    },
    {
      "cell_type": "code",
      "source": [
        "# Given a string s, find the length of the longest substring without repeating characters.\n",
        "\n",
        "# Input: s = \"abcabcbb\"\n",
        "# Output: 3\n",
        "# Explanation: The answer is \"abc\", with the length of 3.\n",
        "\n",
        "# Input: s = \"bbbbb\"\n",
        "# Output: 1\n",
        "# Explanation: The answer is \"b\", with the length of 1.\n",
        "\n",
        "# Input: s = \"pwwkew\"\n",
        "# Output: 3\n",
        "# Explanation: The answer is \"wke\", with the length of 3.\n",
        "# Notice that the answer must be a substring, \"pwke\" is a subsequence and not a substring."
      ],
      "metadata": {
        "id": "rgP_ReTMaUp0"
      },
      "execution_count": null,
      "outputs": []
    },
    {
      "cell_type": "code",
      "source": [
        "class Solution(object):\n",
        "    def lengthOfLongestSubstring(string):\n",
        "    \n",
        "        # last index of every character\n",
        "        last_idx = {}\n",
        "        max_len = 0\n",
        "    \n",
        "        # starting index of current\n",
        "        # window to calculate max_len\n",
        "        start_idx = 0\n",
        "    \n",
        "        for i in range(0, len(string)):\n",
        "          \n",
        "            # Find the last index of str[i]\n",
        "            # Update start_idx (starting index of current window)\n",
        "            # as maximum of current value of start_idx and last\n",
        "            # index plus 1\n",
        "            if string[i] in last_idx:\n",
        "                start_idx = max(start_idx, last_idx[string[i]] + 1)\n",
        "    \n",
        "            # Update result if we get a larger window\n",
        "            max_len = max(max_len, i-start_idx + 1)\n",
        "    \n",
        "            # Update last index of current char.\n",
        "            last_idx[string[i]] = i\n",
        "    \n",
        "        return max_len\n",
        "\n",
        "\n",
        "    if __name__==\"__main__\":\n",
        "      s1 = \"abcdnkfsvc\"\n",
        "      B = [5,6,4]\n",
        "      l1 = [9,9,9,9,9,9,9]\n",
        "      l2 = [9,9,9,9]\n",
        "      print(lengthOfLongestSubstring(s1))"
      ],
      "metadata": {
        "colab": {
          "base_uri": "https://localhost:8080/"
        },
        "id": "qwffwh_YaS5s",
        "outputId": "2f3ef8e5-4e78-4641-9cff-45bc6cc69e9f"
      },
      "execution_count": null,
      "outputs": [
        {
          "output_type": "stream",
          "name": "stdout",
          "text": [
            "9\n"
          ]
        }
      ]
    },
    {
      "cell_type": "code",
      "source": [
        "# Sliding window approach\n",
        "# Linear time\n",
        "class Solution(object):\n",
        "      def lengthOfLongestSubstring(s: str) -> int:\n",
        "        chars = [None] * 128\n",
        "\n",
        "        left = right = 0\n",
        "\n",
        "        res = 0\n",
        "        while right < len(s):\n",
        "            r = s[right]\n",
        "\n",
        "            index = chars[ord(r)]\n",
        "            \n",
        "            if index != None and index >= left and index < right:\n",
        "                left = index + 1\n",
        "\n",
        "            res = max(res, right - left + 1)\n",
        "            print(left,right,r,ord(r),index)\n",
        "            chars[ord(r)] = right\n",
        "            right += 1\n",
        "        return res\n",
        "      if __name__==\"__main__\":\n",
        "        s1 = \"abcdnakfsvca\"\n",
        "        print(lengthOfLongestSubstring(s1))      "
      ],
      "metadata": {
        "colab": {
          "base_uri": "https://localhost:8080/"
        },
        "id": "SrfGsQbse270",
        "outputId": "596ebd6d-28b2-4547-d19b-6eb63402370a"
      },
      "execution_count": null,
      "outputs": [
        {
          "output_type": "stream",
          "name": "stdout",
          "text": [
            "0 0 a 97 None\n",
            "0 1 b 98 None\n",
            "0 2 c 99 None\n",
            "0 3 d 100 None\n",
            "0 4 n 110 None\n",
            "1 5 a 97 0\n",
            "1 6 k 107 None\n",
            "1 7 f 102 None\n",
            "1 8 s 115 None\n",
            "1 9 v 118 None\n",
            "3 10 c 99 2\n",
            "6 11 a 97 5\n",
            "9\n"
          ]
        }
      ]
    },
    {
      "cell_type": "code",
      "source": [
        ""
      ],
      "metadata": {
        "id": "fpkjM5Cipsej"
      },
      "execution_count": null,
      "outputs": []
    },
    {
      "cell_type": "code",
      "source": [
        "# Amazon encryption of array with pascal's triangle\n",
        "# SDE fresh grad assessment -- fruit frnd"
      ],
      "metadata": {
        "id": "kjOt_H2urEAu"
      },
      "execution_count": null,
      "outputs": []
    },
    {
      "cell_type": "code",
      "source": [
        "def getEnc(numbers):\n",
        "  while len(numbers)!= 2:\n",
        "    temp = []\n",
        "    i=0\n",
        "    j=1\n",
        "\n",
        "    while j<len(numbers):\n",
        "      temp.append((numbers[i]+numbers[j])%10)\n",
        "      i+=1\n",
        "      j+=1\n",
        "    numbers = temp\n",
        "  return ''.join(str(i) for i in numbers)\n",
        "\n",
        "if __name__==\"__main__\":\n",
        "  s1 = [9,9,9,9,9,9,9]\n",
        "  s2 = [4,5,6,7]\n",
        "  print(getEnc(s2))   "
      ],
      "metadata": {
        "colab": {
          "base_uri": "https://localhost:8080/"
        },
        "id": "u1Un-Rakpsbb",
        "outputId": "1fd37a0d-62da-4c23-c781-31ea2022a83c"
      },
      "execution_count": null,
      "outputs": [
        {
          "output_type": "stream",
          "name": "stdout",
          "text": [
            "04\n"
          ]
        }
      ]
    },
    {
      "cell_type": "code",
      "source": [
        ""
      ],
      "metadata": {
        "id": "ca5Ay53wuBVI"
      },
      "execution_count": null,
      "outputs": []
    },
    {
      "cell_type": "code",
      "source": [
        "# Minimum number of groups that can be formed such that each movie is in exactly one group\n",
        "# SDE fresh grad assessment -- fruit frnd\n",
        "\n",
        "def minimumNumGroups(m,k):\n",
        "  m.sort()\n",
        "  idx = 0\n",
        "  cnt = 1\n",
        "  for j in range(len(m)):\n",
        "    if m[j]-m[idx]>k:\n",
        "      cnt += 1\n",
        "      idx =j\n",
        "  return cnt\n",
        "\n",
        "if __name__==\"__main__\":\n",
        "  m = [1,5,4,6,8,9,2]\n",
        "  k = 3\n",
        "  print(minimumNumGroups(m,k))   "
      ],
      "metadata": {
        "colab": {
          "base_uri": "https://localhost:8080/"
        },
        "id": "ZovDfN3buCVJ",
        "outputId": "44a79d7a-229d-4302-fae3-3a0250dde60e"
      },
      "execution_count": null,
      "outputs": [
        {
          "output_type": "stream",
          "name": "stdout",
          "text": [
            "3\n"
          ]
        }
      ]
    },
    {
      "cell_type": "code",
      "source": [
        ""
      ],
      "metadata": {
        "id": "u8jtq__-5z8k"
      },
      "execution_count": null,
      "outputs": []
    },
    {
      "cell_type": "code",
      "source": [
        "# Minimum possible cost of shipping the items to complete the load\n",
        "# SDE fresh grad assessment -- fruit\n",
        "\n",
        "def minimumNumGroups(m,k):\n",
        "  m.sort()\n",
        "  temp = []\n",
        "  cnt = len(m)\n",
        "  sum = 0\n",
        "  for j in range(k):\n",
        "    if cnt<k and j+1 not in m:\n",
        "      temp.append(j+1)\n",
        "      sum = sum + j+1\n",
        "      cnt += 1\n",
        "  return sum\n",
        "\n",
        "if __name__==\"__main__\":\n",
        "  m1 = [6,5,4,1,3]\n",
        "  m2 = [2,3,6,10,11]\n",
        "  k = 7\n",
        "  print(minimumNumGroups(m1,k))   "
      ],
      "metadata": {
        "colab": {
          "base_uri": "https://localhost:8080/"
        },
        "id": "YydF1qNB5zw5",
        "outputId": "34a3e8f3-3eda-4427-9ac8-0a9123e5cb68"
      },
      "execution_count": null,
      "outputs": [
        {
          "output_type": "stream",
          "name": "stdout",
          "text": [
            "9\n"
          ]
        }
      ]
    },
    {
      "cell_type": "code",
      "source": [
        ""
      ],
      "metadata": {
        "id": "0XsrXsxe8t0L"
      },
      "execution_count": null,
      "outputs": []
    },
    {
      "cell_type": "code",
      "source": [
        "# Minimum amount of main memory used by all of your processes in your instance \n",
        "# after you delete a contiguous segment of instances\n",
        "\n",
        "# SDE fresh grad assessment -- fruit\n",
        "\n",
        "def minimumMainMemory(m,k):\n",
        "  Total_sum = sum(m)\n",
        "  k_sum = 0\n",
        "  for j in range(k):\n",
        "    k_sum += m[j]\n",
        "  print(k,k_sum) \n",
        "  temp_sum = k_sum\n",
        "  for i in range(len(m)-k):\n",
        "    temp_sum = temp_sum-m[i]+m[i+k]\n",
        "    if temp_sum > k_sum:\n",
        "      k_sum = temp_sum\n",
        "    print(i,temp_sum,k_sum)\n",
        "  return Total_sum-k_sum\n",
        "\n",
        "if __name__==\"__main__\":\n",
        "  m1 = [4,6,10,8,2,1]\n",
        "  m2 = [2,3,6,10,11]\n",
        "  m3 = [10,4,8,13,20]\n",
        "  k = 3\n",
        "  print(minimumMainMemory(m1,k))  "
      ],
      "metadata": {
        "colab": {
          "base_uri": "https://localhost:8080/"
        },
        "id": "fFGwC3ww8ueK",
        "outputId": "400f5156-90ff-4b9a-d555-414d2afd2938"
      },
      "execution_count": null,
      "outputs": [
        {
          "output_type": "stream",
          "name": "stdout",
          "text": [
            "3 20\n",
            "0 24 24\n",
            "1 20 24\n",
            "2 11 24\n",
            "7\n"
          ]
        }
      ]
    },
    {
      "cell_type": "code",
      "source": [
        "# Given two sorted arrays nums1 and nums2 of size m and n respectively, return the median of the two sorted arrays.\n",
        "\n",
        "# The overall run time complexity should be O(log (m+n)).\n",
        "\n",
        "# amazon leet code --- hard\n",
        "\n",
        "def minimumMainMemory(m,k):\n",
        "  Total_sum = sum(m)\n",
        "  k_sum = 0\n",
        "  for j in range(k):\n",
        "    k_sum += m[j]\n",
        "  print(k,k_sum) \n",
        "  temp_sum = k_sum\n",
        "  for i in range(len(m)-k):\n",
        "    temp_sum = temp_sum-m[i]+m[i+k]\n",
        "    if temp_sum > k_sum:\n",
        "      k_sum = temp_sum\n",
        "    print(i,temp_sum,k_sum)\n",
        "  return Total_sum-k_sum\n",
        "\n",
        "if __name__==\"__main__\":\n",
        "  m1 = [4,6,10,8,2,1]\n",
        "  m2 = [2,3,6,10,11]\n",
        "  m3 = [10,4,8,13,20]\n",
        "  k = 3\n",
        "  print(minimumMainMemory(m1,m2))  "
      ],
      "metadata": {
        "id": "c8_7j_8LjVbN"
      },
      "execution_count": null,
      "outputs": []
    },
    {
      "cell_type": "code",
      "source": [
        ""
      ],
      "metadata": {
        "id": "z0ucZqujB2AK"
      },
      "execution_count": null,
      "outputs": []
    },
    {
      "cell_type": "markdown",
      "source": [
        "### Neetcode"
      ],
      "metadata": {
        "id": "eCzKlQI-B2h8"
      }
    },
    {
      "cell_type": "markdown",
      "source": [
        "#### Arrays & Hashing"
      ],
      "metadata": {
        "id": "nST6BkikB7hu"
      }
    },
    {
      "cell_type": "markdown",
      "source": [
        "##### Duplicate"
      ],
      "metadata": {
        "id": "zf3tLHKCCMCX"
      }
    },
    {
      "cell_type": "code",
      "source": [
        "#Given an integer array nums, return true if any value appears at least twice in the array, and return false if every element is distinct.\n",
        "\n",
        "# Example 1:\n",
        "\n",
        "# Input: nums = [1,2,3,1]\n",
        "# Output: true\n",
        "# Example 2:\n",
        "\n",
        "# Input: nums = [1,2,3,4]\n",
        "# Output: false\n",
        "# Example 3:\n",
        "\n",
        "# Input: nums = [1,1,1,3,3,4,3,2,4,2]\n",
        "# Output: true"
      ],
      "metadata": {
        "id": "a0tOgUQ0B51b"
      },
      "execution_count": null,
      "outputs": []
    },
    {
      "cell_type": "code",
      "source": [
        "# brute force O(n^2) O(1)\n",
        "def Duplicate1(a):\n",
        "  for i in range(len(a)):\n",
        "    for j in range(i+1,len(a)):\n",
        "      if(a[i] == a[j]):\n",
        "        return True\n",
        "  return False\n",
        "\n",
        "# Sort O(nlogn) O(1)\n",
        "def Duplicate2(a):\n",
        "  a.sort()\n",
        "  for i in range(1,len(a)):\n",
        "    if a[i] == a[i-1]:\n",
        "      return True\n",
        "  return False\n",
        "\n",
        "# Sort\n",
        "def Duplicate3(a):\n",
        "  a.sort()\n",
        "  for i in range(1,len(a)):\n",
        "    if a[i] == a[i-1]:\n",
        "      return True\n",
        "  return False\n",
        "\n",
        "# Hashmap/Hashset O(n) and O(n)\n",
        "def Duplicate4(a):\n",
        "  hashset = set()\n",
        "\n",
        "  for x in a:\n",
        "    if x in hashset:\n",
        "      return True\n",
        "    hashset.add(x)\n",
        "  return False\n",
        "\n",
        "# naive\n",
        "# A set does not hold duplicate items\n",
        "def Duplicate5(a):\n",
        "  myset = set(a) # Non-repeating element iterable modified as passed as argument. \n",
        "\n",
        "  return len(a) == len(myset)\n",
        "\n",
        "# Using collections.counter\n",
        "import collections\n",
        "def Duplicate6(a):\n",
        "  # create dictionary of counts\n",
        "  count_dict = collections.Counter(a).items()\n",
        "  print([item for item, count in count_dict if count > 1])\n",
        "\n",
        "  # seen = set()\n",
        "  # dupes = [x for x in a if x in seen or seen.add(x)]  \n",
        "\n",
        "if __name__==\"__main__\":\n",
        "  m1 = [4,6,1,8,10,4]\n",
        "  k = 3\n",
        "  print(Duplicate4(m1))  "
      ],
      "metadata": {
        "colab": {
          "base_uri": "https://localhost:8080/"
        },
        "id": "bP9gr895CT6y",
        "outputId": "38b9f01f-7ed3-434f-df20-8d847bad51d8"
      },
      "execution_count": null,
      "outputs": [
        {
          "output_type": "stream",
          "name": "stdout",
          "text": [
            "True\n"
          ]
        }
      ]
    },
    {
      "cell_type": "markdown",
      "source": [
        "##### Valid Anagram"
      ],
      "metadata": {
        "id": "eIQHZR5CWuQB"
      }
    },
    {
      "cell_type": "code",
      "source": [
        "# Given two strings s and t, return true if t is an anagram of s, and false otherwise.\n",
        "\n",
        "# An Anagram is a word or phrase formed by rearranging the letters of a different word or phrase, \n",
        "# typically using all the original letters exactly once.\n",
        "\n",
        "#Example 1:\n",
        "\n",
        "# Input: s = \"anagram\", t = \"nagaram\"\n",
        "# Output: true\n",
        "# Example 2:\n",
        "\n",
        "# Input: s = \"rat\", t = \"car\"\n",
        "# Output: false"
      ],
      "metadata": {
        "id": "bMqEyYPFRBAh"
      },
      "execution_count": null,
      "outputs": []
    },
    {
      "cell_type": "code",
      "source": [
        "# Hashset/Hashmap O(n) and O(n)\n",
        "def isAnagram1(s: str, t: str):\n",
        "  s_set = set(s)\n",
        "  t_set = set(t)\n",
        "  # for x in s_set:\n",
        "  #   if x not in t_set:\n",
        "  #     return False\n",
        "  # return True\n",
        "  if s_set == t_set:\n",
        "    return True\n",
        "  return False\n",
        "\n",
        "# list O(n) and O(n)\n",
        "def isAnagram2(s: str, t: str):\n",
        "  s_set = list(s)\n",
        "  t_set = list(t)\n",
        "  for x in s_set:\n",
        "    if x not in t_set:\n",
        "      return False\n",
        "  return True\n",
        "\n",
        "# Using counters --- same as hashmap\n",
        "def isAnagram3(s: str, t: str):\n",
        "  #one liner if counter(s) == counter(t): return True else: False\n",
        "\n",
        "  if(len(s)!=len(t)):\n",
        "    return False\n",
        "  countS = {}\n",
        "  countT = {}\n",
        "  for i in range(len(s)):\n",
        "    countS[s[i]] = 1+ countS.get(s[i],0)\n",
        "    countT[t[i]] = 1+ countT.get(t[i],0)\n",
        "  \n",
        "  if countS == countT:\n",
        "    return True\n",
        "  return False\n",
        "\n",
        "if __name__==\"__main__\":\n",
        "  m1 = \"rcabt\"\n",
        "  m2 = \"tabcr\"\n",
        "  print(isAnagram3(m1,m2))  "
      ],
      "metadata": {
        "colab": {
          "base_uri": "https://localhost:8080/"
        },
        "id": "5CRrPiLlXC5O",
        "outputId": "06a13165-1e7e-4a84-87e1-9bd5202cdefd"
      },
      "execution_count": null,
      "outputs": [
        {
          "output_type": "stream",
          "name": "stdout",
          "text": [
            "True\n"
          ]
        }
      ]
    },
    {
      "cell_type": "markdown",
      "source": [
        "##### Two Sum"
      ],
      "metadata": {
        "id": "FvAKdALtbazo"
      }
    },
    {
      "cell_type": "code",
      "source": [
        "# Given an array of integers nums and an integer target, return indices of the two numbers such that they add up to target.\n",
        "\n",
        "# You may assume that each input would have exactly one solution, and you may not use the same element twice.\n",
        "\n",
        "# You can return the answer in any order.\n",
        "\n",
        " \n",
        "\n",
        "# Example 1:\n",
        "\n",
        "# Input: nums = [2,7,11,15], target = 9\n",
        "# Output: [0,1]\n",
        "# Explanation: Because nums[0] + nums[1] == 9, we return [0, 1].\n",
        "# Example 2:\n",
        "\n",
        "# Input: nums = [3,2,4], target = 6\n",
        "# Output: [1,2]\n",
        "# Example 3:\n",
        "\n",
        "# Input: nums = [3,3], target = 6\n",
        "# Output: [0,1]"
      ],
      "metadata": {
        "id": "9dTbSYSFbfH-"
      },
      "execution_count": null,
      "outputs": []
    },
    {
      "cell_type": "code",
      "source": [
        "# Naive O(n^2) O(1)\n",
        "def twoSum1(a,t):\n",
        "  for i in range(len(a)):\n",
        "    for j in range(i+1,len(a)):\n",
        "      if t - a[i] == a[j]:\n",
        "        return True\n",
        "  return False\n",
        "\n",
        "# Hashmap O(n) O(n)\n",
        "def twoSum2(a,t):\n",
        "  a_set = set(a)\n",
        "  for x in a:\n",
        "      if t/x == 2:\n",
        "        count = 0\n",
        "        for y in a:\n",
        "          if y ==x:\n",
        "            count += 1\n",
        "        if count >= 2:\n",
        "          return True\n",
        "        return False\n",
        "      if t-x in a_set:\n",
        "        return True\n",
        "  return False\n",
        "\n",
        "# counter O(n) and O(n)\n",
        "import collections\n",
        "def twoSum3(a,t):\n",
        "  countA = {}\n",
        "  for x in a:\n",
        "    countA[x] = 1 + countA.get(x,0)\n",
        "  # # can be done with one liner\n",
        "  # countA = collections.Counter(a)\n",
        "  \n",
        "  for x in a:\n",
        "    if t/x == 2 and countA[x] < 2:\n",
        "      print(x)\n",
        "      return False\n",
        "    elif countA.get(t-x,0) != 0:\n",
        "      print(\"x\",x)\n",
        "      return True\n",
        "  return False\n",
        "\n",
        "\n",
        "# simple counter O(n) and O(n)\n",
        "def twoSum4(a,t):\n",
        "  countA = {}\n",
        "  for x in a:\n",
        "    if countA.get(t-x,0) >=1:\n",
        "      return True\n",
        "    countA[x] = countA.get(x,0) +1\n",
        "  return False\n",
        "\n",
        "\n",
        "if __name__==\"__main__\":\n",
        "  m1 = [4,6,1,9,10,4]\n",
        "  k = 11\n",
        "  print(twoSum4(m1, k))  "
      ],
      "metadata": {
        "colab": {
          "base_uri": "https://localhost:8080/"
        },
        "id": "ZKWPMEzXbf3d",
        "outputId": "e5199d0d-baea-40fb-9140-3374bf1764c4"
      },
      "execution_count": 56,
      "outputs": [
        {
          "output_type": "stream",
          "name": "stdout",
          "text": [
            "True\n"
          ]
        }
      ]
    },
    {
      "cell_type": "markdown",
      "source": [
        "##### Group anagrams"
      ],
      "metadata": {
        "id": "-y2Rpy-Pl38R"
      }
    },
    {
      "cell_type": "code",
      "source": [
        "# Given an array of strings strs, group the anagrams together. You can return the answer in any order.\n",
        "\n",
        "# An Anagram is a word or phrase formed by rearranging the letters of a different word or phrase, \n",
        "# typically using all the original letters exactly once.\n",
        "\n",
        " \n",
        "# Example 1:\n",
        "\n",
        "# Input: strs = [\"eat\",\"tea\",\"tan\",\"ate\",\"nat\",\"bat\"]\n",
        "# Output: [[\"bat\"],[\"nat\",\"tan\"],[\"ate\",\"eat\",\"tea\"]]\n",
        "# Example 2:\n",
        "\n",
        "# Input: strs = [\"\"]\n",
        "# Output: [[\"\"]]\n",
        "# Example 3:\n",
        "\n",
        "# Input: strs = [\"a\"]\n",
        "# Output: [[\"a\"]]\n"
      ],
      "metadata": {
        "id": "tI1_gI05bf0_"
      },
      "execution_count": null,
      "outputs": []
    },
    {
      "cell_type": "code",
      "source": [
        "# Brute force \n",
        "#  sort and iterate O(n^2) and 3O(n)\n",
        "def groupAnagrams1(a):\n",
        "  output = []\n",
        "  a_sorted = []\n",
        "  visited = [0] * len(a)\n",
        "  for x in a:\n",
        "    a_sorted.append(''.join(sorted(x)))\n",
        "  # print(a_sorted)\n",
        "  for i in range(len(a)):\n",
        "    temp_output = []\n",
        "    if visited[i]==0:\n",
        "      temp_output.append(a[i])\n",
        "      visited[i]=1\n",
        "      # print(i,visited[i])\n",
        "      for j in range(i+1,len(a)):\n",
        "        if a_sorted[i] == a_sorted[j] and visited[j]==0:\n",
        "          temp_output.append(a[j])\n",
        "          visited[j]=1\n",
        "    # print(visited)\n",
        "    if len(temp_output)!=0:\n",
        "      print(temp_output)\n",
        "      output.append(temp_output)\n",
        "  return output\n",
        "\n",
        "\n",
        "if __name__==\"__main__\":\n",
        "  m1 = [\"eat\",\"tea\",\"tan\",\"ate\",\"nat\",\"bat\"]\n",
        "  print(groupAnagrams1(m1))  "
      ],
      "metadata": {
        "colab": {
          "base_uri": "https://localhost:8080/"
        },
        "id": "oMg35qqGbfx9",
        "outputId": "7fbc91a0-08ca-46f6-926f-6da04779aece"
      },
      "execution_count": 12,
      "outputs": [
        {
          "output_type": "stream",
          "name": "stdout",
          "text": [
            "['eat', 'tea', 'ate']\n",
            "['tan', 'nat']\n",
            "['bat']\n",
            "[['eat', 'tea', 'ate'], ['tan', 'nat'], ['bat']]\n"
          ]
        }
      ]
    },
    {
      "cell_type": "code",
      "source": [
        "# Hash map and counter\n",
        "# O(mn)\n",
        "# m number of entries/strings\n",
        "# n avergae number of characters in each string\n",
        "import collections\n",
        "def groupAnagrams1(a):\n",
        "  res = collections.defaultdict(list)\n",
        "  for i in a:\n",
        "    count = [0]*26\n",
        "    for c in i:\n",
        "      count[ord(c)-ord(\"a\")] += 1\n",
        "    res[tuple(count)].append(i)\n",
        "  return res.values()\n",
        "\n",
        "\n",
        "if __name__==\"__main__\":\n",
        "  m1 = [\"eat\",\"tea\",\"tan\",\"ate\",\"nat\",\"bat\"]\n",
        "  print(groupAnagrams1(m1))  "
      ],
      "metadata": {
        "colab": {
          "base_uri": "https://localhost:8080/"
        },
        "id": "T1kE4idHbfuw",
        "outputId": "037da57f-b91e-4132-aba8-5031c3b9f235"
      },
      "execution_count": 46,
      "outputs": [
        {
          "output_type": "stream",
          "name": "stdout",
          "text": [
            "dict_values([['eat', 'tea', 'ate'], ['tan', 'nat'], ['bat']])\n"
          ]
        }
      ]
    },
    {
      "cell_type": "code",
      "source": [
        ""
      ],
      "metadata": {
        "id": "pe43RwQVbfry"
      },
      "execution_count": null,
      "outputs": []
    },
    {
      "cell_type": "markdown",
      "source": [
        "##### K frequent characters"
      ],
      "metadata": {
        "id": "_wmduJtU_6Ua"
      }
    },
    {
      "cell_type": "code",
      "source": [
        "# Given an integer array nums and an integer k, return the k most frequent elements. You may return the answer in any order.\n",
        "\n",
        "# Example 1:\n",
        "\n",
        "# Input: nums = [1,1,1,2,2,3], k = 2\n",
        "# Output: [1,2]\n",
        "# Example 2:\n",
        "\n",
        "# Input: nums = [1], k = 1\n",
        "# Output: [1]"
      ],
      "metadata": {
        "id": "vw9NM9tn_-th"
      },
      "execution_count": null,
      "outputs": []
    },
    {
      "cell_type": "code",
      "source": [
        "# simple counter O(nlogn) and O(n)\n",
        "def kfrequent1(a,t):\n",
        "  count = {}\n",
        "  for i in a:\n",
        "    count[i] = count.get(i,0)+1\n",
        "  sorted_Count = sorted(count.items(), key=lambda x: x[1], reverse=True)\n",
        "  print(sorted_Count)\n",
        "  return sorted_Count[:t]\n",
        "\n",
        "# rather than sorting (nlogn) we can use heap (klogn)\n",
        "\n",
        "# we can solve this in linear time without sorting\n",
        "\n",
        "def kfrequent2(a,t):\n",
        "  # res = [[]]*(len(a)+1) is not working as expected because res is having references to \n",
        "  # [] not the actual values, so every value is getting updated. see below cells\n",
        "  res = [[] for i in range(len(a)+1)]\n",
        "  count = {}\n",
        "  for i in a:\n",
        "    count[i] = count.get(i,0)+1\n",
        "  for k,v in count.items():\n",
        "    res[v].append(k)\n",
        "  output =[]\n",
        "  for i in reversed(res):\n",
        "    for j in i:\n",
        "      if t>0:\n",
        "        output.append(j)\n",
        "        t -= 1\n",
        "  return output\n",
        "\n",
        "\n",
        "if __name__==\"__main__\":\n",
        "  m1 = [4, 6, 1, 9, 10, 4, 9, 1, 4, 6, 6, 6]\n",
        "  k = 1\n",
        "  print(kfrequent2(m1, k)) "
      ],
      "metadata": {
        "colab": {
          "base_uri": "https://localhost:8080/"
        },
        "id": "dViKF0qA__A1",
        "outputId": "b73db29a-22a9-48d6-f5fe-c47545c56c54"
      },
      "execution_count": 234,
      "outputs": [
        {
          "output_type": "stream",
          "name": "stdout",
          "text": [
            "[6]\n"
          ]
        }
      ]
    },
    {
      "cell_type": "code",
      "source": [
        ""
      ],
      "metadata": {
        "id": "SwBRBFb7Qftu"
      },
      "execution_count": null,
      "outputs": []
    },
    {
      "cell_type": "code",
      "source": [
        "res = [[] for i in range(2)]\n",
        "res[1].append(1)\n",
        "print(res)"
      ],
      "metadata": {
        "colab": {
          "base_uri": "https://localhost:8080/"
        },
        "id": "rJ265ioS_-8X",
        "outputId": "d9a81e35-c672-42aa-d6d9-01a42f4ee80b"
      },
      "execution_count": 122,
      "outputs": [
        {
          "output_type": "stream",
          "name": "stdout",
          "text": [
            "[[], [1]]\n"
          ]
        }
      ]
    },
    {
      "cell_type": "code",
      "source": [
        "res = [[]]*2\n",
        "print(res)\n",
        "res[1].append(1)\n",
        "print(res)"
      ],
      "metadata": {
        "colab": {
          "base_uri": "https://localhost:8080/"
        },
        "id": "MHmoxpIX_-0H",
        "outputId": "8f58c217-2a2a-4ef0-e4b5-1110c7415dcb"
      },
      "execution_count": 124,
      "outputs": [
        {
          "output_type": "stream",
          "name": "stdout",
          "text": [
            "[[], []]\n",
            "[[1], [1]]\n"
          ]
        }
      ]
    },
    {
      "cell_type": "markdown",
      "source": [
        "##### product of array except self"
      ],
      "metadata": {
        "id": "qInaFIGoSt_d"
      }
    },
    {
      "cell_type": "code",
      "source": [
        "# Given an integer array nums, return an array answer such that answer[i] is equal to the product of all the elements of nums except nums[i].\n",
        "\n",
        "# The product of any prefix or suffix of nums is guaranteed to fit in a 32-bit integer.\n",
        "\n",
        "# You must write an algorithm that runs in O(n) time and without using the division operation.\n",
        "\n",
        "\n",
        "# Example 1:\n",
        "\n",
        "# Input: nums = [1,2,3,4]\n",
        "# Output: [24,12,8,6]\n",
        "# Example 2:\n",
        "\n",
        "# Input: nums = [-1,1,0,-3,3]\n",
        "# Output: [0,0,9,0,0]"
      ],
      "metadata": {
        "id": "ozRs8Yx2_-w6"
      },
      "execution_count": null,
      "outputs": []
    },
    {
      "cell_type": "code",
      "source": [
        "# Naive O(n) O(n)\n",
        "def arrayProductExceptSelf1(a):\n",
        "  productExclude0 = 1\n",
        "  product0 = 1\n",
        "  count0 = 0\n",
        "  index = -1\n",
        "  for i in range(len(a)):\n",
        "    if count0 == 2:\n",
        "      return [0]*len(a)\n",
        "    if a[i] == 0:\n",
        "      count0 += 1\n",
        "      index = i\n",
        "    else:\n",
        "      productExclude0 *= a[i]\n",
        "    product0 *= a[i]\n",
        "    # print(\"product0,productExclude0,count0:\",product0,productExclude0,count0)\n",
        "  res = [productExclude0]*len(a)\n",
        "  if count0 == 1:\n",
        "    res = [0]*len(a)\n",
        "    res[index] = productExclude0\n",
        "    return res\n",
        "  for i in range(len(a)):\n",
        "    res[i] = int(res[i]/a[i])\n",
        "  return res\n",
        "\n",
        "# suffix and prefix multiplications\n",
        "# O(n)+O(n)\n",
        "def arrayProductExceptSelf2(a):\n",
        "  res = [1]*len(a)\n",
        "  for i in range(1,len(a)-1):\n",
        "    res[i+1] = res[i]*a[i]\n",
        "  suffix = a[-1]\n",
        "  for i in range(len(a)-2,-1,-1):\n",
        "    res[i] = res[i]*suffix\n",
        "    suffix = suffix*a[i]\n",
        "  return res\n",
        "\n",
        "if __name__==\"__main__\":\n",
        "  m = [1,0,3,4]\n",
        "  print(arrayProductExceptSelf2(m)) "
      ],
      "metadata": {
        "colab": {
          "base_uri": "https://localhost:8080/"
        },
        "id": "TsJUJfaFS9Z4",
        "outputId": "fff7a701-a3ae-44a1-ce7f-b3c2730d30f0"
      },
      "execution_count": 172,
      "outputs": [
        {
          "output_type": "stream",
          "name": "stdout",
          "text": [
            "[0, 12, 0, 0]\n"
          ]
        }
      ]
    },
    {
      "cell_type": "markdown",
      "source": [
        "##### Valid sudoku"
      ],
      "metadata": {
        "id": "NcpCMTf1c9TN"
      }
    },
    {
      "cell_type": "code",
      "source": [
        "# Determine if a 9 x 9 Sudoku board is valid. Only the filled cells need to be validated according to the following rules:\n",
        "\n",
        "# Each row must contain the digits 1-9 without repetition.\n",
        "# Each column must contain the digits 1-9 without repetition.\n",
        "# Each of the nine 3 x 3 sub-boxes of the grid must contain the digits 1-9 without repetition.\n",
        "# Note:\n",
        "\n",
        "# A Sudoku board (partially filled) could be valid but is not necessarily solvable.\n",
        "# Only the filled cells need to be validated according to the mentioned rules."
      ],
      "metadata": {
        "id": "HOaLgW20S9XV"
      },
      "execution_count": null,
      "outputs": []
    },
    {
      "cell_type": "code",
      "source": [
        "from typing import Set\n",
        "# brute force O(n3)\n",
        "def validRow(r):\n",
        "  hashset={}\n",
        "  # print(\"valid c/r:\",r)\n",
        "  for i in r:\n",
        "    hashset[i] = hashset.get(i,0)+1\n",
        "    if(hashset[i]>1 and i!=\".\"):\n",
        "      return False\n",
        "  return True\n",
        "\n",
        "def validSudoku1(a):\n",
        "  for i in range(len(a)):\n",
        "    c = []\n",
        "    for j in range(len(a)):\n",
        "      # print(c)\n",
        "      c.append(a[j][i])\n",
        "    if (i+1)%3 == 0:\n",
        "      box1 = a[i][:3] + a[i-1][:3] + a[i-2][:3]\n",
        "      box2 = a[i][3:6] + a[i-1][3:6] + a[i-2][3:6]\n",
        "      box3 = a[i][6:9] + a[i-1][6:9] + a[i-2][6:9]\n",
        "      if validRow(box1) and validRow(box2) and validRow(box3):\n",
        "        return True\n",
        "\n",
        "    if not(validRow(a[i]) and validRow(c)):\n",
        "      return False\n",
        "  return True\n",
        "\n",
        "\n",
        "# we can solve this in O(n^2)\n",
        "# the idea is create hashset for rows columns and squares\n",
        "def validSudoku2(a):\n",
        "  rows = collections.defaultdict(set)\n",
        "  cols = collections.defaultdict(set)\n",
        "  squares = collections.defaultdict(set)\n",
        "  for r in range(9):\n",
        "    for c in range(9):\n",
        "      # we dont need to worry about the empty cells\n",
        "      if a[r][c] == \".\":\n",
        "        continue\n",
        "      if (a[r][c] in rows[r] or # check if the value present in current row hashset\n",
        "          a[r][c] in cols[c] or # check if the value present in current column hashset\n",
        "          a[r][c] in squares[(r//3,c//3)]): # check if the value present in current square hashset\n",
        "          return False\n",
        "      rows[r].add(a[r][c])\n",
        "      cols[c].add(a[r][c])\n",
        "      squares[(r//3,c//3)].add(a[r][c])\n",
        "  return True\n",
        "\n",
        "if __name__==\"__main__\":\n",
        "  m = [[\"5\",\"3\",\".\",\".\",\"7\",\".\",\".\",\".\",\".\"]\n",
        ",[\"6\",\".\",\".\",\"1\",\"9\",\"5\",\".\",\".\",\".\"]\n",
        ",[\".\",\"1\",\"8\",\".\",\".\",\".\",\".\",\"6\",\".\"]\n",
        ",[\"8\",\".\",\".\",\".\",\"6\",\".\",\".\",\".\",\"3\"]\n",
        ",[\"4\",\".\",\".\",\"8\",\".\",\"3\",\".\",\".\",\"1\"]\n",
        ",[\"7\",\".\",\".\",\".\",\"2\",\".\",\".\",\".\",\"6\"]\n",
        ",[\".\",\"6\",\".\",\".\",\".\",\".\",\"2\",\"8\",\".\"]\n",
        ",[\".\",\".\",\".\",\"4\",\"1\",\"9\",\".\",\".\",\"5\"]\n",
        ",[\".\",\".\",\".\",\".\",\"8\",\".\",\".\",\"7\",\"9\"]]\n",
        "  print(validSudoku2(m)) "
      ],
      "metadata": {
        "colab": {
          "base_uri": "https://localhost:8080/"
        },
        "id": "7Q8QvhkeS9UL",
        "outputId": "7ce9fa39-59dc-4b1d-adbc-cb2dc27aa69f"
      },
      "execution_count": 224,
      "outputs": [
        {
          "output_type": "stream",
          "name": "stdout",
          "text": [
            "True\n"
          ]
        }
      ]
    },
    {
      "cell_type": "markdown",
      "source": [
        "##### Encode Decode strings"
      ],
      "metadata": {
        "id": "ewSQuzemrGLC"
      }
    },
    {
      "cell_type": "code",
      "source": [
        "# Description\n",
        "# Design an algorithm to encode a list of strings to a string. \n",
        "# The encoded string is then sent over the network and is decoded back to the original list of strings.\n",
        "\n",
        "# Please implement encode and decode\n",
        "\n",
        "# Example\n",
        "# Example1\n",
        "\n",
        "# Input: [\"lint\",\"code\",\"love\",\"you\"]\n",
        "# Output: [\"lint\",\"code\",\"love\",\"you\"]\n",
        "# Explanation:\n",
        "# One possible encode method is: \"lint:;code:;love:;you\"\n",
        "# Example2\n",
        "\n",
        "# Input: [\"we\", \"say\", \":\", \"yes\"]\n",
        "# Output: [\"we\", \"say\", \":\", \"yes\"]\n",
        "# Explanation:\n",
        "# One possible encode method is: \"we:;say:;:::;yes\""
      ],
      "metadata": {
        "id": "xDgAtw1KS9RA"
      },
      "execution_count": 200,
      "outputs": []
    },
    {
      "cell_type": "code",
      "source": [
        "# brute force \n",
        "# fails when there are delimeters in the strings itself\n",
        "def encodeDecode1(a):\n",
        "  return a.split(\"|\")\n",
        "\n",
        "def encode1(a):\n",
        "  return encodeDecode('|'.join(a))\n",
        "\n",
        "# one of the approaches is append each string with length followed by a delimeter\n",
        "# we start with length and delimeters so all the cases will be handled\n",
        "# O(n)--where n is the total number of characters across all words\n",
        "def encodeDecode2(a):\n",
        "  decoded = []\n",
        "  for i in a:\n",
        "    decoded.append(i[2:2+int(i[0])])\n",
        "  return decoded\n",
        "\n",
        "def encode2(a):\n",
        "  encoded = []\n",
        "  for i in a:\n",
        "    encoded.append(str(len(i))+\"#\"+i)\n",
        "  return encodeDecode2(encoded)\n",
        "\n",
        "if __name__==\"__main__\":\n",
        "  m1 = [\"eat\",\"tea\",\"tan\",\"ate\",\"nat\",\"bat\"]\n",
        "  m2 = [\"eat\",\"tea\",\"tan\",\"ate\",\"nat\",\"bat\"]\n",
        "  print(encode2(m1))  "
      ],
      "metadata": {
        "colab": {
          "base_uri": "https://localhost:8080/"
        },
        "id": "rPfuKGHoS9OI",
        "outputId": "8a75eaac-3482-48a4-9dfd-b0162ee56b5b"
      },
      "execution_count": 233,
      "outputs": [
        {
          "output_type": "stream",
          "name": "stdout",
          "text": [
            "['eat', 'tea', 'tan', 'ate', 'nat', 'bat']\n"
          ]
        }
      ]
    },
    {
      "cell_type": "markdown",
      "source": [
        "##### Longest consecutive sequence"
      ],
      "metadata": {
        "id": "yGnOyuy8wdBU"
      }
    },
    {
      "cell_type": "code",
      "source": [
        "\n",
        "# Given an unsorted array of integers nums, return the length of the longest consecutive elements sequence.\n",
        "# You must write an algorithm that runs in O(n) time.\n",
        "\n",
        "# Example 1:\n",
        "# Input: nums = [100,4,200,1,3,2]\n",
        "# Output: 4\n",
        "# Explanation: The longest consecutive elements sequence is [1, 2, 3, 4]. Therefore its length is 4.\n",
        "\n",
        "# Example 2:\n",
        "# Input: nums = [0,3,7,2,5,8,4,6,0,1]\n",
        "# Output: 9"
      ],
      "metadata": {
        "id": "CJ1-M4fqvo4y"
      },
      "execution_count": null,
      "outputs": []
    },
    {
      "cell_type": "code",
      "source": [
        "# One of the naive methods is to sort \n",
        "# O(nlogn)\n",
        "# we need O(n) complexity\n"
      ],
      "metadata": {
        "id": "a91u4zC4xLOb"
      },
      "execution_count": null,
      "outputs": []
    },
    {
      "cell_type": "code",
      "source": [
        "import collections \n",
        "def longestConsSeq(a):\n",
        "  res = collections.defaultdict(list)\n",
        "  a_set = set(a)\n",
        "  longest_seq_length = 0\n",
        "  key = -1\n",
        "  # print(a_set)\n",
        "  for x in a:\n",
        "    #  check if x is start of sequence\n",
        "    if x-1 not in a_set:\n",
        "      length = 0\n",
        "      # while the next element exist in the set keep adding theelements to the dict and \n",
        "      # keey track of staring index and length\n",
        "      while x+length in a_set:\n",
        "        res[x].append(x+length)\n",
        "        length = length+1\n",
        "      if length>longest_seq_length:\n",
        "        longest_seq_length = length\n",
        "        key = x\n",
        "  return res[key]\n",
        "\n",
        "if __name__==\"__main__\":\n",
        "  m = [1,100,3,4,200,2,6,9,7,8]\n",
        "  print(longestConsSeq(m)) "
      ],
      "metadata": {
        "colab": {
          "base_uri": "https://localhost:8080/"
        },
        "id": "sqZG-SzmxLLp",
        "outputId": "1942dc0a-af95-40df-f6e6-9d300e8a697d"
      },
      "execution_count": 25,
      "outputs": [
        {
          "output_type": "stream",
          "name": "stdout",
          "text": [
            "[1, 2, 3, 4]\n"
          ]
        }
      ]
    },
    {
      "cell_type": "markdown",
      "source": [
        "#### Two pointers"
      ],
      "metadata": {
        "id": "i45HeGl9SLd9"
      }
    },
    {
      "cell_type": "markdown",
      "source": [
        "##### Palindrome string"
      ],
      "metadata": {
        "id": "wibYAPw4W0fs"
      }
    },
    {
      "cell_type": "code",
      "source": [
        "# A phrase is a palindrome if, after converting all uppercase letters into lowercase letters \n",
        "# and removing all non-alphanumeric characters, it reads the same forward and backward. \n",
        "# Alphanumeric characters include letters and numbers.\n",
        "# Given a string s, return true if it is a palindrome, or false otherwise.\n",
        "\n",
        "# Example 1:\n",
        "# Input: s = \"A man, a plan, a canal: Panama\"\n",
        "# Output: true\n",
        "# Explanation: \"amanaplanacanalpanama\" is a palindrome.\n",
        "\n",
        "# Example 2:\n",
        "# Input: s = \"race a car\"\n",
        "# Output: false\n",
        "# Explanation: \"raceacar\" is not a palindrome.\n",
        "\n",
        "# Example 3:\n",
        "# Input: s = \" \"\n",
        "# Output: true\n",
        "# Explanation: s is an empty string \"\" after removing non-alphanumeric characters.\n",
        "# Since an empty string reads the same forward and backward, it is a palindrome."
      ],
      "metadata": {
        "id": "G-Dr_zC-xLI4"
      },
      "execution_count": null,
      "outputs": []
    },
    {
      "cell_type": "code",
      "source": [
        "# brute force\n",
        "# instead isalnum(), we can use ascii numbers to determine if it is a alpha numeric or not\n",
        "def isAlphaNum(a):\n",
        "  if (ord(\"A\")<=ord(a)<=ord(\"Z\") or\n",
        "      ord(\"a\")<=ord(a)<=ord(\"z\") or\n",
        "      ord(\"0\")<=ord(a)<=ord(\"9\")):\n",
        "    return True\n",
        "  return False\n",
        "\n",
        "def palindromeSentence(a):\n",
        "  i = 0\n",
        "  j = len(a)-1\n",
        "  while i<j:\n",
        "    if not isAlphaNum(a[i]):\n",
        "      i += 1\n",
        "      continue\n",
        "    if not isAlphaNum(a[j]):\n",
        "      j -= 1\n",
        "      continue\n",
        "    if a[i].lower() != a[j].lower():\n",
        "      print(i,j,a[i],a[j])\n",
        "      return False\n",
        "    i += 1\n",
        "    j -= 1\n",
        "  return True\n",
        "\n",
        "if __name__==\"__main__\":\n",
        "  m1 = \"race a car\"\n",
        "  m2 = \"A man, a plan, a canal: Panama\"\n",
        "  print(palindromeSentence(m2)) "
      ],
      "metadata": {
        "colab": {
          "base_uri": "https://localhost:8080/"
        },
        "id": "zTauKEgCxLGK",
        "outputId": "b38aaa70-c678-4fa2-c5fa-1c3d11d51ddd"
      },
      "execution_count": 38,
      "outputs": [
        {
          "output_type": "stream",
          "name": "stdout",
          "text": [
            "True\n"
          ]
        }
      ]
    },
    {
      "cell_type": "markdown",
      "source": [
        "##### Twosum II"
      ],
      "metadata": {
        "id": "np-hreqkWvGb"
      }
    },
    {
      "cell_type": "code",
      "source": [
        "# Given a 1-indexed array of integers numbers that is already sorted in non-decreasing order, find two numbers such that they add up to a specific target number. Let these two numbers be numbers[index1] and numbers[index2] where 1 <= index1 < index2 <= numbers.length.\n",
        "\n",
        "# Return the indices of the two numbers, index1 and index2, added by one as an integer array [index1, index2] of length 2.\n",
        "\n",
        "# The tests are generated such that there is exactly one solution. You may not use the same element twice.\n",
        "\n",
        "# Your solution must use only constant extra space.\n",
        "\n",
        "\n",
        "# Example 1:\n",
        "# Input: numbers = [2,7,11,15], target = 9\n",
        "# Output: [1,2]\n",
        "# Explanation: The sum of 2 and 7 is 9. Therefore, index1 = 1, index2 = 2. We return [1, 2].\n",
        "\n",
        "# Example 2:\n",
        "# Input: numbers = [2,3,4], target = 6\n",
        "# Output: [1,3]\n",
        "# Explanation: The sum of 2 and 4 is 6. Therefore index1 = 1, index2 = 3. We return [1, 3].\n",
        "\n",
        "# Example 3:\n",
        "# Input: numbers = [-1,0], target = -1\n",
        "# Output: [1,2]\n",
        "# Explanation: The sum of -1 and 0 is -1. Therefore index1 = 1, index2 = 2. We return [1, 2]."
      ],
      "metadata": {
        "id": "0kc4Y0faWymI"
      },
      "execution_count": null,
      "outputs": []
    },
    {
      "cell_type": "code",
      "source": [
        "# traversing the array only once\n",
        "# so O(n) T\n",
        "# no extra space\n",
        "def longestConsSeq(a,t):\n",
        "  i = 0\n",
        "  j = len(a)-1\n",
        "  while i<j:\n",
        "    if a[i] + a[j]== t:\n",
        "      return [a[i],a[j]]\n",
        "    if a[i] + a[j] > t:\n",
        "      j -= 1\n",
        "      continue\n",
        "    if a[i] + a[j] < t:\n",
        "      i += 1\n",
        "      continue\n",
        "  return False\n",
        "\n",
        "if __name__==\"__main__\":\n",
        "  m = [2,7,11,15]\n",
        "  target = 18\n",
        "  print(longestConsSeq(m,target)) "
      ],
      "metadata": {
        "colab": {
          "base_uri": "https://localhost:8080/"
        },
        "id": "anD8WtoyWzUW",
        "outputId": "f8bfeee6-f97f-456d-ebee-6f13b15f1f94"
      },
      "execution_count": 45,
      "outputs": [
        {
          "output_type": "stream",
          "name": "stdout",
          "text": [
            "[7, 11]\n"
          ]
        }
      ]
    },
    {
      "cell_type": "markdown",
      "source": [
        "##### Three sum"
      ],
      "metadata": {
        "id": "4Qo2Ye4vZic-"
      }
    },
    {
      "cell_type": "code",
      "source": [
        "# Given an integer array nums, return all the triplets [nums[i], nums[j], nums[k]] such that i != j, i != k, and j != k, and nums[i] + nums[j] + nums[k] == 0.\n",
        "\n",
        "# Notice that the solution set must not contain duplicate triplets.\n",
        "\n",
        "# Example 1:\n",
        "# Input: nums = [-1,0,1,2,-1,-4]\n",
        "# Output: [[-1,-1,2],[-1,0,1]]\n",
        "\n",
        "# Example 2:\n",
        "# Input: nums = []\n",
        "# Output: []\n",
        "\n",
        "# Example 3:\n",
        "# Input: nums = [0]\n",
        "# Output: []"
      ],
      "metadata": {
        "id": "UKW5HEroWzRM"
      },
      "execution_count": null,
      "outputs": []
    },
    {
      "cell_type": "code",
      "source": [
        "# brute force of iterating all combinations of 3 elements will be O(n^3)\n",
        "# two pointers O(nlogn)+O(n^2) = O(n^2)\n",
        "def threeSum(a_given):\n",
        "  a = sorted(a_given)\n",
        "  print(a)\n",
        "  res=[]\n",
        "  for idx in range(len(a)):\n",
        "    # if the new element is same as old skip\n",
        "    if a[idx] == a[idx-1]:\n",
        "      continue\n",
        "    i = idx + 1\n",
        "    j = len(a) -1\n",
        "    while i<j:\n",
        "      print(a[idx],i,a[i],j,a[j])     \n",
        "      if a[i] + a[j]== -a[idx]:\n",
        "        res.append([a[idx],a[i],a[j]])\n",
        "        j -= 1\n",
        "        i += 1\n",
        "        # if the new element is same as old skip\n",
        "        while a[j]==a[j+1]:\n",
        "          j -= 1\n",
        "        while a[i]==a[i-1]:\n",
        "          i += 1\n",
        "      if a[i] + a[j] > -a[idx]:\n",
        "        j -= 1\n",
        "        continue\n",
        "      if a[i] + a[j] < -a[idx]:\n",
        "        i += 1\n",
        "        continue\n",
        "  return res\n",
        "\n",
        "if __name__==\"__main__\":\n",
        "  m = [-1,-1,-1,0,1,2,2]\n",
        "  print(threeSum(m)) "
      ],
      "metadata": {
        "colab": {
          "base_uri": "https://localhost:8080/"
        },
        "id": "G975B4H4WzOC",
        "outputId": "c272158b-5ad4-4d5f-d5b4-9c7c77f17e0b"
      },
      "execution_count": 86,
      "outputs": [
        {
          "output_type": "stream",
          "name": "stdout",
          "text": [
            "[-1, -1, -1, 0, 1, 2, 2]\n",
            "-1 1 -1 6 2\n",
            "-1 3 0 4 1\n",
            "0 4 1 6 2\n",
            "0 4 1 5 2\n",
            "1 5 2 6 2\n",
            "[[-1, -1, 2], [-1, 0, 1]]\n"
          ]
        }
      ]
    },
    {
      "cell_type": "markdown",
      "source": [
        "##### Container with most water"
      ],
      "metadata": {
        "id": "7VVFz_7bxDfX"
      }
    },
    {
      "cell_type": "code",
      "source": [
        "# You are given an integer array height of length n. There are n vertical lines drawn such that the two endpoints of the ith line are (i, 0) and (i, height[i]).\n",
        "\n",
        "# Find two lines that together with the x-axis form a container, such that the container contains the most water.\n",
        "\n",
        "# Return the maximum amount of water a container can store.\n",
        "\n",
        "# Notice that you may not slant the container.\n",
        "\n",
        "# Example1:\n",
        "# Input: height = [1,8,6,2,5,4,8,3,7]\n",
        "# Output: 49\n",
        "# Explanation: The above vertical lines are represented by array [1,8,6,2,5,4,8,3,7]. In this case, the max area of water (blue section) the container can contain is 49.\n",
        "\n",
        "# Example 2:\n",
        "# Input: height = [1,1]\n",
        "# Output: 1"
      ],
      "metadata": {
        "id": "RPV8WL6zWzKw"
      },
      "execution_count": null,
      "outputs": []
    },
    {
      "cell_type": "code",
      "source": [
        "# brute force -- O(n^2)\n",
        "def containerMostWater1(a):\n",
        "  max_area = 0\n",
        "  for i in range(len(a)-1):\n",
        "    for j in range(i+1,len(a)):\n",
        "      temp_area = min(a[i],a[j])*(j-i)\n",
        "      if temp_area > max_area:\n",
        "        max_area = temp_area\n",
        "  return max_area\n",
        "\n",
        "# two pointer\n",
        "# one iteartion --> O(n)\n",
        "def containerMostWater2(a):\n",
        "  max_area = 0\n",
        "  l = 0\n",
        "  r = len(a)-1\n",
        "  while l<r:\n",
        "    temp_area = min(a[l],a[r])*(r-l)\n",
        "    if temp_area > max_area:\n",
        "      max_area = temp_area\n",
        "    if a[l]<=a[r]:\n",
        "      l += 1\n",
        "    else:\n",
        "      r -= 1 \n",
        "  return max_area\n",
        "\n",
        "if __name__==\"__main__\":\n",
        "  m = [1,8,6,2,5,4,8,3,7]\n",
        "  print(containerMostWater2(m)) "
      ],
      "metadata": {
        "colab": {
          "base_uri": "https://localhost:8080/"
        },
        "id": "4C2gxQaZWzHb",
        "outputId": "9b9b0471-04d7-4cb6-c705-a8f2640ef0f9"
      },
      "execution_count": 90,
      "outputs": [
        {
          "output_type": "stream",
          "name": "stdout",
          "text": [
            "49\n"
          ]
        }
      ]
    },
    {
      "cell_type": "markdown",
      "source": [
        "##### Trapping rain water"
      ],
      "metadata": {
        "id": "Pj7_-cvL29Hd"
      }
    },
    {
      "cell_type": "code",
      "source": [
        "# Given n non-negative integers representing an elevation map where the width of each bar is 1, \n",
        "# compute how much water it can trap after raining.\n",
        "\n",
        "# Example 1:\n",
        "# Input: height = [0,1,0,2,1,0,1,3,2,1,2,1]\n",
        "# Output: 6\n",
        "# Explanation: The above elevation map (black section) is represented by array [0,1,0,2,1,0,1,3,2,1,2,1]. In this case, 6 units of rain water (blue section) are being trapped.\n",
        "\n",
        "# Example 2:\n",
        "# Input: height = [4,2,0,3,2,5]\n",
        "# Output: 9"
      ],
      "metadata": {
        "id": "jecUjoTvWzEH"
      },
      "execution_count": null,
      "outputs": []
    },
    {
      "cell_type": "code",
      "source": [
        "# brute force 0(n) and O(n)\n",
        "def trappingWater1(a):\n",
        "  max_left_array = [-1]*len(a)\n",
        "  max_right_array = [-1]*len(a)\n",
        "  min_lr = [-1]*len(a)\n",
        "  max_left = -1\n",
        "  max_right = -1\n",
        "  max_area = 0\n",
        "  for i in range(1,len(a)):\n",
        "    if a[i-1] > max_left:\n",
        "      max_left = a[i-1]\n",
        "    max_left_array[i] = max_left\n",
        "  for i in range(len(a)-2,0,-1):\n",
        "    if a[i+1] > max_right:\n",
        "      max_right = a[i+1]\n",
        "    max_right_array[i] = max_right\n",
        "    min_lr[i] = min(max_left_array[i],max_right_array[i])\n",
        "\n",
        "  for i in range(len(a)):\n",
        "    if min_lr[i]>a[i]:\n",
        "      max_area += min_lr[i] - a[i]\n",
        "\n",
        "  return max_area\n",
        "\n",
        "# two pointer\n",
        "# one iteartion --> O(n)\n",
        "def trappingWater2(a):\n",
        "  max_area = 0\n",
        "  l = 0\n",
        "  r = len(a)-1\n",
        "  max_left = a[l]\n",
        "  max_right = a[r]\n",
        "  for i in range(len(a)):\n",
        "    if min(max_left,max_right) > a[i]:\n",
        "      max_area += min(max_left,max_right) - a[i]\n",
        "    if max_left < max_right:\n",
        "      l +=1\n",
        "      max_left = max(max_left,a[i])\n",
        "    else:\n",
        "      r -= 1\n",
        "      max_right = max(max_right,a[i])\n",
        "\n",
        "  return max_area\n",
        "\n",
        "if __name__==\"__main__\":\n",
        "  m = [0,1,0,2,1,0,1,3,2,1,2,1]\n",
        "  m1 = [4,2,0,3,2,5]\n",
        "  print(trappingWater2(m1))"
      ],
      "metadata": {
        "colab": {
          "base_uri": "https://localhost:8080/"
        },
        "id": "HU7FuRng3MhT",
        "outputId": "54a04eb2-b233-4a3d-8aa6-4f1283d2dbd8"
      },
      "execution_count": 123,
      "outputs": [
        {
          "output_type": "stream",
          "name": "stdout",
          "text": [
            "9\n"
          ]
        }
      ]
    },
    {
      "cell_type": "markdown",
      "source": [
        "#### Graphs"
      ],
      "metadata": {
        "id": "9SE8cmFHa2k2"
      }
    },
    {
      "cell_type": "markdown",
      "source": [
        "##### BFS"
      ],
      "metadata": {
        "id": "Dzvyggiba6B-"
      }
    },
    {
      "cell_type": "code",
      "source": [
        "# Python3 Program to print BFS traversal\n",
        "# from a given source vertex. BFS(int s)\n",
        "# traverses vertices reachable from s.\n",
        "from collections import defaultdict\n",
        " \n",
        "# This class represents a directed graph\n",
        "# using adjacency list representation\n",
        "class Graph:\n",
        " \n",
        "    # Constructor\n",
        "    def __init__(self):\n",
        " \n",
        "        # default dictionary to store graph\n",
        "        self.graph = defaultdict(list)\n",
        " \n",
        "    # function to add an edge to graph\n",
        "    def addEdge(self,u,v):\n",
        "        self.graph[u].append(v)\n",
        " \n",
        "    # Function to print a BFS of graph\n",
        "    def BFS(self, s):\n",
        "      visited = [False]*len(self.graph)\n",
        "      \n",
        "      queue = []\n",
        "\n",
        "      queue.append(s)\n",
        "\n",
        "      visited[s] = True\n",
        "\n",
        "      while queue:\n",
        "        s = queue.pop()\n",
        "        print(s, end = \" \")\n",
        "        for i in self.graph[s]:\n",
        "          if visited[i] == False:\n",
        "            queue.append(i)\n",
        "            visited[i] = True\n",
        "\n",
        " \n",
        "# Driver code\n",
        " \n",
        "# Create a graph given in\n",
        "# the above diagram\n",
        "g = Graph()\n",
        "g.addEdge(0, 1)\n",
        "g.addEdge(0, 2)\n",
        "g.addEdge(1, 2)\n",
        "g.addEdge(2, 0)\n",
        "g.addEdge(2, 3)\n",
        "g.addEdge(3, 3)\n",
        " \n",
        "print (\"Following is Breadth First Traversal\"\n",
        "                  \" (starting from vertex 2)\")\n",
        "g.BFS(2)\n",
        " "
      ],
      "metadata": {
        "colab": {
          "base_uri": "https://localhost:8080/"
        },
        "id": "U2bPtWm83MbV",
        "outputId": "1f52e708-2192-4e15-9e72-40b94ad017c8"
      },
      "execution_count": 6,
      "outputs": [
        {
          "output_type": "stream",
          "name": "stdout",
          "text": [
            "Following is Breadth First Traversal (starting from vertex 2)\n",
            "2 3 0 1 "
          ]
        }
      ]
    },
    {
      "cell_type": "code",
      "source": [
        ""
      ],
      "metadata": {
        "id": "zvE6a9783MYQ"
      },
      "execution_count": null,
      "outputs": []
    },
    {
      "cell_type": "code",
      "source": [
        ""
      ],
      "metadata": {
        "id": "dk-4JbG83MU3"
      },
      "execution_count": null,
      "outputs": []
    },
    {
      "cell_type": "code",
      "source": [
        ""
      ],
      "metadata": {
        "id": "uCm3FXLL3MRw"
      },
      "execution_count": null,
      "outputs": []
    }
  ]
}