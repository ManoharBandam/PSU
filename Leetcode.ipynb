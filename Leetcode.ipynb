{
  "nbformat": 4,
  "nbformat_minor": 0,
  "metadata": {
    "colab": {
      "name": "Leetcode.ipynb",
      "provenance": [],
      "collapsed_sections": [],
      "include_colab_link": true
    },
    "kernelspec": {
      "name": "python3",
      "display_name": "Python 3"
    },
    "language_info": {
      "name": "python"
    }
  },
  "cells": [
    {
      "cell_type": "markdown",
      "metadata": {
        "id": "view-in-github",
        "colab_type": "text"
      },
      "source": [
        "<a href=\"https://colab.research.google.com/github/ManoharBandam/PSU/blob/master/Leetcode.ipynb\" target=\"_parent\"><img src=\"https://colab.research.google.com/assets/colab-badge.svg\" alt=\"Open In Colab\"/></a>"
      ]
    },
    {
      "cell_type": "markdown",
      "source": [
        "### CISCO"
      ],
      "metadata": {
        "id": "qX_8khcTBi3T"
      }
    },
    {
      "cell_type": "code",
      "source": [
        "### CISCO"
      ],
      "metadata": {
        "id": "edt9IYfkSr5Q"
      },
      "execution_count": null,
      "outputs": []
    },
    {
      "cell_type": "code",
      "source": [
        "#### CISCO. ####"
      ],
      "metadata": {
        "id": "rA5dL_keSr3A"
      },
      "execution_count": null,
      "outputs": []
    },
    {
      "cell_type": "code",
      "execution_count": null,
      "metadata": {
        "colab": {
          "base_uri": "https://localhost:8080/"
        },
        "id": "xTfcwNjRQZTT",
        "outputId": "f0401e1e-0cf5-4d48-bb04-26adcaeb753f"
      },
      "outputs": [
        {
          "output_type": "stream",
          "name": "stdout",
          "text": [
            "W B W B W\n",
            "B W B W B\n",
            "W B W B W\n",
            "B W B W B\n",
            "W B W B W\n"
          ]
        }
      ],
      "source": [
        "def chessBoardPattern(num):\n",
        "  s1 = []\n",
        "  s2 = []\n",
        "  result = []\n",
        "  for i in range(0,num):\n",
        "    if i%2 == 0:\n",
        "      s1.append('W')\n",
        "      s2.append('B')\n",
        "    else:\n",
        "      s1.append('B')\n",
        "      s2.append('W')\n",
        "  for i in range(0,num):\n",
        "    if i%2 == 0:\n",
        "      result.append(s1)\n",
        "    else:\n",
        "      result.append(s2)\n",
        "  return result\n",
        "\n",
        "def main():\n",
        "  # num = int(raw_input())\n",
        "  num = 5\n",
        "  result = chessBoardPattern(num)\n",
        "\n",
        "  for i in range(len(result)):\n",
        "    temp = result[i]\n",
        "    print(\" \".join([str(res) for res in temp]))\n",
        "\n",
        "if __name__ == \"__main__\":\n",
        "  main()"
      ]
    },
    {
      "cell_type": "code",
      "source": [
        "def isPrime(elements):\n",
        "  result = []\n",
        "  for i in elements:\n",
        "    if(i == 2):\n",
        "      result.append(\"Prime\")\n",
        "    else:\n",
        "      flag = True\n",
        "      for j in range(2,i):\n",
        "        if i%j == 0:\n",
        "          result.append(\"Composite\")\n",
        "          flag = False\n",
        "          break\n",
        "      if flag:\n",
        "          result.append(\"Prime\")\n",
        "  return result\n",
        "\n",
        "\n",
        "def main():\n",
        "  elements = []\n",
        "  # size = int(raw_input())\n",
        "  size = \"4 11 34 29 7\"\n",
        "  elements = list(map(int, size.split()))\n",
        "\n",
        "  result = isPrime(elements)\n",
        "  print(\" \".join([str(res) for res in result]))\n",
        "\n",
        "if __name__ == \"__main__\":\n",
        "  main()"
      ],
      "metadata": {
        "colab": {
          "base_uri": "https://localhost:8080/"
        },
        "id": "XlRuO9gpSvLU",
        "outputId": "fd93d1d1-4b54-41a1-dcfa-6ce1b1f9520e"
      },
      "execution_count": null,
      "outputs": [
        {
          "output_type": "stream",
          "name": "stdout",
          "text": [
            "Composite Prime Composite Prime Prime\n"
          ]
        }
      ]
    },
    {
      "cell_type": "code",
      "source": [
        ""
      ],
      "metadata": {
        "id": "upvOFHiphykz"
      },
      "execution_count": null,
      "outputs": []
    },
    {
      "cell_type": "code",
      "source": [
        "def validate_ip_address(address):\n",
        "    parts = address.split(\".\")\n",
        "\n",
        "    if len(parts) != 4:\n",
        "        print(\"IP address {} is not valid\".format(address))\n",
        "        return False\n",
        "\n",
        "    for part in parts:\n",
        "        # print(part[0])\n",
        "        # print(len(part))\n",
        "        if not isinstance(int(part), int):\n",
        "            print(\"IP address {} is not valid\".format(address))\n",
        "            return False\n",
        "\n",
        "        if int(part) < 0 or int(part) > 255 or (part[0] == '0' and len(part)!=1):\n",
        "            print(\"IP address {} is not valid\".format(address))\n",
        "            return False\n",
        " \n",
        "    print(\"IP address {} is valid\".format(address))\n",
        "    return True \n",
        "\n",
        "def main():\n",
        "  # addressIp = int(raw_input())\n",
        "  addressIp = \"01.123.23.4\"\n",
        "  result = validate_ip_address(addressIp)\n",
        "  print(result)\n",
        "\n",
        "if __name__ == \"__main__\":\n",
        "  main()"
      ],
      "metadata": {
        "colab": {
          "base_uri": "https://localhost:8080/"
        },
        "id": "IpZ2g_bGUgIY",
        "outputId": "b3b877b9-e1a2-4d7d-e8e4-8bd27d4a32dc"
      },
      "execution_count": null,
      "outputs": [
        {
          "output_type": "stream",
          "name": "stdout",
          "text": [
            "0\n",
            "2\n",
            "IP address 01.123.23.4 is not valid\n",
            "False\n"
          ]
        }
      ]
    },
    {
      "cell_type": "code",
      "source": [
        "def digitSum(a,b):\n",
        "  count = 0\n",
        "  for i in range(a):\n",
        "    a_str = str(i)\n",
        "    temp_sum = 0\n",
        "    for j in range(len(a_str)):\n",
        "      # print(int(a_str[j]),temp_sum)\n",
        "      temp_sum +=  int(a_str[j])\n",
        "    if temp_sum == b:\n",
        "      count += 1\n",
        "  return count\n",
        "\n",
        "def main():\n",
        "  # addressIp = int(raw_input())\n",
        "  a = 20\n",
        "  b = 5\n",
        "  result = digitSum(a,b)\n",
        "  print(result)\n",
        "\n",
        "if __name__ == \"__main__\":\n",
        "  main()"
      ],
      "metadata": {
        "colab": {
          "base_uri": "https://localhost:8080/"
        },
        "id": "88WG08UIY9js",
        "outputId": "1034ddb7-938d-4c0a-d785-4781f39f2d0f"
      },
      "execution_count": null,
      "outputs": [
        {
          "output_type": "stream",
          "name": "stdout",
          "text": [
            "2\n"
          ]
        }
      ]
    },
    {
      "cell_type": "code",
      "source": [
        "def countOfBitSets(numInput):\n",
        "\t# Write your code here\n",
        "\tcount = 0\n",
        "\twhile(numInput>0):\n",
        "\t\tcount += numInput%2\n",
        "\t\tnumInput = numInput/2\n",
        "\treturn count\n",
        "\n",
        "def main():\n",
        "\t# input for numInput\n",
        "\t# numInput = int(raw_input())\n",
        "\tnumInput = 18\n",
        "\tresult = countOfBitSets(numInput)\n",
        "\tprint(int(result))\t\n",
        "\n",
        "if __name__ == \"__main__\":\n",
        "\tmain()"
      ],
      "metadata": {
        "colab": {
          "base_uri": "https://localhost:8080/"
        },
        "id": "SK-F3RsjhF_r",
        "outputId": "3d2d4de4-ea10-439d-87d9-48a8ec2cbbef"
      },
      "execution_count": null,
      "outputs": [
        {
          "output_type": "stream",
          "name": "stdout",
          "text": [
            "4\n"
          ]
        }
      ]
    },
    {
      "cell_type": "markdown",
      "source": [
        "Amazon"
      ],
      "metadata": {
        "id": "LvMcm-ukA8jv"
      }
    },
    {
      "cell_type": "code",
      "source": [
        "# Python 3 program to count number\n",
        "# of strictly decreasing subarrays\n",
        "# in O(n) time.\n",
        " \n",
        "# Function to count the number of\n",
        "# strictly decreasing subarrays\n",
        "def countDecreasing(A, n):\n",
        " \n",
        "    cnt = 0 # Initialize result\n",
        " \n",
        "    # Initialize length of current\n",
        "    # decreasing subarray\n",
        "    len = 1\n",
        " \n",
        "    # Traverse through the array\n",
        "    for i in range (n - 1) :\n",
        "         \n",
        "        # If arr[i+1] is less than arr[i],\n",
        "        # then increment length\n",
        "        if (A[i + 1] == A[i]-1):\n",
        "            len += 1\n",
        " \n",
        "        # Else Update count and\n",
        "        # reset length\n",
        "        else :\n",
        "            cnt += (((len - 1) * len) // 2);\n",
        "            len = 1\n",
        "     \n",
        "    # If last length is more than 1\n",
        "    if (len > 1):\n",
        "        cnt += (((len - 1) * len) // 2)\n",
        " \n",
        "    return cnt+n\n",
        " \n",
        "# Driver Code\n",
        "if __name__==\"__main__\":\n",
        " \n",
        "    A = [ 100, 4, 3, 2, 1, 13 ]\n",
        "    n = len(A)\n",
        " \n",
        "    print (countDecreasing(A, n))\n",
        " "
      ],
      "metadata": {
        "colab": {
          "base_uri": "https://localhost:8080/"
        },
        "id": "59F4Nsr1A8Np",
        "outputId": "4652c900-0a74-464c-8f0e-57dda42cd515"
      },
      "execution_count": null,
      "outputs": [
        {
          "output_type": "stream",
          "name": "stdout",
          "text": [
            "12\n"
          ]
        }
      ]
    },
    {
      "cell_type": "code",
      "source": [
        "#alternate way\n",
        "# Python 3 program to count number\n",
        "# of strictly decreasing subarrays\n",
        "# in O(n) time.\n",
        "import numpy as np\n",
        " \n",
        "# Function to count the number of\n",
        "# strictly decreasing subarrays\n",
        "def countDecreasing(A, n):\n",
        "    # count = np.ones(n)\n",
        "    count = [1] * n\n",
        "    for i in range(n-2):\n",
        "      i=i+1\n",
        "      if(A[i+1]==A[i]-1):\n",
        "        count[i]+=count[i-1]\n",
        "    return int(sum(count))\n",
        " \n",
        "if __name__==\"__main__\":\n",
        " \n",
        "    A = [ 100, 4, 3, 2, 5 ,4, 1, 13 ]\n",
        "    n = len(A)\n",
        " \n",
        "    print (countDecreasing(A, n))\n",
        " "
      ],
      "metadata": {
        "colab": {
          "base_uri": "https://localhost:8080/"
        },
        "id": "1lRkd36dCXNU",
        "outputId": "f074e478-e389-40e4-ad5e-a737280469ba"
      },
      "execution_count": null,
      "outputs": [
        {
          "output_type": "stream",
          "name": "stdout",
          "text": [
            "12\n"
          ]
        }
      ]
    },
    {
      "cell_type": "code",
      "source": [
        "# You are given two non-empty linked lists representing two non-negative integers. \n",
        "# The digits are stored in reverse order, and each of their nodes contains a single digit. Add the two numbers and return the sum as a linked list.\n",
        "\n",
        "# You may assume the two numbers do not contain any leading zero, except the number 0 itself.\n",
        "# Input: l1 = [2,4,3], l2 = [5,6,4]\n",
        "# Output: [7,0,8]\n",
        "# Explanation: 342 + 465 = 807.\n",
        "\n",
        "# Input: l1 = [9,9,9,9,9,9,9], l2 = [9,9,9,9]\n",
        "# Output: [8,9,9,9,0,0,0,1]"
      ],
      "metadata": {
        "id": "fbY4do8tWhb3"
      },
      "execution_count": null,
      "outputs": []
    },
    {
      "cell_type": "code",
      "source": [
        "# Definition for singly-linked list.\n",
        "# class ListNode(object):\n",
        "#     def __init__(self, val=0, next=None):\n",
        "#         self.val = val\n",
        "#         self.next = next\n",
        "class Solution(object):\n",
        "    def addTwoNumbers(l1, l2):\n",
        "        \"\"\"\n",
        "        :type l1: ListNode\n",
        "        :type l2: ListNode\n",
        "        :rtype: ListNode\n",
        "        \"\"\"\n",
        "        str1 = ''.join(map(str,l1))\n",
        "        str2 = ''.join(map(str,l2))\n",
        "        merged_int = int(str1)+int(str2)\n",
        "        reverse_str = str(merged_int)[::-1]\n",
        "        merged_str = list(map(int, reverse_str.split(\" \")))\n",
        "        return str(merged_str)\n",
        "\n",
        "\n",
        "    if __name__==\"__main__\":\n",
        "      A = [ 2,4,3 ]\n",
        "      B = [5,6,4]\n",
        "      l1 = [9,9,9,9,9,9,9]\n",
        "      l2 = [9,9,9,9]\n",
        "      print(addTwoNumbers(l1,l2))"
      ],
      "metadata": {
        "colab": {
          "base_uri": "https://localhost:8080/"
        },
        "id": "OymAQCT5WukG",
        "outputId": "5d50a6a3-21d6-4eb5-baa1-f8aa328c34ac"
      },
      "execution_count": null,
      "outputs": [
        {
          "output_type": "stream",
          "name": "stdout",
          "text": [
            "[89990001]\n"
          ]
        }
      ]
    },
    {
      "cell_type": "code",
      "source": [
        ""
      ],
      "metadata": {
        "id": "JpobYT5uaTok"
      },
      "execution_count": null,
      "outputs": []
    },
    {
      "cell_type": "code",
      "source": [
        "# Given a string s, find the length of the longest substring without repeating characters.\n",
        "\n",
        "# Input: s = \"abcabcbb\"\n",
        "# Output: 3\n",
        "# Explanation: The answer is \"abc\", with the length of 3.\n",
        "\n",
        "# Input: s = \"bbbbb\"\n",
        "# Output: 1\n",
        "# Explanation: The answer is \"b\", with the length of 1.\n",
        "\n",
        "# Input: s = \"pwwkew\"\n",
        "# Output: 3\n",
        "# Explanation: The answer is \"wke\", with the length of 3.\n",
        "# Notice that the answer must be a substring, \"pwke\" is a subsequence and not a substring."
      ],
      "metadata": {
        "id": "rgP_ReTMaUp0"
      },
      "execution_count": null,
      "outputs": []
    },
    {
      "cell_type": "code",
      "source": [
        "class Solution(object):\n",
        "    def lengthOfLongestSubstring(string):\n",
        "    \n",
        "        # last index of every character\n",
        "        last_idx = {}\n",
        "        max_len = 0\n",
        "    \n",
        "        # starting index of current\n",
        "        # window to calculate max_len\n",
        "        start_idx = 0\n",
        "    \n",
        "        for i in range(0, len(string)):\n",
        "          \n",
        "            # Find the last index of str[i]\n",
        "            # Update start_idx (starting index of current window)\n",
        "            # as maximum of current value of start_idx and last\n",
        "            # index plus 1\n",
        "            if string[i] in last_idx:\n",
        "                start_idx = max(start_idx, last_idx[string[i]] + 1)\n",
        "    \n",
        "            # Update result if we get a larger window\n",
        "            max_len = max(max_len, i-start_idx + 1)\n",
        "    \n",
        "            # Update last index of current char.\n",
        "            last_idx[string[i]] = i\n",
        "    \n",
        "        return max_len\n",
        "\n",
        "\n",
        "    if __name__==\"__main__\":\n",
        "      s1 = \"abcdnkfsvc\"\n",
        "      B = [5,6,4]\n",
        "      l1 = [9,9,9,9,9,9,9]\n",
        "      l2 = [9,9,9,9]\n",
        "      print(lengthOfLongestSubstring(s1))"
      ],
      "metadata": {
        "colab": {
          "base_uri": "https://localhost:8080/"
        },
        "id": "qwffwh_YaS5s",
        "outputId": "2f3ef8e5-4e78-4641-9cff-45bc6cc69e9f"
      },
      "execution_count": null,
      "outputs": [
        {
          "output_type": "stream",
          "name": "stdout",
          "text": [
            "9\n"
          ]
        }
      ]
    },
    {
      "cell_type": "code",
      "source": [
        "# Sliding window approach\n",
        "# Linear time\n",
        "class Solution(object):\n",
        "      def lengthOfLongestSubstring(s: str) -> int:\n",
        "        chars = [None] * 128\n",
        "\n",
        "        left = right = 0\n",
        "\n",
        "        res = 0\n",
        "        while right < len(s):\n",
        "            r = s[right]\n",
        "\n",
        "            index = chars[ord(r)]\n",
        "            \n",
        "            if index != None and index >= left and index < right:\n",
        "                left = index + 1\n",
        "\n",
        "            res = max(res, right - left + 1)\n",
        "            print(left,right,r,ord(r),index)\n",
        "            chars[ord(r)] = right\n",
        "            right += 1\n",
        "        return res\n",
        "      if __name__==\"__main__\":\n",
        "        s1 = \"abcdnakfsvca\"\n",
        "        print(lengthOfLongestSubstring(s1))      "
      ],
      "metadata": {
        "colab": {
          "base_uri": "https://localhost:8080/"
        },
        "id": "SrfGsQbse270",
        "outputId": "596ebd6d-28b2-4547-d19b-6eb63402370a"
      },
      "execution_count": null,
      "outputs": [
        {
          "output_type": "stream",
          "name": "stdout",
          "text": [
            "0 0 a 97 None\n",
            "0 1 b 98 None\n",
            "0 2 c 99 None\n",
            "0 3 d 100 None\n",
            "0 4 n 110 None\n",
            "1 5 a 97 0\n",
            "1 6 k 107 None\n",
            "1 7 f 102 None\n",
            "1 8 s 115 None\n",
            "1 9 v 118 None\n",
            "3 10 c 99 2\n",
            "6 11 a 97 5\n",
            "9\n"
          ]
        }
      ]
    },
    {
      "cell_type": "code",
      "source": [
        ""
      ],
      "metadata": {
        "id": "fpkjM5Cipsej"
      },
      "execution_count": null,
      "outputs": []
    },
    {
      "cell_type": "code",
      "source": [
        "# Amazon encryption of array with pascal's triangle\n",
        "# SDE fresh grad assessment -- fruit frnd"
      ],
      "metadata": {
        "id": "kjOt_H2urEAu"
      },
      "execution_count": null,
      "outputs": []
    },
    {
      "cell_type": "code",
      "source": [
        "def getEnc(numbers):\n",
        "  while len(numbers)!= 2:\n",
        "    temp = []\n",
        "    i=0\n",
        "    j=1\n",
        "\n",
        "    while j<len(numbers):\n",
        "      temp.append((numbers[i]+numbers[j])%10)\n",
        "      i+=1\n",
        "      j+=1\n",
        "    numbers = temp\n",
        "  return ''.join(str(i) for i in numbers)\n",
        "\n",
        "if __name__==\"__main__\":\n",
        "  s1 = [9,9,9,9,9,9,9]\n",
        "  s2 = [4,5,6,7]\n",
        "  print(getEnc(s2))   "
      ],
      "metadata": {
        "colab": {
          "base_uri": "https://localhost:8080/"
        },
        "id": "u1Un-Rakpsbb",
        "outputId": "1fd37a0d-62da-4c23-c781-31ea2022a83c"
      },
      "execution_count": null,
      "outputs": [
        {
          "output_type": "stream",
          "name": "stdout",
          "text": [
            "04\n"
          ]
        }
      ]
    },
    {
      "cell_type": "code",
      "source": [
        ""
      ],
      "metadata": {
        "id": "ca5Ay53wuBVI"
      },
      "execution_count": null,
      "outputs": []
    },
    {
      "cell_type": "code",
      "source": [
        "# Minimum number of groups that can be formed such that each movie is in exactly one group\n",
        "# SDE fresh grad assessment -- fruit frnd\n",
        "\n",
        "def minimumNumGroups(m,k):\n",
        "  m.sort()\n",
        "  idx = 0\n",
        "  cnt = 1\n",
        "  for j in range(len(m)):\n",
        "    if m[j]-m[idx]>k:\n",
        "      cnt += 1\n",
        "      idx =j\n",
        "  return cnt\n",
        "\n",
        "if __name__==\"__main__\":\n",
        "  m = [1,5,4,6,8,9,2]\n",
        "  k = 3\n",
        "  print(minimumNumGroups(m,k))   "
      ],
      "metadata": {
        "colab": {
          "base_uri": "https://localhost:8080/"
        },
        "id": "ZovDfN3buCVJ",
        "outputId": "44a79d7a-229d-4302-fae3-3a0250dde60e"
      },
      "execution_count": null,
      "outputs": [
        {
          "output_type": "stream",
          "name": "stdout",
          "text": [
            "3\n"
          ]
        }
      ]
    },
    {
      "cell_type": "code",
      "source": [
        ""
      ],
      "metadata": {
        "id": "u8jtq__-5z8k"
      },
      "execution_count": null,
      "outputs": []
    },
    {
      "cell_type": "code",
      "source": [
        "# Minimum possible cost of shipping the items to complete the load\n",
        "# SDE fresh grad assessment -- fruit\n",
        "\n",
        "def minimumNumGroups(m,k):\n",
        "  m.sort()\n",
        "  temp = []\n",
        "  cnt = len(m)\n",
        "  sum = 0\n",
        "  for j in range(k):\n",
        "    if cnt<k and j+1 not in m:\n",
        "      temp.append(j+1)\n",
        "      sum = sum + j+1\n",
        "      cnt += 1\n",
        "  return sum\n",
        "\n",
        "if __name__==\"__main__\":\n",
        "  m1 = [6,5,4,1,3]\n",
        "  m2 = [2,3,6,10,11]\n",
        "  k = 7\n",
        "  print(minimumNumGroups(m1,k))   "
      ],
      "metadata": {
        "colab": {
          "base_uri": "https://localhost:8080/"
        },
        "id": "YydF1qNB5zw5",
        "outputId": "34a3e8f3-3eda-4427-9ac8-0a9123e5cb68"
      },
      "execution_count": null,
      "outputs": [
        {
          "output_type": "stream",
          "name": "stdout",
          "text": [
            "9\n"
          ]
        }
      ]
    },
    {
      "cell_type": "code",
      "source": [
        ""
      ],
      "metadata": {
        "id": "0XsrXsxe8t0L"
      },
      "execution_count": null,
      "outputs": []
    },
    {
      "cell_type": "code",
      "source": [
        "# Minimum amount of main memory used by all of your processes in your instance \n",
        "# after you delete a contiguous segment of instances\n",
        "\n",
        "# SDE fresh grad assessment -- fruit\n",
        "\n",
        "def minimumMainMemory(m,k):\n",
        "  Total_sum = sum(m)\n",
        "  k_sum = 0\n",
        "  for j in range(k):\n",
        "    k_sum += m[j]\n",
        "  print(k,k_sum) \n",
        "  temp_sum = k_sum\n",
        "  for i in range(len(m)-k):\n",
        "    temp_sum = temp_sum-m[i]+m[i+k]\n",
        "    if temp_sum > k_sum:\n",
        "      k_sum = temp_sum\n",
        "    print(i,temp_sum,k_sum)\n",
        "  return Total_sum-k_sum\n",
        "\n",
        "if __name__==\"__main__\":\n",
        "  m1 = [4,6,10,8,2,1]\n",
        "  m2 = [2,3,6,10,11]\n",
        "  m3 = [10,4,8,13,20]\n",
        "  k = 3\n",
        "  print(minimumMainMemory(m1,k))  "
      ],
      "metadata": {
        "colab": {
          "base_uri": "https://localhost:8080/"
        },
        "id": "fFGwC3ww8ueK",
        "outputId": "400f5156-90ff-4b9a-d555-414d2afd2938"
      },
      "execution_count": null,
      "outputs": [
        {
          "output_type": "stream",
          "name": "stdout",
          "text": [
            "3 20\n",
            "0 24 24\n",
            "1 20 24\n",
            "2 11 24\n",
            "7\n"
          ]
        }
      ]
    },
    {
      "cell_type": "code",
      "source": [
        "# Given two sorted arrays nums1 and nums2 of size m and n respectively, return the median of the two sorted arrays.\n",
        "\n",
        "# The overall run time complexity should be O(log (m+n)).\n",
        "\n",
        "# amazon leet code --- hard\n",
        "\n",
        "def minimumMainMemory(m,k):\n",
        "  Total_sum = sum(m)\n",
        "  k_sum = 0\n",
        "  for j in range(k):\n",
        "    k_sum += m[j]\n",
        "  print(k,k_sum) \n",
        "  temp_sum = k_sum\n",
        "  for i in range(len(m)-k):\n",
        "    temp_sum = temp_sum-m[i]+m[i+k]\n",
        "    if temp_sum > k_sum:\n",
        "      k_sum = temp_sum\n",
        "    print(i,temp_sum,k_sum)\n",
        "  return Total_sum-k_sum\n",
        "\n",
        "if __name__==\"__main__\":\n",
        "  m1 = [4,6,10,8,2,1]\n",
        "  m2 = [2,3,6,10,11]\n",
        "  m3 = [10,4,8,13,20]\n",
        "  k = 3\n",
        "  print(minimumMainMemory(m1,m2))  "
      ],
      "metadata": {
        "id": "c8_7j_8LjVbN"
      },
      "execution_count": null,
      "outputs": []
    },
    {
      "cell_type": "code",
      "source": [
        ""
      ],
      "metadata": {
        "id": "z0ucZqujB2AK"
      },
      "execution_count": null,
      "outputs": []
    },
    {
      "cell_type": "markdown",
      "source": [
        "### Neetcode"
      ],
      "metadata": {
        "id": "eCzKlQI-B2h8"
      }
    },
    {
      "cell_type": "markdown",
      "source": [
        "#### Arrays & Hashing"
      ],
      "metadata": {
        "id": "nST6BkikB7hu"
      }
    },
    {
      "cell_type": "markdown",
      "source": [
        "##### Duplicate"
      ],
      "metadata": {
        "id": "zf3tLHKCCMCX"
      }
    },
    {
      "cell_type": "code",
      "source": [
        "#Given an integer array nums, return true if any value appears at least twice in the array, and return false if every element is distinct.\n",
        "\n",
        "# Example 1:\n",
        "\n",
        "# Input: nums = [1,2,3,1]\n",
        "# Output: true\n",
        "# Example 2:\n",
        "\n",
        "# Input: nums = [1,2,3,4]\n",
        "# Output: false\n",
        "# Example 3:\n",
        "\n",
        "# Input: nums = [1,1,1,3,3,4,3,2,4,2]\n",
        "# Output: true"
      ],
      "metadata": {
        "id": "a0tOgUQ0B51b"
      },
      "execution_count": null,
      "outputs": []
    },
    {
      "cell_type": "code",
      "source": [
        "# brute force O(n^2) O(1)\n",
        "def Duplicate1(a):\n",
        "  for i in range(len(a)):\n",
        "    for j in range(i+1,len(a)):\n",
        "      if(a[i] == a[j]):\n",
        "        return True\n",
        "  return False\n",
        "\n",
        "# Sort O(nlogn) O(1)\n",
        "def Duplicate2(a):\n",
        "  a.sort()\n",
        "  for i in range(1,len(a)):\n",
        "    if a[i] == a[i-1]:\n",
        "      return True\n",
        "  return False\n",
        "\n",
        "# Sort\n",
        "def Duplicate3(a):\n",
        "  a.sort()\n",
        "  for i in range(1,len(a)):\n",
        "    if a[i] == a[i-1]:\n",
        "      return True\n",
        "  return False\n",
        "\n",
        "# Hashmap/Hashset O(n) and O(n)\n",
        "def Duplicate4(a):\n",
        "  hashset = set()\n",
        "\n",
        "  for x in a:\n",
        "    if x in hashset:\n",
        "      return True\n",
        "    hashset.add(x)\n",
        "  return False\n",
        "\n",
        "# naive\n",
        "# A set does not hold duplicate items\n",
        "def Duplicate5(a):\n",
        "  myset = set(a) # Non-repeating element iterable modified as passed as argument. \n",
        "\n",
        "  return len(a) == len(myset)\n",
        "\n",
        "# Using collections.counter\n",
        "import collections\n",
        "def Duplicate6(a):\n",
        "  # create dictionary of counts\n",
        "  count_dict = collections.Counter(a).items()\n",
        "  print([item for item, count in count_dict if count > 1])\n",
        "\n",
        "  # seen = set()\n",
        "  # dupes = [x for x in a if x in seen or seen.add(x)]  \n",
        "\n",
        "if __name__==\"__main__\":\n",
        "  m1 = [4,6,1,8,10,4]\n",
        "  k = 3\n",
        "  print(Duplicate4(m1))  "
      ],
      "metadata": {
        "colab": {
          "base_uri": "https://localhost:8080/"
        },
        "id": "bP9gr895CT6y",
        "outputId": "38b9f01f-7ed3-434f-df20-8d847bad51d8"
      },
      "execution_count": null,
      "outputs": [
        {
          "output_type": "stream",
          "name": "stdout",
          "text": [
            "True\n"
          ]
        }
      ]
    },
    {
      "cell_type": "markdown",
      "source": [
        "##### Valid Anagram"
      ],
      "metadata": {
        "id": "eIQHZR5CWuQB"
      }
    },
    {
      "cell_type": "code",
      "source": [
        "# Given two strings s and t, return true if t is an anagram of s, and false otherwise.\n",
        "\n",
        "# An Anagram is a word or phrase formed by rearranging the letters of a different word or phrase, \n",
        "# typically using all the original letters exactly once.\n",
        "\n",
        "#Example 1:\n",
        "\n",
        "# Input: s = \"anagram\", t = \"nagaram\"\n",
        "# Output: true\n",
        "# Example 2:\n",
        "\n",
        "# Input: s = \"rat\", t = \"car\"\n",
        "# Output: false"
      ],
      "metadata": {
        "id": "bMqEyYPFRBAh"
      },
      "execution_count": null,
      "outputs": []
    },
    {
      "cell_type": "code",
      "source": [
        "# Hashset/Hashmap O(n) and O(n)\n",
        "def isAnagram1(s: str, t: str):\n",
        "  s_set = set(s)\n",
        "  t_set = set(t)\n",
        "  # for x in s_set:\n",
        "  #   if x not in t_set:\n",
        "  #     return False\n",
        "  # return True\n",
        "  if s_set == t_set:\n",
        "    return True\n",
        "  return False\n",
        "\n",
        "# list O(n) and O(n)\n",
        "def isAnagram2(s: str, t: str):\n",
        "  s_set = list(s)\n",
        "  t_set = list(t)\n",
        "  for x in s_set:\n",
        "    if x not in t_set:\n",
        "      return False\n",
        "  return True\n",
        "\n",
        "# Using counters --- same as hashmap\n",
        "def isAnagram3(s: str, t: str):\n",
        "  #one liner if counter(s) == counter(t): return True else: False\n",
        "\n",
        "  if(len(s)!=len(t)):\n",
        "    return False\n",
        "  countS = {}\n",
        "  countT = {}\n",
        "  for i in range(len(s)):\n",
        "    countS[s[i]] = 1+ countS.get(s[i],0)\n",
        "    countT[t[i]] = 1+ countT.get(t[i],0)\n",
        "  \n",
        "  if countS == countT:\n",
        "    return True\n",
        "  return False\n",
        "\n",
        "if __name__==\"__main__\":\n",
        "  m1 = \"rcabt\"\n",
        "  m2 = \"tabcr\"\n",
        "  print(isAnagram3(m1,m2))  "
      ],
      "metadata": {
        "colab": {
          "base_uri": "https://localhost:8080/"
        },
        "id": "5CRrPiLlXC5O",
        "outputId": "06a13165-1e7e-4a84-87e1-9bd5202cdefd"
      },
      "execution_count": null,
      "outputs": [
        {
          "output_type": "stream",
          "name": "stdout",
          "text": [
            "True\n"
          ]
        }
      ]
    },
    {
      "cell_type": "markdown",
      "source": [
        "##### Two Sum"
      ],
      "metadata": {
        "id": "FvAKdALtbazo"
      }
    },
    {
      "cell_type": "code",
      "source": [
        "# Given an array of integers nums and an integer target, return indices of the two numbers such that they add up to target.\n",
        "\n",
        "# You may assume that each input would have exactly one solution, and you may not use the same element twice.\n",
        "\n",
        "# You can return the answer in any order.\n",
        "\n",
        " \n",
        "\n",
        "# Example 1:\n",
        "\n",
        "# Input: nums = [2,7,11,15], target = 9\n",
        "# Output: [0,1]\n",
        "# Explanation: Because nums[0] + nums[1] == 9, we return [0, 1].\n",
        "# Example 2:\n",
        "\n",
        "# Input: nums = [3,2,4], target = 6\n",
        "# Output: [1,2]\n",
        "# Example 3:\n",
        "\n",
        "# Input: nums = [3,3], target = 6\n",
        "# Output: [0,1]"
      ],
      "metadata": {
        "id": "9dTbSYSFbfH-"
      },
      "execution_count": null,
      "outputs": []
    },
    {
      "cell_type": "code",
      "source": [
        "# Naive O(n^2) O(1)\n",
        "def twoSum1(a,t):\n",
        "  for i in range(len(a)):\n",
        "    for j in range(i+1,len(a)):\n",
        "      if t - a[i] == a[j]:\n",
        "        return True\n",
        "  return False\n",
        "\n",
        "# Hashmap O(n) O(n)\n",
        "def twoSum2(a,t):\n",
        "  a_set = set(a)\n",
        "  for x in a:\n",
        "      if t/x == 2:\n",
        "        count = 0\n",
        "        for y in a:\n",
        "          if y ==x:\n",
        "            count += 1\n",
        "        if count >= 2:\n",
        "          return True\n",
        "        return False\n",
        "      if t-x in a_set:\n",
        "        return True\n",
        "  return False\n",
        "\n",
        "# counter O(n) and O(n)\n",
        "import collections\n",
        "def twoSum3(a,t):\n",
        "  countA = {}\n",
        "  for x in a:\n",
        "    countA[x] = 1 + countA.get(x,0)\n",
        "  # # can be done with one liner\n",
        "  # countA = collections.Counter(a)\n",
        "  \n",
        "  for x in a:\n",
        "    if t/x == 2 and countA[x] < 2:\n",
        "      print(x)\n",
        "      return False\n",
        "    elif countA.get(t-x,0) != 0:\n",
        "      print(\"x\",x)\n",
        "      return True\n",
        "  return False\n",
        "\n",
        "\n",
        "# simple counter O(n) and O(n)\n",
        "def twoSum4(a,t):\n",
        "  countA = {}\n",
        "  for x in a:\n",
        "    if countA.get(t-x,0) >=1:\n",
        "      return True\n",
        "    countA[x] = countA.get(x,0) +1\n",
        "  return False\n",
        "\n",
        "\n",
        "if __name__==\"__main__\":\n",
        "  m1 = [4,6,1,9,10,4]\n",
        "  k = 11\n",
        "  print(twoSum4(m1, k))  "
      ],
      "metadata": {
        "colab": {
          "base_uri": "https://localhost:8080/"
        },
        "id": "ZKWPMEzXbf3d",
        "outputId": "e5199d0d-baea-40fb-9140-3374bf1764c4"
      },
      "execution_count": null,
      "outputs": [
        {
          "output_type": "stream",
          "name": "stdout",
          "text": [
            "True\n"
          ]
        }
      ]
    },
    {
      "cell_type": "markdown",
      "source": [
        "##### Group anagrams"
      ],
      "metadata": {
        "id": "-y2Rpy-Pl38R"
      }
    },
    {
      "cell_type": "code",
      "source": [
        "# Given an array of strings strs, group the anagrams together. You can return the answer in any order.\n",
        "\n",
        "# An Anagram is a word or phrase formed by rearranging the letters of a different word or phrase, \n",
        "# typically using all the original letters exactly once.\n",
        "\n",
        " \n",
        "# Example 1:\n",
        "\n",
        "# Input: strs = [\"eat\",\"tea\",\"tan\",\"ate\",\"nat\",\"bat\"]\n",
        "# Output: [[\"bat\"],[\"nat\",\"tan\"],[\"ate\",\"eat\",\"tea\"]]\n",
        "# Example 2:\n",
        "\n",
        "# Input: strs = [\"\"]\n",
        "# Output: [[\"\"]]\n",
        "# Example 3:\n",
        "\n",
        "# Input: strs = [\"a\"]\n",
        "# Output: [[\"a\"]]\n"
      ],
      "metadata": {
        "id": "tI1_gI05bf0_"
      },
      "execution_count": null,
      "outputs": []
    },
    {
      "cell_type": "code",
      "source": [
        "# Brute force \n",
        "#  sort and iterate O(n^2) and 3O(n)\n",
        "def groupAnagrams1(a):\n",
        "  output = []\n",
        "  a_sorted = []\n",
        "  visited = [0] * len(a)\n",
        "  for x in a:\n",
        "    a_sorted.append(''.join(sorted(x)))\n",
        "  # print(a_sorted)\n",
        "  for i in range(len(a)):\n",
        "    temp_output = []\n",
        "    if visited[i]==0:\n",
        "      temp_output.append(a[i])\n",
        "      visited[i]=1\n",
        "      # print(i,visited[i])\n",
        "      for j in range(i+1,len(a)):\n",
        "        if a_sorted[i] == a_sorted[j] and visited[j]==0:\n",
        "          temp_output.append(a[j])\n",
        "          visited[j]=1\n",
        "    # print(visited)\n",
        "    if len(temp_output)!=0:\n",
        "      print(temp_output)\n",
        "      output.append(temp_output)\n",
        "  return output\n",
        "\n",
        "\n",
        "if __name__==\"__main__\":\n",
        "  m1 = [\"eat\",\"tea\",\"tan\",\"ate\",\"nat\",\"bat\"]\n",
        "  print(groupAnagrams1(m1))  "
      ],
      "metadata": {
        "colab": {
          "base_uri": "https://localhost:8080/"
        },
        "id": "oMg35qqGbfx9",
        "outputId": "7fbc91a0-08ca-46f6-926f-6da04779aece"
      },
      "execution_count": null,
      "outputs": [
        {
          "output_type": "stream",
          "name": "stdout",
          "text": [
            "['eat', 'tea', 'ate']\n",
            "['tan', 'nat']\n",
            "['bat']\n",
            "[['eat', 'tea', 'ate'], ['tan', 'nat'], ['bat']]\n"
          ]
        }
      ]
    },
    {
      "cell_type": "code",
      "source": [
        "# Hash map and counter\n",
        "# O(mn)\n",
        "# m number of entries/strings\n",
        "# n avergae number of characters in each string\n",
        "import collections\n",
        "def groupAnagrams1(a):\n",
        "  res = collections.defaultdict(list)\n",
        "  for i in a:\n",
        "    count = [0]*26\n",
        "    for c in i:\n",
        "      count[ord(c)-ord(\"a\")] += 1\n",
        "    res[tuple(count)].append(i)\n",
        "  return res.values()\n",
        "\n",
        "\n",
        "if __name__==\"__main__\":\n",
        "  m1 = [\"eat\",\"tea\",\"tan\",\"ate\",\"nat\",\"bat\"]\n",
        "  print(groupAnagrams1(m1))  "
      ],
      "metadata": {
        "colab": {
          "base_uri": "https://localhost:8080/"
        },
        "id": "T1kE4idHbfuw",
        "outputId": "037da57f-b91e-4132-aba8-5031c3b9f235"
      },
      "execution_count": null,
      "outputs": [
        {
          "output_type": "stream",
          "name": "stdout",
          "text": [
            "dict_values([['eat', 'tea', 'ate'], ['tan', 'nat'], ['bat']])\n"
          ]
        }
      ]
    },
    {
      "cell_type": "code",
      "source": [
        ""
      ],
      "metadata": {
        "id": "pe43RwQVbfry"
      },
      "execution_count": null,
      "outputs": []
    },
    {
      "cell_type": "markdown",
      "source": [
        "##### K frequent characters"
      ],
      "metadata": {
        "id": "_wmduJtU_6Ua"
      }
    },
    {
      "cell_type": "code",
      "source": [
        "# Given an integer array nums and an integer k, return the k most frequent elements. You may return the answer in any order.\n",
        "\n",
        "# Example 1:\n",
        "\n",
        "# Input: nums = [1,1,1,2,2,3], k = 2\n",
        "# Output: [1,2]\n",
        "# Example 2:\n",
        "\n",
        "# Input: nums = [1], k = 1\n",
        "# Output: [1]"
      ],
      "metadata": {
        "id": "vw9NM9tn_-th"
      },
      "execution_count": null,
      "outputs": []
    },
    {
      "cell_type": "code",
      "source": [
        "# simple counter O(nlogn) and O(n)\n",
        "def kfrequent1(a,t):\n",
        "  count = {}\n",
        "  for i in a:\n",
        "    count[i] = count.get(i,0)+1\n",
        "  sorted_Count = sorted(count.items(), key=lambda x: x[1], reverse=True)\n",
        "  print(sorted_Count)\n",
        "  return sorted_Count[:t]\n",
        "\n",
        "# rather than sorting (nlogn) we can use heap (klogn)\n",
        "\n",
        "# we can solve this in linear time without sorting\n",
        "\n",
        "def kfrequent2(a,t):\n",
        "  # res = [[]]*(len(a)+1) is not working as expected because res is having references to \n",
        "  # [] not the actual values, so every value is getting updated. see below cells\n",
        "  res = [[] for i in range(len(a)+1)]\n",
        "  count = {}\n",
        "  for i in a:\n",
        "    count[i] = count.get(i,0)+1\n",
        "  for k,v in count.items():\n",
        "    res[v].append(k)\n",
        "  output =[]\n",
        "  for i in reversed(res):\n",
        "    for j in i:\n",
        "      if t>0:\n",
        "        output.append(j)\n",
        "        t -= 1\n",
        "  return output\n",
        "\n",
        "\n",
        "if __name__==\"__main__\":\n",
        "  m1 = [4, 6, 1, 9, 10, 4, 9, 1, 4, 6, 6, 6]\n",
        "  k = 1\n",
        "  print(kfrequent2(m1, k)) "
      ],
      "metadata": {
        "colab": {
          "base_uri": "https://localhost:8080/"
        },
        "id": "dViKF0qA__A1",
        "outputId": "b73db29a-22a9-48d6-f5fe-c47545c56c54"
      },
      "execution_count": null,
      "outputs": [
        {
          "output_type": "stream",
          "name": "stdout",
          "text": [
            "[6]\n"
          ]
        }
      ]
    },
    {
      "cell_type": "code",
      "source": [
        ""
      ],
      "metadata": {
        "id": "SwBRBFb7Qftu"
      },
      "execution_count": null,
      "outputs": []
    },
    {
      "cell_type": "code",
      "source": [
        "res = [[] for i in range(2)]\n",
        "res[1].append(1)\n",
        "print(res)"
      ],
      "metadata": {
        "colab": {
          "base_uri": "https://localhost:8080/"
        },
        "id": "rJ265ioS_-8X",
        "outputId": "d9a81e35-c672-42aa-d6d9-01a42f4ee80b"
      },
      "execution_count": null,
      "outputs": [
        {
          "output_type": "stream",
          "name": "stdout",
          "text": [
            "[[], [1]]\n"
          ]
        }
      ]
    },
    {
      "cell_type": "code",
      "source": [
        "res = [[]]*2\n",
        "print(res)\n",
        "res[1].append(1)\n",
        "print(res)"
      ],
      "metadata": {
        "colab": {
          "base_uri": "https://localhost:8080/"
        },
        "id": "MHmoxpIX_-0H",
        "outputId": "8f58c217-2a2a-4ef0-e4b5-1110c7415dcb"
      },
      "execution_count": null,
      "outputs": [
        {
          "output_type": "stream",
          "name": "stdout",
          "text": [
            "[[], []]\n",
            "[[1], [1]]\n"
          ]
        }
      ]
    },
    {
      "cell_type": "markdown",
      "source": [
        "##### product of array except self"
      ],
      "metadata": {
        "id": "qInaFIGoSt_d"
      }
    },
    {
      "cell_type": "code",
      "source": [
        "# Given an integer array nums, return an array answer such that answer[i] is equal to the product of all the elements of nums except nums[i].\n",
        "\n",
        "# The product of any prefix or suffix of nums is guaranteed to fit in a 32-bit integer.\n",
        "\n",
        "# You must write an algorithm that runs in O(n) time and without using the division operation.\n",
        "\n",
        "\n",
        "# Example 1:\n",
        "\n",
        "# Input: nums = [1,2,3,4]\n",
        "# Output: [24,12,8,6]\n",
        "# Example 2:\n",
        "\n",
        "# Input: nums = [-1,1,0,-3,3]\n",
        "# Output: [0,0,9,0,0]"
      ],
      "metadata": {
        "id": "ozRs8Yx2_-w6"
      },
      "execution_count": null,
      "outputs": []
    },
    {
      "cell_type": "code",
      "source": [
        "# Naive O(n) O(n)\n",
        "def arrayProductExceptSelf1(a):\n",
        "  productExclude0 = 1\n",
        "  product0 = 1\n",
        "  count0 = 0\n",
        "  index = -1\n",
        "  for i in range(len(a)):\n",
        "    if count0 == 2:\n",
        "      return [0]*len(a)\n",
        "    if a[i] == 0:\n",
        "      count0 += 1\n",
        "      index = i\n",
        "    else:\n",
        "      productExclude0 *= a[i]\n",
        "    product0 *= a[i]\n",
        "    # print(\"product0,productExclude0,count0:\",product0,productExclude0,count0)\n",
        "  res = [productExclude0]*len(a)\n",
        "  if count0 == 1:\n",
        "    res = [0]*len(a)\n",
        "    res[index] = productExclude0\n",
        "    return res\n",
        "  for i in range(len(a)):\n",
        "    res[i] = int(res[i]/a[i])\n",
        "  return res\n",
        "\n",
        "# suffix and prefix multiplications\n",
        "# O(n)+O(n)\n",
        "def arrayProductExceptSelf2(a):\n",
        "  res = [1]*len(a)\n",
        "  for i in range(1,len(a)-1):\n",
        "    res[i+1] = res[i]*a[i]\n",
        "  suffix = a[-1]\n",
        "  for i in range(len(a)-2,-1,-1):\n",
        "    res[i] = res[i]*suffix\n",
        "    suffix = suffix*a[i]\n",
        "  return res\n",
        "\n",
        "if __name__==\"__main__\":\n",
        "  m = [1,0,3,4]\n",
        "  print(arrayProductExceptSelf2(m)) "
      ],
      "metadata": {
        "colab": {
          "base_uri": "https://localhost:8080/"
        },
        "id": "TsJUJfaFS9Z4",
        "outputId": "fff7a701-a3ae-44a1-ce7f-b3c2730d30f0"
      },
      "execution_count": null,
      "outputs": [
        {
          "output_type": "stream",
          "name": "stdout",
          "text": [
            "[0, 12, 0, 0]\n"
          ]
        }
      ]
    },
    {
      "cell_type": "markdown",
      "source": [
        "##### Valid sudoku"
      ],
      "metadata": {
        "id": "NcpCMTf1c9TN"
      }
    },
    {
      "cell_type": "code",
      "source": [
        "# Determine if a 9 x 9 Sudoku board is valid. Only the filled cells need to be validated according to the following rules:\n",
        "\n",
        "# Each row must contain the digits 1-9 without repetition.\n",
        "# Each column must contain the digits 1-9 without repetition.\n",
        "# Each of the nine 3 x 3 sub-boxes of the grid must contain the digits 1-9 without repetition.\n",
        "# Note:\n",
        "\n",
        "# A Sudoku board (partially filled) could be valid but is not necessarily solvable.\n",
        "# Only the filled cells need to be validated according to the mentioned rules."
      ],
      "metadata": {
        "id": "HOaLgW20S9XV"
      },
      "execution_count": null,
      "outputs": []
    },
    {
      "cell_type": "code",
      "source": [
        "from typing import Set\n",
        "# brute force O(n3)\n",
        "def validRow(r):\n",
        "  hashset={}\n",
        "  # print(\"valid c/r:\",r)\n",
        "  for i in r:\n",
        "    hashset[i] = hashset.get(i,0)+1\n",
        "    if(hashset[i]>1 and i!=\".\"):\n",
        "      return False\n",
        "  return True\n",
        "\n",
        "def validSudoku1(a):\n",
        "  for i in range(len(a)):\n",
        "    c = []\n",
        "    for j in range(len(a)):\n",
        "      # print(c)\n",
        "      c.append(a[j][i])\n",
        "    if (i+1)%3 == 0:\n",
        "      box1 = a[i][:3] + a[i-1][:3] + a[i-2][:3]\n",
        "      box2 = a[i][3:6] + a[i-1][3:6] + a[i-2][3:6]\n",
        "      box3 = a[i][6:9] + a[i-1][6:9] + a[i-2][6:9]\n",
        "      if validRow(box1) and validRow(box2) and validRow(box3):\n",
        "        return True\n",
        "\n",
        "    if not(validRow(a[i]) and validRow(c)):\n",
        "      return False\n",
        "  return True\n",
        "\n",
        "\n",
        "# we can solve this in O(n^2)\n",
        "# the idea is create hashset for rows columns and squares\n",
        "def validSudoku2(a):\n",
        "  rows = collections.defaultdict(set)\n",
        "  cols = collections.defaultdict(set)\n",
        "  squares = collections.defaultdict(set)\n",
        "  for r in range(9):\n",
        "    for c in range(9):\n",
        "      # we dont need to worry about the empty cells\n",
        "      if a[r][c] == \".\":\n",
        "        continue\n",
        "      if (a[r][c] in rows[r] or # check if the value present in current row hashset\n",
        "          a[r][c] in cols[c] or # check if the value present in current column hashset\n",
        "          a[r][c] in squares[(r//3,c//3)]): # check if the value present in current square hashset\n",
        "          return False\n",
        "      rows[r].add(a[r][c])\n",
        "      cols[c].add(a[r][c])\n",
        "      squares[(r//3,c//3)].add(a[r][c])\n",
        "  return True\n",
        "\n",
        "if __name__==\"__main__\":\n",
        "  m = [[\"5\",\"3\",\".\",\".\",\"7\",\".\",\".\",\".\",\".\"]\n",
        ",[\"6\",\".\",\".\",\"1\",\"9\",\"5\",\".\",\".\",\".\"]\n",
        ",[\".\",\"1\",\"8\",\".\",\".\",\".\",\".\",\"6\",\".\"]\n",
        ",[\"8\",\".\",\".\",\".\",\"6\",\".\",\".\",\".\",\"3\"]\n",
        ",[\"4\",\".\",\".\",\"8\",\".\",\"3\",\".\",\".\",\"1\"]\n",
        ",[\"7\",\".\",\".\",\".\",\"2\",\".\",\".\",\".\",\"6\"]\n",
        ",[\".\",\"6\",\".\",\".\",\".\",\".\",\"2\",\"8\",\".\"]\n",
        ",[\".\",\".\",\".\",\"4\",\"1\",\"9\",\".\",\".\",\"5\"]\n",
        ",[\".\",\".\",\".\",\".\",\"8\",\".\",\".\",\"7\",\"9\"]]\n",
        "  print(validSudoku2(m)) "
      ],
      "metadata": {
        "colab": {
          "base_uri": "https://localhost:8080/"
        },
        "id": "7Q8QvhkeS9UL",
        "outputId": "7ce9fa39-59dc-4b1d-adbc-cb2dc27aa69f"
      },
      "execution_count": null,
      "outputs": [
        {
          "output_type": "stream",
          "name": "stdout",
          "text": [
            "True\n"
          ]
        }
      ]
    },
    {
      "cell_type": "markdown",
      "source": [
        "##### Encode Decode strings"
      ],
      "metadata": {
        "id": "ewSQuzemrGLC"
      }
    },
    {
      "cell_type": "code",
      "source": [
        "# Description\n",
        "# Design an algorithm to encode a list of strings to a string. \n",
        "# The encoded string is then sent over the network and is decoded back to the original list of strings.\n",
        "\n",
        "# Please implement encode and decode\n",
        "\n",
        "# Example\n",
        "# Example1\n",
        "\n",
        "# Input: [\"lint\",\"code\",\"love\",\"you\"]\n",
        "# Output: [\"lint\",\"code\",\"love\",\"you\"]\n",
        "# Explanation:\n",
        "# One possible encode method is: \"lint:;code:;love:;you\"\n",
        "# Example2\n",
        "\n",
        "# Input: [\"we\", \"say\", \":\", \"yes\"]\n",
        "# Output: [\"we\", \"say\", \":\", \"yes\"]\n",
        "# Explanation:\n",
        "# One possible encode method is: \"we:;say:;:::;yes\""
      ],
      "metadata": {
        "id": "xDgAtw1KS9RA"
      },
      "execution_count": null,
      "outputs": []
    },
    {
      "cell_type": "code",
      "source": [
        "# brute force \n",
        "# fails when there are delimeters in the strings itself\n",
        "def encodeDecode1(a):\n",
        "  return a.split(\"|\")\n",
        "\n",
        "def encode1(a):\n",
        "  return encodeDecode('|'.join(a))\n",
        "\n",
        "# one of the approaches is append each string with length followed by a delimeter\n",
        "# we start with length and delimeters so all the cases will be handled\n",
        "# O(n)--where n is the total number of characters across all words\n",
        "def encodeDecode2(a):\n",
        "  decoded = []\n",
        "  for i in a:\n",
        "    decoded.append(i[2:2+int(i[0])])\n",
        "  return decoded\n",
        "\n",
        "def encode2(a):\n",
        "  encoded = []\n",
        "  for i in a:\n",
        "    encoded.append(str(len(i))+\"#\"+i)\n",
        "  return encodeDecode2(encoded)\n",
        "\n",
        "if __name__==\"__main__\":\n",
        "  m1 = [\"eat\",\"tea\",\"tan\",\"ate\",\"nat\",\"bat\"]\n",
        "  m2 = [\"eat\",\"tea\",\"tan\",\"ate\",\"nat\",\"bat\"]\n",
        "  print(encode2(m1))  "
      ],
      "metadata": {
        "colab": {
          "base_uri": "https://localhost:8080/"
        },
        "id": "rPfuKGHoS9OI",
        "outputId": "8a75eaac-3482-48a4-9dfd-b0162ee56b5b"
      },
      "execution_count": null,
      "outputs": [
        {
          "output_type": "stream",
          "name": "stdout",
          "text": [
            "['eat', 'tea', 'tan', 'ate', 'nat', 'bat']\n"
          ]
        }
      ]
    },
    {
      "cell_type": "markdown",
      "source": [
        "##### Longest consecutive sequence"
      ],
      "metadata": {
        "id": "yGnOyuy8wdBU"
      }
    },
    {
      "cell_type": "code",
      "source": [
        "\n",
        "# Given an unsorted array of integers nums, return the length of the longest consecutive elements sequence.\n",
        "# You must write an algorithm that runs in O(n) time.\n",
        "\n",
        "# Example 1:\n",
        "# Input: nums = [100,4,200,1,3,2]\n",
        "# Output: 4\n",
        "# Explanation: The longest consecutive elements sequence is [1, 2, 3, 4]. Therefore its length is 4.\n",
        "\n",
        "# Example 2:\n",
        "# Input: nums = [0,3,7,2,5,8,4,6,0,1]\n",
        "# Output: 9"
      ],
      "metadata": {
        "id": "CJ1-M4fqvo4y"
      },
      "execution_count": null,
      "outputs": []
    },
    {
      "cell_type": "code",
      "source": [
        "# One of the naive methods is to sort \n",
        "# O(nlogn)\n",
        "# we need O(n) complexity\n"
      ],
      "metadata": {
        "id": "a91u4zC4xLOb"
      },
      "execution_count": null,
      "outputs": []
    },
    {
      "cell_type": "code",
      "source": [
        "import collections \n",
        "def longestConsSeq(a):\n",
        "  res = collections.defaultdict(list)\n",
        "  a_set = set(a)\n",
        "  longest_seq_length = 0\n",
        "  key = -1\n",
        "  # print(a_set)\n",
        "  for x in a:\n",
        "    #  check if x is start of sequence\n",
        "    if x-1 not in a_set:\n",
        "      length = 0\n",
        "      # while the next element exist in the set keep adding theelements to the dict and \n",
        "      # keey track of staring index and length\n",
        "      while x+length in a_set:\n",
        "        res[x].append(x+length)\n",
        "        length = length+1\n",
        "      if length>longest_seq_length:\n",
        "        longest_seq_length = length\n",
        "        key = x\n",
        "  return res[key]\n",
        "\n",
        "if __name__==\"__main__\":\n",
        "  m = [1,100,3,4,200,2,6,9,7,8]\n",
        "  print(longestConsSeq(m)) "
      ],
      "metadata": {
        "colab": {
          "base_uri": "https://localhost:8080/"
        },
        "id": "sqZG-SzmxLLp",
        "outputId": "1942dc0a-af95-40df-f6e6-9d300e8a697d"
      },
      "execution_count": null,
      "outputs": [
        {
          "output_type": "stream",
          "name": "stdout",
          "text": [
            "[1, 2, 3, 4]\n"
          ]
        }
      ]
    },
    {
      "cell_type": "markdown",
      "source": [
        "##### paranthesis mapping"
      ],
      "metadata": {
        "id": "un84gP1CAL_5"
      }
    },
    {
      "cell_type": "code",
      "source": [
        "# walmart - data scientist - gp\n",
        "import collections\n",
        "def paranthesisMatching(s):\n",
        "  if len(s) == 0 or len(s)%2 == 1: return False\n",
        "  swaps = 0\n",
        "  queue = collections.deque()\n",
        "  queue.append(s[0])\n",
        "  # print(s[0],queue)\n",
        "  for i in range(1,len(s)):\n",
        "    if queue:\n",
        "      top = queue.pop() \n",
        "      if top == \"]\" and s[i] == \"[\":\n",
        "        swaps += 1\n",
        "      elif top == \"[\" and s[i] == \"]\":\n",
        "        continue\n",
        "      else:\n",
        "        queue.append(top)\n",
        "        queue.append(s[i])\n",
        "    else:\n",
        "      queue.append(s[i])\n",
        "  return False if queue else swaps\n",
        "\n",
        "def paranthesisMatching2(s):\n",
        "  if len(s) == 0 or len(s)%2 == 1: return False\n",
        "  swaps = 0\n",
        "  count_open = 0\n",
        "  count_closed = 0\n",
        "  for i in s:\n",
        "    # print(i,count_open,count_closed)\n",
        "    if i == \"[\":\n",
        "      if count_closed > count_open:\n",
        "        swaps += 1\n",
        "      count_open += 1\n",
        "    else:\n",
        "      count_closed += 1\n",
        "  return swaps\n",
        "\n",
        "\n",
        "if __name__==\"__main__\":\n",
        "  m1 = \"[]][][\"\n",
        "  m2 = \"[[][]]\"\n",
        "  print(paranthesisMatching2(m1))  \n"
      ],
      "metadata": {
        "colab": {
          "base_uri": "https://localhost:8080/"
        },
        "id": "ortNK733APsq",
        "outputId": "26055284-2326-4bfe-f1df-ff6bfebb3754"
      },
      "execution_count": null,
      "outputs": [
        {
          "output_type": "stream",
          "name": "stdout",
          "text": [
            "2\n"
          ]
        }
      ]
    },
    {
      "cell_type": "markdown",
      "source": [
        "##### first unique character"
      ],
      "metadata": {
        "id": "Wo6pTkE1s7ie"
      }
    },
    {
      "cell_type": "code",
      "source": [
        "import collections\n",
        "def uniqueChar(s):\n",
        "  count_dict = collections.defaultdict(int)\n",
        "  for i in s:\n",
        "    count_dict[i] = count_dict.get(i,0)+1\n",
        "  \n",
        "  for key, val in count_dict.items():\n",
        "    if val == 1:\n",
        "      return key\n",
        "  return \"\"\n",
        "\n",
        "if __name__==\"__main__\":\n",
        "  s = \"abccad\"\n",
        "  print(uniqueChar(s))"
      ],
      "metadata": {
        "colab": {
          "base_uri": "https://localhost:8080/"
        },
        "id": "vpwJIPXMtAhO",
        "outputId": "afca2e2e-79da-4772-afe5-b0b0622b2a43"
      },
      "execution_count": null,
      "outputs": [
        {
          "output_type": "stream",
          "name": "stdout",
          "text": [
            "b\n"
          ]
        }
      ]
    },
    {
      "cell_type": "markdown",
      "source": [
        "#### Two pointers"
      ],
      "metadata": {
        "id": "i45HeGl9SLd9"
      }
    },
    {
      "cell_type": "markdown",
      "source": [
        "##### Palindrome string"
      ],
      "metadata": {
        "id": "wibYAPw4W0fs"
      }
    },
    {
      "cell_type": "code",
      "source": [
        "# A phrase is a palindrome if, after converting all uppercase letters into lowercase letters \n",
        "# and removing all non-alphanumeric characters, it reads the same forward and backward. \n",
        "# Alphanumeric characters include letters and numbers.\n",
        "# Given a string s, return true if it is a palindrome, or false otherwise.\n",
        "\n",
        "# Example 1:\n",
        "# Input: s = \"A man, a plan, a canal: Panama\"\n",
        "# Output: true\n",
        "# Explanation: \"amanaplanacanalpanama\" is a palindrome.\n",
        "\n",
        "# Example 2:\n",
        "# Input: s = \"race a car\"\n",
        "# Output: false\n",
        "# Explanation: \"raceacar\" is not a palindrome.\n",
        "\n",
        "# Example 3:\n",
        "# Input: s = \" \"\n",
        "# Output: true\n",
        "# Explanation: s is an empty string \"\" after removing non-alphanumeric characters.\n",
        "# Since an empty string reads the same forward and backward, it is a palindrome."
      ],
      "metadata": {
        "id": "G-Dr_zC-xLI4"
      },
      "execution_count": null,
      "outputs": []
    },
    {
      "cell_type": "code",
      "source": [
        "# brute force\n",
        "# instead isalnum(), we can use ascii numbers to determine if it is a alpha numeric or not\n",
        "def isAlphaNum(a):\n",
        "  if (ord(\"A\")<=ord(a)<=ord(\"Z\") or\n",
        "      ord(\"a\")<=ord(a)<=ord(\"z\") or\n",
        "      ord(\"0\")<=ord(a)<=ord(\"9\")):\n",
        "    return True\n",
        "  return False\n",
        "\n",
        "def palindromeSentence(a):\n",
        "  i = 0\n",
        "  j = len(a)-1\n",
        "  while i<j:\n",
        "    if not isAlphaNum(a[i]):\n",
        "      i += 1\n",
        "      continue\n",
        "    if not isAlphaNum(a[j]):\n",
        "      j -= 1\n",
        "      continue\n",
        "    if a[i].lower() != a[j].lower():\n",
        "      print(i,j,a[i],a[j])\n",
        "      return False\n",
        "    i += 1\n",
        "    j -= 1\n",
        "  return True\n",
        "\n",
        "if __name__==\"__main__\":\n",
        "  m1 = \"race a car\"\n",
        "  m2 = \"A man, a plan, a canal: Panama\"\n",
        "  print(palindromeSentence(m2)) "
      ],
      "metadata": {
        "colab": {
          "base_uri": "https://localhost:8080/"
        },
        "id": "zTauKEgCxLGK",
        "outputId": "b38aaa70-c678-4fa2-c5fa-1c3d11d51ddd"
      },
      "execution_count": null,
      "outputs": [
        {
          "output_type": "stream",
          "name": "stdout",
          "text": [
            "True\n"
          ]
        }
      ]
    },
    {
      "cell_type": "markdown",
      "source": [
        "##### Twosum II"
      ],
      "metadata": {
        "id": "np-hreqkWvGb"
      }
    },
    {
      "cell_type": "code",
      "source": [
        "# Given a 1-indexed array of integers numbers that is already sorted in non-decreasing order, find two numbers such that they add up to a specific target number. Let these two numbers be numbers[index1] and numbers[index2] where 1 <= index1 < index2 <= numbers.length.\n",
        "\n",
        "# Return the indices of the two numbers, index1 and index2, added by one as an integer array [index1, index2] of length 2.\n",
        "\n",
        "# The tests are generated such that there is exactly one solution. You may not use the same element twice.\n",
        "\n",
        "# Your solution must use only constant extra space.\n",
        "\n",
        "\n",
        "# Example 1:\n",
        "# Input: numbers = [2,7,11,15], target = 9\n",
        "# Output: [1,2]\n",
        "# Explanation: The sum of 2 and 7 is 9. Therefore, index1 = 1, index2 = 2. We return [1, 2].\n",
        "\n",
        "# Example 2:\n",
        "# Input: numbers = [2,3,4], target = 6\n",
        "# Output: [1,3]\n",
        "# Explanation: The sum of 2 and 4 is 6. Therefore index1 = 1, index2 = 3. We return [1, 3].\n",
        "\n",
        "# Example 3:\n",
        "# Input: numbers = [-1,0], target = -1\n",
        "# Output: [1,2]\n",
        "# Explanation: The sum of -1 and 0 is -1. Therefore index1 = 1, index2 = 2. We return [1, 2]."
      ],
      "metadata": {
        "id": "0kc4Y0faWymI"
      },
      "execution_count": null,
      "outputs": []
    },
    {
      "cell_type": "code",
      "source": [
        "# traversing the array only once\n",
        "# so O(n) T\n",
        "# no extra space\n",
        "def longestConsSeq(a,t):\n",
        "  i = 0\n",
        "  j = len(a)-1\n",
        "  while i<j:\n",
        "    if a[i] + a[j]== t:\n",
        "      return [a[i],a[j]]\n",
        "    if a[i] + a[j] > t:\n",
        "      j -= 1\n",
        "      continue\n",
        "    if a[i] + a[j] < t:\n",
        "      i += 1\n",
        "      continue\n",
        "  return False\n",
        "\n",
        "if __name__==\"__main__\":\n",
        "  m = [2,7,11,15]\n",
        "  target = 18\n",
        "  print(longestConsSeq(m,target)) "
      ],
      "metadata": {
        "colab": {
          "base_uri": "https://localhost:8080/"
        },
        "id": "anD8WtoyWzUW",
        "outputId": "f8bfeee6-f97f-456d-ebee-6f13b15f1f94"
      },
      "execution_count": null,
      "outputs": [
        {
          "output_type": "stream",
          "name": "stdout",
          "text": [
            "[7, 11]\n"
          ]
        }
      ]
    },
    {
      "cell_type": "markdown",
      "source": [
        "##### Three sum"
      ],
      "metadata": {
        "id": "4Qo2Ye4vZic-"
      }
    },
    {
      "cell_type": "code",
      "source": [
        "# Given an integer array nums, return all the triplets [nums[i], nums[j], nums[k]] such that i != j, i != k, and j != k, and nums[i] + nums[j] + nums[k] == 0.\n",
        "\n",
        "# Notice that the solution set must not contain duplicate triplets.\n",
        "\n",
        "# Example 1:\n",
        "# Input: nums = [-1,0,1,2,-1,-4]\n",
        "# Output: [[-1,-1,2],[-1,0,1]]\n",
        "\n",
        "# Example 2:\n",
        "# Input: nums = []\n",
        "# Output: []\n",
        "\n",
        "# Example 3:\n",
        "# Input: nums = [0]\n",
        "# Output: []"
      ],
      "metadata": {
        "id": "UKW5HEroWzRM"
      },
      "execution_count": null,
      "outputs": []
    },
    {
      "cell_type": "code",
      "source": [
        "# brute force of iterating all combinations of 3 elements will be O(n^3)\n",
        "# two pointers O(nlogn)+O(n^2) = O(n^2)\n",
        "def threeSum(a_given):\n",
        "  a = sorted(a_given)\n",
        "  print(a)\n",
        "  res=[]\n",
        "  for idx in range(len(a)):\n",
        "    # if the new element is same as old skip\n",
        "    if a[idx] == a[idx-1]:\n",
        "      continue\n",
        "    i = idx + 1\n",
        "    j = len(a) -1\n",
        "    while i<j:\n",
        "      print(a[idx],i,a[i],j,a[j])     \n",
        "      if a[i] + a[j]== -a[idx]:\n",
        "        res.append([a[idx],a[i],a[j]])\n",
        "        j -= 1\n",
        "        i += 1\n",
        "        # if the new element is same as old skip\n",
        "        while a[j]==a[j+1]:\n",
        "          j -= 1\n",
        "        while a[i]==a[i-1]:\n",
        "          i += 1\n",
        "      if a[i] + a[j] > -a[idx]:\n",
        "        j -= 1\n",
        "        continue\n",
        "      if a[i] + a[j] < -a[idx]:\n",
        "        i += 1\n",
        "        continue\n",
        "  return res\n",
        "\n",
        "if __name__==\"__main__\":\n",
        "  m = [-1,-1,-1,0,1,2,2]\n",
        "  print(threeSum(m)) "
      ],
      "metadata": {
        "colab": {
          "base_uri": "https://localhost:8080/"
        },
        "id": "G975B4H4WzOC",
        "outputId": "c272158b-5ad4-4d5f-d5b4-9c7c77f17e0b"
      },
      "execution_count": null,
      "outputs": [
        {
          "output_type": "stream",
          "name": "stdout",
          "text": [
            "[-1, -1, -1, 0, 1, 2, 2]\n",
            "-1 1 -1 6 2\n",
            "-1 3 0 4 1\n",
            "0 4 1 6 2\n",
            "0 4 1 5 2\n",
            "1 5 2 6 2\n",
            "[[-1, -1, 2], [-1, 0, 1]]\n"
          ]
        }
      ]
    },
    {
      "cell_type": "markdown",
      "source": [
        "##### Container with most water"
      ],
      "metadata": {
        "id": "7VVFz_7bxDfX"
      }
    },
    {
      "cell_type": "code",
      "source": [
        "# You are given an integer array height of length n. There are n vertical lines drawn such that the two endpoints of the ith line are (i, 0) and (i, height[i]).\n",
        "\n",
        "# Find two lines that together with the x-axis form a container, such that the container contains the most water.\n",
        "\n",
        "# Return the maximum amount of water a container can store.\n",
        "\n",
        "# Notice that you may not slant the container.\n",
        "\n",
        "# Example1:\n",
        "# Input: height = [1,8,6,2,5,4,8,3,7]\n",
        "# Output: 49\n",
        "# Explanation: The above vertical lines are represented by array [1,8,6,2,5,4,8,3,7]. In this case, the max area of water (blue section) the container can contain is 49.\n",
        "\n",
        "# Example 2:\n",
        "# Input: height = [1,1]\n",
        "# Output: 1"
      ],
      "metadata": {
        "id": "RPV8WL6zWzKw"
      },
      "execution_count": null,
      "outputs": []
    },
    {
      "cell_type": "code",
      "source": [
        "# brute force -- O(n^2)\n",
        "def containerMostWater1(a):\n",
        "  max_area = 0\n",
        "  for i in range(len(a)-1):\n",
        "    for j in range(i+1,len(a)):\n",
        "      temp_area = min(a[i],a[j])*(j-i)\n",
        "      if temp_area > max_area:\n",
        "        max_area = temp_area\n",
        "  return max_area\n",
        "\n",
        "# two pointer\n",
        "# one iteartion --> O(n)\n",
        "def containerMostWater2(a):\n",
        "  max_area = 0\n",
        "  l = 0\n",
        "  r = len(a)-1\n",
        "  while l<r:\n",
        "    temp_area = min(a[l],a[r])*(r-l)\n",
        "    if temp_area > max_area:\n",
        "      max_area = temp_area\n",
        "    if a[l]<=a[r]:\n",
        "      l += 1\n",
        "    else:\n",
        "      r -= 1 \n",
        "  return max_area\n",
        "\n",
        "if __name__==\"__main__\":\n",
        "  m = [1,8,6,2,5,4,8,3,7]\n",
        "  print(containerMostWater2(m)) "
      ],
      "metadata": {
        "colab": {
          "base_uri": "https://localhost:8080/"
        },
        "id": "4C2gxQaZWzHb",
        "outputId": "9b9b0471-04d7-4cb6-c705-a8f2640ef0f9"
      },
      "execution_count": null,
      "outputs": [
        {
          "output_type": "stream",
          "name": "stdout",
          "text": [
            "49\n"
          ]
        }
      ]
    },
    {
      "cell_type": "markdown",
      "source": [
        "##### Trapping rain water"
      ],
      "metadata": {
        "id": "Pj7_-cvL29Hd"
      }
    },
    {
      "cell_type": "code",
      "source": [
        "# Given n non-negative integers representing an elevation map where the width of each bar is 1, \n",
        "# compute how much water it can trap after raining.\n",
        "\n",
        "# Example 1:\n",
        "# Input: height = [0,1,0,2,1,0,1,3,2,1,2,1]\n",
        "# Output: 6\n",
        "# Explanation: The above elevation map (black section) is represented by array [0,1,0,2,1,0,1,3,2,1,2,1]. In this case, 6 units of rain water (blue section) are being trapped.\n",
        "\n",
        "# Example 2:\n",
        "# Input: height = [4,2,0,3,2,5]\n",
        "# Output: 9"
      ],
      "metadata": {
        "id": "jecUjoTvWzEH"
      },
      "execution_count": null,
      "outputs": []
    },
    {
      "cell_type": "code",
      "source": [
        "# brute force 0(n) and O(n)\n",
        "def trappingWater1(a):\n",
        "  max_left_array = [-1]*len(a)\n",
        "  max_right_array = [-1]*len(a)\n",
        "  min_lr = [-1]*len(a)\n",
        "  max_left = -1\n",
        "  max_right = -1\n",
        "  max_area = 0\n",
        "  for i in range(1,len(a)):\n",
        "    if a[i-1] > max_left:\n",
        "      max_left = a[i-1]\n",
        "    max_left_array[i] = max_left\n",
        "  for i in range(len(a)-2,0,-1):\n",
        "    if a[i+1] > max_right:\n",
        "      max_right = a[i+1]\n",
        "    max_right_array[i] = max_right\n",
        "    min_lr[i] = min(max_left_array[i],max_right_array[i])\n",
        "\n",
        "  for i in range(len(a)):\n",
        "    if min_lr[i]>a[i]:\n",
        "      max_area += min_lr[i] - a[i]\n",
        "\n",
        "  return max_area\n",
        "\n",
        "# two pointer\n",
        "# one iteartion --> O(n)\n",
        "def trappingWater2(a):\n",
        "  max_area = 0\n",
        "  l = 0\n",
        "  r = len(a)-1\n",
        "  max_left = a[l]\n",
        "  max_right = a[r]\n",
        "  for i in range(len(a)):\n",
        "    if min(max_left,max_right) > a[i]:\n",
        "      max_area += min(max_left,max_right) - a[i]\n",
        "    if max_left < max_right:\n",
        "      l +=1\n",
        "      max_left = max(max_left,a[i])\n",
        "    else:\n",
        "      r -= 1\n",
        "      max_right = max(max_right,a[i])\n",
        "\n",
        "  return max_area\n",
        "\n",
        "if __name__==\"__main__\":\n",
        "  m = [0,1,0,2,1,0,1,3,2,1,2,1]\n",
        "  m1 = [4,2,0,3,2,5]\n",
        "  print(trappingWater2(m1))"
      ],
      "metadata": {
        "colab": {
          "base_uri": "https://localhost:8080/"
        },
        "id": "HU7FuRng3MhT",
        "outputId": "54a04eb2-b233-4a3d-8aa6-4f1283d2dbd8"
      },
      "execution_count": null,
      "outputs": [
        {
          "output_type": "stream",
          "name": "stdout",
          "text": [
            "9\n"
          ]
        }
      ]
    },
    {
      "cell_type": "markdown",
      "source": [
        "#### Graphs"
      ],
      "metadata": {
        "id": "9SE8cmFHa2k2"
      }
    },
    {
      "cell_type": "markdown",
      "source": [
        "##### BFS"
      ],
      "metadata": {
        "id": "Dzvyggiba6B-"
      }
    },
    {
      "cell_type": "code",
      "source": [
        "# Python3 Program to print BFS traversal\n",
        "# from a given source vertex. BFS(int s)\n",
        "# traverses vertices reachable from s.\n",
        "from collections import defaultdict\n",
        " \n",
        "# This class represents a directed graph\n",
        "# using adjacency list representation\n",
        "class Graph:\n",
        " \n",
        "    # Constructor\n",
        "    def __init__(self):\n",
        "        # default dictionary to store graph\n",
        "        self.graph = defaultdict(list)\n",
        " \n",
        "    # function to add an edge to graph\n",
        "    def addEdge(self,u,v):\n",
        "        self.graph[u].append(v)\n",
        " \n",
        "    # Function to print a BFS of graph\n",
        "    def BFS(self, s):\n",
        "      visited = [False]*len(self.graph)\n",
        "      queue = []\n",
        "      queue.append(s)\n",
        "      visited[s] = True\n",
        "      while queue:\n",
        "        s = queue.pop()\n",
        "        print(s, end = \" \")\n",
        "        for i in self.graph[s]:\n",
        "          if visited[i] == False:\n",
        "            queue.append(i)\n",
        "            visited[i] = True\n",
        "\n",
        " \n",
        "# Driver code\n",
        " \n",
        "# Create a graph given in\n",
        "# the above diagram\n",
        "g = Graph()\n",
        "g.addEdge(0, 1)\n",
        "g.addEdge(0, 2)\n",
        "g.addEdge(1, 2)\n",
        "g.addEdge(2, 0)\n",
        "g.addEdge(2, 3)\n",
        "g.addEdge(3, 3)\n",
        "for key,val in g.graph.items():\n",
        "  print(key,val)\n",
        "print (\"Following is Breadth First Traversal\"\n",
        "                  \" (starting from vertex 2)\")\n",
        "g.BFS(2)\n",
        " "
      ],
      "metadata": {
        "colab": {
          "base_uri": "https://localhost:8080/"
        },
        "id": "U2bPtWm83MbV",
        "outputId": "febfbe82-8ea9-49d5-cb25-7a242aa9cf8b"
      },
      "execution_count": null,
      "outputs": [
        {
          "output_type": "stream",
          "name": "stdout",
          "text": [
            "0 [1, 2]\n",
            "1 [2]\n",
            "2 [0, 3]\n",
            "3 [3]\n",
            "Following is Breadth First Traversal (starting from vertex 2)\n",
            "2 3 0 1 "
          ]
        }
      ]
    },
    {
      "cell_type": "code",
      "source": [
        ""
      ],
      "metadata": {
        "id": "zvE6a9783MYQ"
      },
      "execution_count": null,
      "outputs": []
    },
    {
      "cell_type": "markdown",
      "source": [
        "##### DFS"
      ],
      "metadata": {
        "id": "W4iRrmTiNGsE"
      }
    },
    {
      "cell_type": "code",
      "source": [
        "#Using stack datastructure\n",
        "class Graph:\n",
        "  def __init__():\n",
        "    self.graph = defaultdict(list)\n",
        "\n",
        "  def addEdge(self,u,v):\n",
        "    self.graph[u].appennd(v)\n",
        "\n",
        "  def DFS(self, u):\n",
        "    stack = []\n",
        "    stack.append(u)\n",
        "    visited = [False]*len(self.graph)\n",
        "    visited[u] = True\n",
        "\n",
        "    while len(stack):\n",
        "      \n",
        "\n",
        "# Create a graph given in\n",
        "# the above diagram\n",
        "g = Graph()\n",
        "g.addEdge(0, 1)\n",
        "g.addEdge(0, 2)\n",
        "g.addEdge(1, 2)\n",
        "g.addEdge(2, 0)\n",
        "g.addEdge(2, 3)\n",
        "g.addEdge(3, 3)\n",
        "for key,val in g.graph.items():\n",
        "  print(key,val)\n",
        "print (\"Following is Breadth First Traversal\"\n",
        "                  \" (starting from vertex 2)\")\n",
        "g.BFS(2)\n"
      ],
      "metadata": {
        "id": "dk-4JbG83MU3"
      },
      "execution_count": null,
      "outputs": []
    },
    {
      "cell_type": "code",
      "source": [
        "# Recursive approach\n",
        "class Graph:\n",
        "\n",
        "  def __init__(self):\n",
        "    self.graph = defaultdict(list)\n",
        "  \n",
        "  def addEdge(self, u, v):\n",
        "    self.graph[u].append(v)\n",
        "\n",
        "  def Explore(self, v, visited):\n",
        "    for u in self.graph.get(v):\n",
        "      if u not in visited:\n",
        "        visited.add(u)\n",
        "        print(u, end = \" \")\n",
        "        self.Explore(u, visited)\n",
        "  \n",
        "  def DFS(self, v):\n",
        "    visited = set()\n",
        "    visited.add(v)\n",
        "    print(v, end = \" \")\n",
        "    self.Explore(v, visited)\n",
        "\n",
        "# Create a graph given in\n",
        "# the above diagram\n",
        "g = Graph()\n",
        "g.addEdge(0, 1)\n",
        "g.addEdge(0, 2)\n",
        "g.addEdge(1, 2)\n",
        "g.addEdge(2, 0)\n",
        "g.addEdge(2, 3)\n",
        "g.addEdge(3, 3)\n",
        "for key,val in g.graph.items():\n",
        "  print(key,val)\n",
        "print (\"Following is Depth First Traversal\"\n",
        "                  \" (starting from vertex 2)\")\n",
        "g.DFS(2)"
      ],
      "metadata": {
        "id": "uCm3FXLL3MRw",
        "colab": {
          "base_uri": "https://localhost:8080/"
        },
        "outputId": "251fce1e-fca3-4a7a-f646-dd8347ff3c55"
      },
      "execution_count": null,
      "outputs": [
        {
          "output_type": "stream",
          "name": "stdout",
          "text": [
            "0 [1, 2]\n",
            "1 [2]\n",
            "2 [0, 3]\n",
            "3 [3]\n",
            "Following is Depth First Traversal (starting from vertex 2)\n",
            "2 0 1 3 "
          ]
        }
      ]
    },
    {
      "cell_type": "markdown",
      "source": [
        "##### Number of islands"
      ],
      "metadata": {
        "id": "dYX0UKqNhzyL"
      }
    },
    {
      "cell_type": "code",
      "source": [
        "# Given an m x n 2D binary grid grid which represents a map of '1's (land) and '0's (water), return the number of islands.\n",
        "\n",
        "# An island is surrounded by water and is formed by connecting adjacent lands horizontally or vertically. You may assume all four edges of the grid are all surrounded by water.\n",
        "\n",
        " \n",
        "\n",
        "# Example 1:\n",
        "\n",
        "# Input: grid = [\n",
        "#   [\"1\",\"1\",\"1\",\"1\",\"0\"],\n",
        "#   [\"1\",\"1\",\"0\",\"1\",\"0\"],\n",
        "#   [\"1\",\"1\",\"0\",\"0\",\"0\"],\n",
        "#   [\"0\",\"0\",\"0\",\"0\",\"0\"]\n",
        "# ]\n",
        "# Output: 1\n",
        "\n",
        "# Example 2:\n",
        "\n",
        "# Input: grid = [\n",
        "#   [\"1\",\"1\",\"0\",\"0\",\"0\"],\n",
        "#   [\"1\",\"1\",\"0\",\"0\",\"0\"],\n",
        "#   [\"0\",\"0\",\"1\",\"0\",\"0\"],\n",
        "#   [\"0\",\"0\",\"0\",\"1\",\"1\"]\n",
        "# ]\n",
        "# Output: 3"
      ],
      "metadata": {
        "id": "Bv5lvMZHh3gn"
      },
      "execution_count": null,
      "outputs": []
    },
    {
      "cell_type": "code",
      "source": [
        "import collections\n",
        "\n",
        "def traversalBFS(grid):\n",
        "  if not grid:\n",
        "    return 0\n",
        "\n",
        "  #get the dimensions of the grid\n",
        "  rows, cols = len(grid),len(grid[0])\n",
        "\n",
        "  # mark the visited elements\n",
        "  visited = set()\n",
        "  queue = []\n",
        "  islands = 0\n",
        "\n",
        "  def bfs(grid, r, c):\n",
        "    # print(visited)\n",
        "    visited.add((r,c))\n",
        "    queue = collections.deque()\n",
        "    queue.append((r,c))\n",
        "    while queue:\n",
        "      r,c = queue.popleft()\n",
        "      dir = [[1,0],[-1,0],[0,1],[0,-1]]\n",
        "      for dr, dc in dir:\n",
        "        if((r+dr) in range(rows) and\n",
        "          (c+dc) in range(cols) and\n",
        "          (r+dr,c+dc) not in visited and\n",
        "          grid[r+dr][c+dc] == \"1\"):\n",
        "          queue.append((r+dr,c+dc))\n",
        "          visited.add((r+dr,c+dc))\n",
        "\n",
        "\n",
        "  for r in range(rows):\n",
        "    for c in range(cols):\n",
        "      # print(grid[r][c] == 1)\n",
        "      # print((r,c) not in visited)\n",
        "      if grid[r][c] == \"1\" and (r,c) not in visited:\n",
        "        # print(\"abc\")\n",
        "        bfs(grid, r, c)\n",
        "        islands += 1\n",
        "\n",
        "  return islands\n",
        "\n",
        "if __name__==\"__main__\":\n",
        "  grid = [\n",
        "    [\"1\",\"1\",\"0\",\"0\",\"0\"],\n",
        "    [\"1\",\"1\",\"0\",\"0\",\"0\"],\n",
        "    [\"0\",\"0\",\"1\",\"0\",\"0\"],\n",
        "    [\"0\",\"0\",\"0\",\"1\",\"1\"]\n",
        "  ]\n",
        "  print(traversalBFS(grid))\n"
      ],
      "metadata": {
        "colab": {
          "base_uri": "https://localhost:8080/"
        },
        "id": "3ML2rofMj2ak",
        "outputId": "1958c025-df60-4b5d-e6ab-69a4150eecf7"
      },
      "execution_count": null,
      "outputs": [
        {
          "output_type": "stream",
          "name": "stdout",
          "text": [
            "3\n"
          ]
        }
      ]
    },
    {
      "cell_type": "markdown",
      "source": [
        "#####  Pacific Atlantic Water Flow"
      ],
      "metadata": {
        "id": "bPuqanfo5_Wg"
      }
    },
    {
      "cell_type": "code",
      "source": [
        "# There is an m x n rectangular island that borders both the Pacific Ocean and Atlantic Ocean. The Pacific Ocean touches the island's left and top edges, and the Atlantic Ocean touches the island's right and bottom edges.\n",
        "\n",
        "# The island is partitioned into a grid of square cells. You are given an m x n integer matrix heights where heights[r][c] represents the height above sea level of the cell at coordinate (r, c).\n",
        "\n",
        "# The island receives a lot of rain, and the rain water can flow to neighboring cells directly north, south, east, and west if the neighboring cell's height is less than or equal to the current cell's height. Water can flow from any cell adjacent to an ocean into the ocean.\n",
        "\n",
        "# Return a 2D list of grid coordinates result where result[i] = [ri, ci] denotes that rain water can flow from cell (ri, ci) to both the Pacific and Atlantic oceans.\n",
        "\n",
        "# Example 1:\n",
        "# Input: heights = [[1,2,2,3,5],[3,2,3,4,4],[2,4,5,3,1],[6,7,1,4,5],[5,1,1,2,4]]\n",
        "# Output: [[0,4],[1,3],[1,4],[2,2],[3,0],[3,1],[4,0]]\n",
        "\n",
        "# Example 2:\n",
        "# Input: heights = [[2,1],[1,2]]\n",
        "# Output: [[0,0],[0,1],[1,0],[1,1]]"
      ],
      "metadata": {
        "id": "qMEmH5Og6DZT"
      },
      "execution_count": null,
      "outputs": []
    },
    {
      "cell_type": "code",
      "source": [
        "import collections\n",
        "def pacificAtlanticWaterFlow(grid):\n",
        "  rows, cols = len(grid),len(grid[0])\n",
        "  # pacific at (i,0) and (0,i)\n",
        "  # atlantic at (i,end) and (end,i)\n",
        "  res = set()\n",
        "  pacific = set()\n",
        "  atlantic = set()\n",
        "  visited = set()\n",
        "\n",
        "  def traversal(grid, r , c):\n",
        "    visited.add((r,c))\n",
        "    print(r,c)\n",
        "    queue = collections.deque()\n",
        "    queue.append((r,c))\n",
        "    dir = [[1,0],[-1,0],[0,1],[0,-1]]\n",
        "    while queue:\n",
        "      r,c = queue.popleft()\n",
        "      print(r,c)\n",
        "      for dr,dc in dir:\n",
        "        if (r+dr in range(rows) and\n",
        "            c+dc in range(cols) and\n",
        "            grid[r+dr][c+dc] <= grid[r][c] and\n",
        "            (r+dr,c+dc) not in visited):\n",
        "          print(\"r+dr,c+dc\",r+dr,c+dc)\n",
        "          queue.append((r+dr,c+dc))\n",
        "          visited.add((r+dr,c+dc))\n",
        "          if r+dr == rows-1 or c+dc == cols-1 or r == rows-1 or c == cols-1:\n",
        "            atlantic.add((r,c))\n",
        "            atlantic.add((r+dr,c+dc))\n",
        "          elif r+dr == 0 or c+dc == 0 or r == 0 or c == 0:\n",
        "            pacific.add((r,c))\n",
        "            pacific.add((r+dr,c+dc))\n",
        "          print(pacific)\n",
        "          print(atlantic)\n",
        "\n",
        "\n",
        "  for r in range(rows):\n",
        "    for c in range(cols):\n",
        "      if grid[r][c] not in visited:\n",
        "        traversal(grid, r , c)\n",
        "  \n",
        "  for i in pacific:\n",
        "    if i in atlantic:\n",
        "      res.add(i)\n",
        "  return res\n",
        "  \n",
        "if __name__==\"__main__\":\n",
        "  grid = [[1,2,2,3,5],\n",
        "          [3,2,3,4,4],\n",
        "          [2,4,5,3,1],\n",
        "          [6,7,1,4,5],\n",
        "          [5,1,1,2,4]]\n",
        "  print(pacificAtlanticWaterFlow(grid))"
      ],
      "metadata": {
        "colab": {
          "base_uri": "https://localhost:8080/"
        },
        "id": "s6oUbcte6I-E",
        "outputId": "1c987685-75eb-48bd-eca0-7de02286ba3f"
      },
      "execution_count": null,
      "outputs": [
        {
          "output_type": "stream",
          "name": "stdout",
          "text": [
            "0 0\n",
            "0 0\n",
            "0 1\n",
            "0 1\n",
            "r+dr,c+dc 1 1\n",
            "{(0, 1), (1, 1)}\n",
            "set()\n",
            "r+dr,c+dc 0 2\n",
            "{(0, 1), (0, 2), (1, 1)}\n",
            "set()\n",
            "1 1\n",
            "0 2\n",
            "0 2\n",
            "0 2\n",
            "0 3\n",
            "0 3\n",
            "0 4\n",
            "0 4\n",
            "r+dr,c+dc 1 4\n",
            "{(0, 1), (0, 2), (1, 1)}\n",
            "{(1, 4), (0, 4)}\n",
            "1 4\n",
            "r+dr,c+dc 2 4\n",
            "{(0, 1), (0, 2), (1, 1)}\n",
            "{(2, 4), (1, 4), (0, 4)}\n",
            "r+dr,c+dc 1 3\n",
            "{(0, 1), (0, 2), (1, 1)}\n",
            "{(1, 3), (2, 4), (1, 4), (0, 4)}\n",
            "2 4\n",
            "1 3\n",
            "r+dr,c+dc 2 3\n",
            "{(0, 1), (0, 2), (1, 1)}\n",
            "{(1, 3), (2, 4), (1, 4), (0, 4)}\n",
            "r+dr,c+dc 1 2\n",
            "{(0, 1), (0, 2), (1, 1)}\n",
            "{(1, 3), (2, 4), (1, 4), (0, 4)}\n",
            "2 3\n",
            "1 2\n",
            "1 0\n",
            "1 0\n",
            "r+dr,c+dc 2 0\n",
            "{(0, 1), (2, 0), (1, 1), (1, 0), (0, 2)}\n",
            "{(1, 3), (2, 4), (1, 4), (0, 4)}\n",
            "2 0\n",
            "1 1\n",
            "1 1\n",
            "1 2\n",
            "1 2\n",
            "1 3\n",
            "1 3\n",
            "1 4\n",
            "1 4\n",
            "2 0\n",
            "2 0\n",
            "2 1\n",
            "2 1\n",
            "2 2\n",
            "2 2\n",
            "r+dr,c+dc 3 2\n",
            "{(0, 1), (2, 0), (1, 1), (1, 0), (0, 2)}\n",
            "{(1, 3), (2, 4), (1, 4), (0, 4)}\n",
            "3 2\n",
            "r+dr,c+dc 4 2\n",
            "{(0, 1), (2, 0), (1, 1), (1, 0), (0, 2)}\n",
            "{(3, 2), (1, 3), (1, 4), (0, 4), (4, 2), (2, 4)}\n",
            "4 2\n",
            "r+dr,c+dc 4 1\n",
            "{(0, 1), (2, 0), (1, 1), (1, 0), (0, 2)}\n",
            "{(3, 2), (1, 3), (1, 4), (0, 4), (4, 2), (4, 1), (2, 4)}\n",
            "4 1\n",
            "2 3\n",
            "2 3\n",
            "2 4\n",
            "2 4\n",
            "3 0\n",
            "3 0\n",
            "r+dr,c+dc 4 0\n",
            "{(0, 1), (2, 0), (1, 1), (1, 0), (0, 2)}\n",
            "{(3, 2), (1, 3), (3, 0), (1, 4), (0, 4), (4, 2), (4, 1), (2, 4), (4, 0)}\n",
            "4 0\n",
            "3 1\n",
            "3 1\n",
            "3 2\n",
            "3 2\n",
            "3 3\n",
            "3 3\n",
            "r+dr,c+dc 4 3\n",
            "{(0, 1), (2, 0), (1, 1), (1, 0), (0, 2)}\n",
            "{(3, 2), (1, 3), (3, 3), (3, 0), (1, 4), (4, 3), (0, 4), (4, 2), (4, 1), (2, 4), (4, 0)}\n",
            "4 3\n",
            "3 4\n",
            "3 4\n",
            "r+dr,c+dc 4 4\n",
            "{(0, 1), (2, 0), (1, 1), (1, 0), (0, 2)}\n",
            "{(3, 2), (1, 3), (3, 3), (3, 0), (4, 4), (1, 4), (4, 3), (0, 4), (3, 4), (4, 2), (4, 1), (2, 4), (4, 0)}\n",
            "4 4\n",
            "4 0\n",
            "4 0\n",
            "4 1\n",
            "4 1\n",
            "4 2\n",
            "4 2\n",
            "4 3\n",
            "4 3\n",
            "4 4\n",
            "4 4\n",
            "set()\n"
          ]
        }
      ]
    },
    {
      "cell_type": "code",
      "source": [
        ""
      ],
      "metadata": {
        "id": "g2PlPtQbAXWv"
      },
      "execution_count": null,
      "outputs": []
    },
    {
      "cell_type": "code",
      "source": [
        ""
      ],
      "metadata": {
        "id": "3JZxJC2f6I7J"
      },
      "execution_count": null,
      "outputs": []
    },
    {
      "cell_type": "code",
      "source": [
        ""
      ],
      "metadata": {
        "id": "TE7Kh2vw6I4d"
      },
      "execution_count": null,
      "outputs": []
    },
    {
      "cell_type": "markdown",
      "source": [
        "#### Sliding window"
      ],
      "metadata": {
        "id": "z1jGODGWfAyc"
      }
    },
    {
      "cell_type": "markdown",
      "source": [
        "##### best Time To Sell Stock"
      ],
      "metadata": {
        "id": "3VMJlbpKj58r"
      }
    },
    {
      "cell_type": "code",
      "source": [
        "# You are given an array prices where prices[i] is the price of a given stock on the ith day.\n",
        "# You want to maximize your profit by choosing a single day to buy one stock and choosing a different day in the future to sell that stock.\n",
        "# Return the maximum profit you can achieve from this transaction. If you cannot achieve any profit, return 0.\n",
        "\n",
        "# Example 1:\n",
        "# Input: prices = [7,1,5,3,6,4]\n",
        "# Output: 5\n",
        "# Explanation: Buy on day 2 (price = 1) and sell on day 5 (price = 6), profit = 6-1 = 5.\n",
        "# Note that buying on day 2 and selling on day 1 is not allowed because you must buy before you sell.\n",
        "\n",
        "# Example 2:\n",
        "# Input: prices = [7,6,4,3,1]\n",
        "# Output: 0\n",
        "# Explanation: In this case, no transactions are done and the max profit = 0."
      ],
      "metadata": {
        "id": "YEKD0HRKfElC"
      },
      "execution_count": null,
      "outputs": []
    },
    {
      "cell_type": "code",
      "source": [
        "# bruteforce o(n^2)\n",
        "def bestTimeToSell1(a):\n",
        "  maxProfit = 0\n",
        "  for left in range(len(a)-1):\n",
        "    for right in range(1,len(a)):\n",
        "      if a[right] - a[left] > 0:\n",
        "        profit = a[right] - a[left]\n",
        "        maxProfit = max(maxProfit, profit)\n",
        "  return maxProfit\n",
        "\n",
        "# two pointer\n",
        "# one iteartion --> O(n)\n",
        "def bestTimeToSell2(a):\n",
        "  left, right = 0,1\n",
        "  maxProfit = 0\n",
        "  while right < len(a):\n",
        "    if a[right] - a[left] > 0:\n",
        "      profit = a[right] - a[left]\n",
        "      maxProfit = max(maxProfit, profit)\n",
        "    else:\n",
        "      left = right\n",
        "    right += 1\n",
        "  return maxProfit\n",
        "\n",
        "if __name__==\"__main__\":\n",
        "  m = [7,1,5,3,6,4]\n",
        "  m1 = [7,1,2,3,0,6]\n",
        "  print(bestTimeToSell1(m))"
      ],
      "metadata": {
        "colab": {
          "base_uri": "https://localhost:8080/"
        },
        "id": "3HJz2ZxOfS8s",
        "outputId": "0b53d117-bea6-4d4b-a017-6a71f88aafda"
      },
      "execution_count": null,
      "outputs": [
        {
          "output_type": "stream",
          "name": "stdout",
          "text": [
            "5\n"
          ]
        }
      ]
    },
    {
      "cell_type": "markdown",
      "source": [
        "##### longest nonrepeating substring"
      ],
      "metadata": {
        "id": "quz4N9Fjj4bH"
      }
    },
    {
      "cell_type": "code",
      "source": [
        "# Given a string s, find the length of the longest substring without repeating characters.\n",
        "\n",
        "# Example 1:\n",
        "# Input: s = \"abcabcbb\"\n",
        "# Output: 3\n",
        "# Explanation: The answer is \"abc\", with the length of 3.\n",
        "\n",
        "# Example 2:\n",
        "# Input: s = \"bbbbb\"\n",
        "# Output: 1\n",
        "# Explanation: The answer is \"b\", with the length of 1.\n",
        "\n",
        "# Example 3:\n",
        "# Input: s = \"pwwkew\"\n",
        "# Output: 3\n",
        "# Explanation: The answer is \"wke\", with the length of 3.\n",
        "# Notice that the answer must be a substring, \"pwke\" is a subsequence and not a substring.\n"
      ],
      "metadata": {
        "id": "njOS6qr6jw0E"
      },
      "execution_count": null,
      "outputs": []
    },
    {
      "cell_type": "code",
      "source": [
        "# two pointer\n",
        "# one iteartion --> O(n)\n",
        "def longestNonRepeatSubstring1(a):\n",
        "  l = 0\n",
        "  longString = 0\n",
        "  string_set = set()\n",
        "  for r in range(len(a)):\n",
        "    while a[r] in string_set:\n",
        "      string_set.remove(a[l])\n",
        "      l += 1\n",
        "    string_set.add(a[r])\n",
        "    longString = max(longString, r-l+1)\n",
        "  return longString\n",
        "\n",
        "if __name__==\"__main__\":\n",
        "  m = \"abcabcbb\"\n",
        "  m1 = \"abcb\"\n",
        "  print(longestNonRepeatSubstring1(m))"
      ],
      "metadata": {
        "colab": {
          "base_uri": "https://localhost:8080/"
        },
        "id": "hrS43JKakLa7",
        "outputId": "4485082a-2d92-4c2d-f553-02fd98de2dec"
      },
      "execution_count": null,
      "outputs": [
        {
          "output_type": "stream",
          "name": "stdout",
          "text": [
            "3\n"
          ]
        }
      ]
    },
    {
      "cell_type": "markdown",
      "source": [
        "##### Longest Repeating Character Replacement"
      ],
      "metadata": {
        "id": "f40a6t7Y-T80"
      }
    },
    {
      "cell_type": "code",
      "source": [
        "# You are given a string s and an integer k. You can choose any character of the string and change it to any other uppercase English character. You can perform this operation at most k times.\n",
        "\n",
        "# Return the length of the longest substring containing the same letter you can get after performing the above operations.\n",
        "\n",
        "# Example 1:\n",
        "# Input: s = \"ABAB\", k = 2\n",
        "# Output: 4\n",
        "# Explanation: Replace the two 'A's with two 'B's or vice versa.\n",
        "\n",
        "# Example 2:\n",
        "# Input: s = \"AABABBA\", k = 1\n",
        "# Output: 4\n",
        "# Explanation: Replace the one 'A' in the middle with 'B' and form \"AABBBBA\".\n",
        "# The substring \"BBBB\" has the longest repeating letters, which is 4."
      ],
      "metadata": {
        "id": "V6DsZKUOWH-M"
      },
      "execution_count": null,
      "outputs": []
    },
    {
      "cell_type": "code",
      "source": [
        "# sliding window\n",
        "# one iteartion --> O(26n)\n",
        "import collections\n",
        "def longestRepeatingCharacterReplacement(a,k):\n",
        "  l = 0\n",
        "  count_map = {}\n",
        "  res = 0\n",
        "\n",
        "  for r in range(len(a)):\n",
        "    count_map[a[r]] = count_map.get(a[r],0)+1\n",
        "    while (r-l+1) - max(count_map.values()) > k:\n",
        "      count_map[a[l]] = count_map.get(a[l],0) - 1\n",
        "      l += 1\n",
        "    res = max(res,r-l+1)\n",
        "  return res\n",
        "\n",
        "# without using count map\n",
        "#  we dont need worry about the case when we are updating the left pointer \n",
        "# as maxf would be reduced and the result is reduced indeed which we dont need\n",
        "def longestRepeatingCharacterReplacement2(a,k):\n",
        "  l = 0\n",
        "  count_map = {}\n",
        "  res = 0\n",
        "  max_freq = 0\n",
        "  \n",
        "  for r in range(len(a)):\n",
        "    count_map[a[r]] = count_map.get(a[r],0)+1\n",
        "    max_freq = max(max_freq,count_map[a[r]])\n",
        "    while (r-l+1) - max_freq > k:\n",
        "      count_map[a[l]] = count_map.get(a[l],0) - 1\n",
        "      l += 1\n",
        "    res = max(res,r-l+1)\n",
        "  return res\n",
        "\n",
        "if __name__==\"__main__\":\n",
        "  m = \"AABABBA\"\n",
        "  m1 = \"ABAB\"\n",
        "  k = 2\n",
        "  print(longestRepeatingCharacterReplacement2(m1,k))"
      ],
      "metadata": {
        "colab": {
          "base_uri": "https://localhost:8080/"
        },
        "id": "4pMh3lEc-ab8",
        "outputId": "f7363e98-3045-45ca-9471-48376caab0cb"
      },
      "execution_count": null,
      "outputs": [
        {
          "output_type": "stream",
          "name": "stdout",
          "text": [
            "4\n"
          ]
        }
      ]
    },
    {
      "cell_type": "markdown",
      "source": [
        "##### Permutation in String"
      ],
      "metadata": {
        "id": "tp-iSBJI6eiw"
      }
    },
    {
      "cell_type": "code",
      "source": [
        "# Given two strings s1 and s2, return true if s2 contains a permutation of s1, or false otherwise.\n",
        "\n",
        "# In other words, return true if one of s1's permutations is the substring of s2.\n",
        "\n",
        "\n",
        "# Example 1:\n",
        "# Input: s1 = \"ab\", s2 = \"eidbaooo\"\n",
        "# Output: true\n",
        "# Explanation: s2 contains one permutation of s1 (\"ba\").\n",
        "\n",
        "# Example 2:\n",
        "# Input: s1 = \"ab\", s2 = \"eidboaoo\"\n",
        "# Output: false"
      ],
      "metadata": {
        "id": "-ZvSSQgl-aYl"
      },
      "execution_count": null,
      "outputs": []
    },
    {
      "cell_type": "code",
      "source": [
        "# one naive way to do is calculate the count of occurrences of each character \n",
        "# in a sliding window of size of the target string\n",
        "# and check if it is less than or equal for all characters in target string\n",
        "def permutedSubstring1(b,a):\n",
        "  l = 0\n",
        "  r = len(b) - 1\n",
        "  count_map = {}\n",
        "  window_size = len(b)\n",
        "  target_map = collections.Counter(b)\n",
        "  res = 0\n",
        "  max_freq = 0\n",
        "  \n",
        "  while r < len(a):\n",
        "    count_map = collections.Counter(a[l:r+1])\n",
        "    if target_map == count_map:\n",
        "      return True\n",
        "    l += 1\n",
        "    r += 1 \n",
        "  return False\n",
        "\n",
        "def permutedSubstring2(a,b):\n",
        "  if len(a)>len(b): return False\n",
        "  a_count, b_count = [0]*26, [0]*26 # count map for both strings\n",
        "  for i in range(len(a)):\n",
        "    a_count[ord(a[i])-ord(\"a\")] += 1\n",
        "    b_count[ord(b[i])-ord(\"a\")] += 1\n",
        "\n",
        "  matches = 0\n",
        "  for i in range(26):\n",
        "    matches += (1 if a_count[i] == b_count[i] else 0)\n",
        "\n",
        "  l = 0\n",
        "  for r in range(len(a), len(b)):\n",
        "    if matches == 26:\n",
        "      return True\n",
        "\n",
        "    index = ord(b[r]) - ord(\"a\")\n",
        "    b_count[index] += 1\n",
        "    if a_count[index] == b_count[index]:\n",
        "      matches += 1\n",
        "    elif a_count[index] + 1 == b_count[index]:\n",
        "      matches -= 1\n",
        "    \n",
        "    index = ord(b[l]) - ord(\"a\")\n",
        "    b_count[index] -= 1\n",
        "    if a_count[index] == b_count[index]:\n",
        "      matches += 1\n",
        "    elif a_count[index] - 1 == b_count[index]:\n",
        "      matches -= 1\n",
        "    \n",
        "    l += 1\n",
        "  return matches == 26\n",
        "\n",
        "if __name__==\"__main__\":\n",
        "  m1 = \"ab\"\n",
        "  m2 = \"eidbaeoo\"\n",
        "  k = 2\n",
        "  print(permutedSubstring2(m1,m2))"
      ],
      "metadata": {
        "colab": {
          "base_uri": "https://localhost:8080/"
        },
        "id": "Vf2a5bsi-aVC",
        "outputId": "25eb4f29-4bd9-474c-b50c-18d27c1b80f6"
      },
      "execution_count": null,
      "outputs": [
        {
          "output_type": "stream",
          "name": "stdout",
          "text": [
            "True\n"
          ]
        }
      ]
    },
    {
      "cell_type": "markdown",
      "source": [
        "##### Minimum Window Substring\n"
      ],
      "metadata": {
        "id": "7T8eqVS7rsRj"
      }
    },
    {
      "cell_type": "code",
      "source": [
        "# Given two strings s and t of lengths m and n respectively, return the minimum window substring of s such that every character in t (including duplicates) is included in the window. If there is no such substring, return the empty string \"\".\n",
        "\n",
        "# The testcases will be generated such that the answer is unique.\n",
        "\n",
        "# A substring is a contiguous sequence of characters within the string.\n",
        "\n",
        "\n",
        "# Example 1:\n",
        "# Input: s = \"ADOBECODEBANC\", t = \"ABC\"\n",
        "# Output: \"BANC\"\n",
        "# Explanation: The minimum window substring \"BANC\" includes 'A', 'B', and 'C' from string t.\n",
        "\n",
        "# Example 2:\n",
        "# Input: s = \"a\", t = \"a\"\n",
        "# Output: \"a\"\n",
        "# Explanation: The entire string s is the minimum window.\n",
        "\n",
        "# Example 3:\n",
        "# Input: s = \"a\", t = \"aa\"\n",
        "# Output: \"\"\n",
        "# Explanation: Both 'a's from t must be included in the window.\n",
        "# Since the largest window of s only has one 'a', return empty string."
      ],
      "metadata": {
        "colab": {
          "base_uri": "https://localhost:8080/"
        },
        "id": "SONpR8v_-aRo",
        "outputId": "49eb49f9-d6a0-417e-d847-1d725539ade3"
      },
      "execution_count": null,
      "outputs": [
        {
          "output_type": "execute_result",
          "data": {
            "text/plain": [
              "Counter({'a': 1, 'b': 1, 'c': 1})"
            ]
          },
          "metadata": {},
          "execution_count": 22
        }
      ]
    },
    {
      "cell_type": "code",
      "source": [
        "# naive approach - for all possible windows check if set(a) is included in set(b)\n",
        "# to handle duplicates counter(a)<=counter(b) for all characters in a\n",
        "\n",
        "def minWindowSubstring2(a,b):\n",
        "  if len(a)>len(b): return \"\"\n",
        "  target_conter = collections.Counter(a)\n",
        "  min_window = len(b)+1\n",
        "  res = \"\"\n",
        "  # print(target_conter)\n",
        "  for i in range(0,len(b)-len(a)):\n",
        "    for j in range(len(a)-1,len(b)):\n",
        "      temp_counter = collections.Counter(b[i:j+1])\n",
        "      # print(temp_counter)\n",
        "      shared_items = {k: target_conter[k] for k in target_conter if k in temp_counter and target_conter[k] <= temp_counter[k]}\n",
        "      # print(b[i:j+1],shared_items)\n",
        "      if len(shared_items) == len(target_conter) and j-i+1 < min_window:\n",
        "        min_window = j-i+1\n",
        "        res = b[i:j+1]\n",
        "  return res\n",
        "  \n",
        "\n",
        "def minWindowSubstring1(a,b):\n",
        "  a_count = {}\n",
        "  window = {}\n",
        "  for c in a:\n",
        "    a_count[c] = a_count.get(c,0) + 1\n",
        "\n",
        "  res = [-1, -1]\n",
        "  length = float(\"infinity\")\n",
        "  have = 0\n",
        "  l = 0\n",
        "  need =len(a_count)\n",
        "  \n",
        "  for r in range(len(b)):\n",
        "    window[b[r]] = window.get(b[r],0) + 1\n",
        "    if b[r] in a_count and window[b[r]] == a_count[b[r]]:\n",
        "      have += 1\n",
        "    while have == need:\n",
        "      if r-l+1 < length:\n",
        "        length = r-l+1\n",
        "        res = [l,r]\n",
        "      # pop from the left\n",
        "      window[b[l]] -= 1\n",
        "      if b[l] in a_count and window[b[l]] < a_count[b[r]]:\n",
        "        have -= 1\n",
        "      l += 1\n",
        "  return b[res[0]:res[1]+1] if length != float(\"infinity\") else \"\"\n",
        " \n",
        "if __name__==\"__main__\":\n",
        "  m1 = \"ABC\"\n",
        "  m2 = \"ADOBECODEBANC\"\n",
        "  print(minWindowSubstring1(m1,m2))"
      ],
      "metadata": {
        "colab": {
          "base_uri": "https://localhost:8080/"
        },
        "id": "5mdKPBEK-aOQ",
        "outputId": "61870a10-ce2a-49c8-dbce-b9023f42ca19"
      },
      "execution_count": null,
      "outputs": [
        {
          "output_type": "stream",
          "name": "stdout",
          "text": [
            "BANC\n"
          ]
        }
      ]
    },
    {
      "cell_type": "markdown",
      "source": [
        "#### Tree\n"
      ],
      "metadata": {
        "id": "FQSYME555_TC"
      }
    },
    {
      "cell_type": "markdown",
      "source": [
        "#####  Traversals"
      ],
      "metadata": {
        "id": "tCxj3n6LxJTV"
      }
    },
    {
      "cell_type": "code",
      "source": [
        "# Given the root of a binary tree, invert the tree, and return its root.\n",
        "\n",
        "# Example 1:\n",
        "# Input: root = [4,2,7,1,3,6,9]\n",
        "# Output: [4,7,2,9,6,3,1]\n",
        "\n",
        "# Example 2:\n",
        "# Input: root = [2,1,3]\n",
        "# Output: [2,3,1]\n",
        "\n",
        "# Example 3:\n",
        "# Input: root = []\n",
        "# Output: []"
      ],
      "metadata": {
        "id": "dFG4BuIC4fFU"
      },
      "execution_count": null,
      "outputs": []
    },
    {
      "cell_type": "code",
      "source": [
        "class treeNode:\n",
        "  def __init__(self, val = 0, left= None, right = None):\n",
        "    self.val = val\n",
        "    self.left = left\n",
        "    self.right = right\n",
        "class Solution:\n",
        "    def invertTree(self, root: Optional[TreeNode]) -> Optional[TreeNode]:\n",
        "      if not root:\n",
        "        return None\n",
        "      temp = node.left\n",
        "      node.left = node.right\n",
        "      node.right = temp\n",
        "      self.invertTree(self, node.right)\n",
        "      self.invertTree(self, node.left)\n",
        "\n",
        "      return root\n",
        "        "
      ],
      "metadata": {
        "id": "C8T4tLTAzRd_"
      },
      "execution_count": null,
      "outputs": []
    },
    {
      "cell_type": "markdown",
      "source": [
        "##### Merge two binary trees"
      ],
      "metadata": {
        "id": "WRX2Ditc4-eq"
      }
    },
    {
      "cell_type": "code",
      "source": [
        "class Solution:\n",
        "    def merge2BinaryTress(self, root1: Optional[TreeNode],  root2: Optional[TreeNode]) -> Optional[TreeNode]:\n",
        "      if not root1 and not root2:\n",
        "        return None\n",
        "      val1 = root1.val\n",
        "      val2 = root2.val\n",
        "      res = treeNode(val1 + val2)\n",
        "      res.left = self.merge2BinaryTress(self, root1.left, root2.left)\n",
        "      res.right = self.merge2BinaryTress(self, root1.right, root2.right)\n",
        "\n",
        "      return res"
      ],
      "metadata": {
        "id": "gpSEbSW25DE_"
      },
      "execution_count": null,
      "outputs": []
    },
    {
      "cell_type": "markdown",
      "source": [
        "##### Invert a tree"
      ],
      "metadata": {
        "id": "3T1NsOgzxH05"
      }
    },
    {
      "cell_type": "code",
      "source": [
        "# Given the root of a binary tree, invert the tree, and return its root.\n",
        "\n",
        "# Example 1:\n",
        "# Input: root = [4,2,7,1,3,6,9]\n",
        "# Output: [4,7,2,9,6,3,1]\n",
        "\n",
        "# Example 2:\n",
        "# Input: root = [2,1,3]\n",
        "# Output: [2,3,1]"
      ],
      "metadata": {
        "id": "5A2xkMM3nCb2"
      },
      "execution_count": null,
      "outputs": []
    },
    {
      "cell_type": "code",
      "source": [
        "# Definition for a binary tree node.\n",
        "class TreeNode:\n",
        "    def __init__(self, val=0, left=None, right=None):\n",
        "        self.val = val\n",
        "        self.left = left\n",
        "        self.right = right\n",
        "class Solution:\n",
        "    def goodNodes(self, root: Optional[TreeNode]) -> Optional[TreeNode]:\n",
        "      def traversal(node, maxVal):\n",
        "        if not root:\n",
        "          return 0\n",
        "        res = 1 if root.val >= maxVal else 0\n",
        "        maxVal = max(maxVal, root.val)\n",
        "        res += traversal(node.left, maxVal)\n",
        "        res += traversal(node.right, maxVal)\n",
        "      \n",
        "      return traversal(root, root.val)"
      ],
      "metadata": {
        "id": "_Ri2u8yxzLrt"
      },
      "execution_count": null,
      "outputs": []
    },
    {
      "cell_type": "markdown",
      "source": [
        "##### Good node"
      ],
      "metadata": {
        "id": "KyI3qVO5zAR6"
      }
    },
    {
      "cell_type": "code",
      "source": [
        "# Definition for a binary tree node.\n",
        "class TreeNode:\n",
        "    def __init__(self, val=0, left=None, right=None):\n",
        "        self.val = val\n",
        "        self.left = left\n",
        "        self.right = right\n",
        "class Solution:\n",
        "    def invertTree(self, root: Optional[TreeNode]) -> Optional[TreeNode]:\n",
        "      def traversal(node, maxVal):\n",
        "        if not root:\n",
        "          return 0\n",
        "        res = 1 if root.val >= maxVal else 0\n",
        "        maxVal = max(maxVal, root.val)\n",
        "        res += traversal(node.left, maxVal)\n",
        "        res += traversal(node.right, maxVal)\n",
        "      \n",
        "      self.traversal(root, root.val)\n",
        "        "
      ],
      "metadata": {
        "id": "nyf_mbqD-aK7"
      },
      "execution_count": null,
      "outputs": []
    },
    {
      "cell_type": "markdown",
      "source": [
        "##### height of a binary tree"
      ],
      "metadata": {
        "id": "EvNPzDHU9DKM"
      }
    },
    {
      "cell_type": "code",
      "source": [
        "# Given the root of a binary tree, return its maximum depth.\n",
        "\n",
        "# A binary tree's maximum depth is the number of nodes along the longest path from the root node down to the farthest leaf node.\n",
        "\n",
        "# Example 1:\n",
        "# Input: root = [3,9,20,null,null,15,7]\n",
        "# Output: 3"
      ],
      "metadata": {
        "id": "c2P46X759OJT"
      },
      "execution_count": null,
      "outputs": []
    },
    {
      "cell_type": "code",
      "source": [
        "import collections\n",
        "class TreeNode:\n",
        "    def __init__(self, val=0, left=None, right=None):\n",
        "        self.val = val\n",
        "        self.left = left\n",
        "        self.right = right\n",
        "class Solution:\n",
        "    def maxDepth(self, root: Optional[TreeNode]) -> int:\n",
        "      if not root:\n",
        "        return 0\n",
        "      depth_left = maxDepth(node.left)\n",
        "      depth_right = maxDepth(node.right)\n",
        "      return 1+ max(depth_left, depth_right)\n",
        "\n",
        "    # without recursion -- BFS\n",
        "    # using a deque\n",
        "    def maxDepth_iterative_BFS(self, root: Optional[TreeNode]) -> int:\n",
        "      if not root:\n",
        "        return 0\n",
        "      level = 1\n",
        "      queue = collections.deque()\n",
        "      queue.append(root)\n",
        "      while queue:\n",
        "        # traverse entire level and remove from queue and add next level\n",
        "        for i in range(len(queue)):\n",
        "          temp = queue.popleft()\n",
        "          if temp.left:\n",
        "            queue.append(temp.left)\n",
        "          if temp.right:\n",
        "            queue.append(temp.right)\n",
        "        level += 1\n",
        "      return level\n",
        "\n",
        "    # without recursion -- BFS\n",
        "    # using a deque\n",
        "    def maxDepth_iterative_DFS(self, root: Optional[TreeNode]) -> int:\n",
        "      if not root:\n",
        "        return 0\n",
        "      level = 1\n",
        "      queue = collections.deque()\n",
        "      queue.append([root,1])\n",
        "      while queue:\n",
        "        temp_node, temp_level = queue.pop()\n",
        "        if temp_node:\n",
        "          res = max(temp_level, level)\n",
        "          queue.append([root.left,temp_level + 1])\n",
        "          queue.append([root.right,temp_level + 1])\n",
        "      return level\n"
      ],
      "metadata": {
        "id": "zzlgVryE-aHw",
        "colab": {
          "base_uri": "https://localhost:8080/",
          "height": 365
        },
        "outputId": "f91f21dd-c210-407e-b1d9-01cdfb32f0ed"
      },
      "execution_count": null,
      "outputs": [
        {
          "output_type": "error",
          "ename": "NameError",
          "evalue": "ignored",
          "traceback": [
            "\u001b[0;31m---------------------------------------------------------------------------\u001b[0m",
            "\u001b[0;31mNameError\u001b[0m                                 Traceback (most recent call last)",
            "\u001b[0;32m<ipython-input-1-adab2118f0a5>\u001b[0m in \u001b[0;36m<module>\u001b[0;34m()\u001b[0m\n\u001b[1;32m      4\u001b[0m         \u001b[0mself\u001b[0m\u001b[0;34m.\u001b[0m\u001b[0mleft\u001b[0m \u001b[0;34m=\u001b[0m \u001b[0mleft\u001b[0m\u001b[0;34m\u001b[0m\u001b[0;34m\u001b[0m\u001b[0m\n\u001b[1;32m      5\u001b[0m         \u001b[0mself\u001b[0m\u001b[0;34m.\u001b[0m\u001b[0mright\u001b[0m \u001b[0;34m=\u001b[0m \u001b[0mright\u001b[0m\u001b[0;34m\u001b[0m\u001b[0;34m\u001b[0m\u001b[0m\n\u001b[0;32m----> 6\u001b[0;31m \u001b[0;32mclass\u001b[0m \u001b[0mSolution\u001b[0m\u001b[0;34m:\u001b[0m\u001b[0;34m\u001b[0m\u001b[0;34m\u001b[0m\u001b[0m\n\u001b[0m\u001b[1;32m      7\u001b[0m     \u001b[0;32mdef\u001b[0m \u001b[0minvertTree\u001b[0m\u001b[0;34m(\u001b[0m\u001b[0mself\u001b[0m\u001b[0;34m,\u001b[0m \u001b[0mroot\u001b[0m\u001b[0;34m:\u001b[0m \u001b[0mOptional\u001b[0m\u001b[0;34m[\u001b[0m\u001b[0mTreeNode\u001b[0m\u001b[0;34m]\u001b[0m\u001b[0;34m)\u001b[0m \u001b[0;34m->\u001b[0m \u001b[0mint\u001b[0m\u001b[0;34m:\u001b[0m\u001b[0;34m\u001b[0m\u001b[0;34m\u001b[0m\u001b[0m\n\u001b[1;32m      8\u001b[0m       \u001b[0;32mif\u001b[0m \u001b[0;32mnot\u001b[0m \u001b[0mroot\u001b[0m\u001b[0;34m:\u001b[0m\u001b[0;34m\u001b[0m\u001b[0;34m\u001b[0m\u001b[0m\n",
            "\u001b[0;32m<ipython-input-1-adab2118f0a5>\u001b[0m in \u001b[0;36mSolution\u001b[0;34m()\u001b[0m\n\u001b[1;32m      5\u001b[0m         \u001b[0mself\u001b[0m\u001b[0;34m.\u001b[0m\u001b[0mright\u001b[0m \u001b[0;34m=\u001b[0m \u001b[0mright\u001b[0m\u001b[0;34m\u001b[0m\u001b[0;34m\u001b[0m\u001b[0m\n\u001b[1;32m      6\u001b[0m \u001b[0;32mclass\u001b[0m \u001b[0mSolution\u001b[0m\u001b[0;34m:\u001b[0m\u001b[0;34m\u001b[0m\u001b[0;34m\u001b[0m\u001b[0m\n\u001b[0;32m----> 7\u001b[0;31m     \u001b[0;32mdef\u001b[0m \u001b[0minvertTree\u001b[0m\u001b[0;34m(\u001b[0m\u001b[0mself\u001b[0m\u001b[0;34m,\u001b[0m \u001b[0mroot\u001b[0m\u001b[0;34m:\u001b[0m \u001b[0mOptional\u001b[0m\u001b[0;34m[\u001b[0m\u001b[0mTreeNode\u001b[0m\u001b[0;34m]\u001b[0m\u001b[0;34m)\u001b[0m \u001b[0;34m->\u001b[0m \u001b[0mint\u001b[0m\u001b[0;34m:\u001b[0m\u001b[0;34m\u001b[0m\u001b[0;34m\u001b[0m\u001b[0m\n\u001b[0m\u001b[1;32m      8\u001b[0m       \u001b[0;32mif\u001b[0m \u001b[0;32mnot\u001b[0m \u001b[0mroot\u001b[0m\u001b[0;34m:\u001b[0m\u001b[0;34m\u001b[0m\u001b[0;34m\u001b[0m\u001b[0m\n\u001b[1;32m      9\u001b[0m         \u001b[0;32mreturn\u001b[0m \u001b[0;36m0\u001b[0m\u001b[0;34m\u001b[0m\u001b[0;34m\u001b[0m\u001b[0m\n",
            "\u001b[0;31mNameError\u001b[0m: name 'Optional' is not defined"
          ]
        }
      ]
    },
    {
      "cell_type": "markdown",
      "source": [
        "##### Validate binay tree"
      ],
      "metadata": {
        "id": "Oho54pcq_bYA"
      }
    },
    {
      "cell_type": "code",
      "source": [
        "INT_MAX = 4294967296\n",
        "INT_MIN = -4294967296\n",
        " \n",
        "# A binary tree node\n",
        "class Node:\n",
        " \n",
        "    # Constructor to create a new node\n",
        "    def __init__(self, data):\n",
        "        self.data = data\n",
        "        self.left = None\n",
        "        self.right = None\n",
        " \n",
        " \n",
        "# Returns true if the given tree is a binary search tree\n",
        "# (efficient version)\n",
        "def isBST(node):\n",
        "    return (isBSTUtil(node, INT_MIN, INT_MAX))\n",
        " \n",
        "# Retusn true if the given tree is a BST and its values\n",
        "# >= min and <= max\n",
        "def isBSTUtil(node, mini, maxi):\n",
        "     \n",
        "    # An empty tree is BST\n",
        "    if node is None:\n",
        "        return True\n",
        " \n",
        "    # False if this node violates min/max constraint\n",
        "    if node.data < mini or node.data > maxi:\n",
        "        return False\n",
        " \n",
        "    # Otherwise check the subtrees recursively\n",
        "    # tightening the min or max constraint\n",
        "    return (isBSTUtil(node.left, mini, node.data -1) and\n",
        "          isBSTUtil(node.right, node.data+1, maxi))\n",
        " \n",
        "# Driver program to test above function\n",
        "root = Node(4)\n",
        "root.left = Node(2)\n",
        "root.right = Node(5)\n",
        "root.left.left = Node(1)\n",
        "root.left.right = Node(3)\n",
        " \n",
        "if (isBST(root)):\n",
        "    print (\"Is BST\")\n",
        "else:\n",
        "    print (\"Not a BST\")"
      ],
      "metadata": {
        "id": "ILnfverr_ei-"
      },
      "execution_count": null,
      "outputs": []
    },
    {
      "cell_type": "markdown",
      "source": [
        "#### bit manipulation"
      ],
      "metadata": {
        "id": "O8xFebeggeLM"
      }
    },
    {
      "cell_type": "markdown",
      "source": [
        "##### single number"
      ],
      "metadata": {
        "id": "v9rjV3mEghma"
      }
    },
    {
      "cell_type": "code",
      "source": [
        "# Given a non-empty array of integers nums, every element appears twice except for one. Find that single one.\n",
        "\n",
        "# You must implement a solution with a linear runtime complexity and use only constant extra space.\n",
        "\n",
        " \n",
        "\n",
        "# Example 1:\n",
        "\n",
        "# Input: nums = [2,2,1]\n",
        "# Output: 1\n",
        "# Example 2:\n",
        "\n",
        "# Input: nums = [4,1,2,1,2]\n",
        "# Output: 4\n",
        "# Example 3:\n",
        "\n",
        "# Input: nums = [1]\n",
        "# Output: 1"
      ],
      "metadata": {
        "id": "P1sy995egk1D"
      },
      "execution_count": null,
      "outputs": []
    },
    {
      "cell_type": "code",
      "source": [
        "# use XOR O(n) and O(1)\n",
        "def singleNumber(a):\n",
        "  res = 0\n",
        "  for i in a:\n",
        "    res = res ^ i\n",
        "  return res\n",
        "\n",
        "\n",
        "if __name__==\"__main__\":\n",
        "  m1 = [4,6,9,6,4]\n",
        "  k = 11\n",
        "  print(singleNumber(m1))  "
      ],
      "metadata": {
        "colab": {
          "base_uri": "https://localhost:8080/"
        },
        "id": "wVuanlCQgv8m",
        "outputId": "36ee5b10-90a7-42aa-bc2f-dcec669b495f"
      },
      "execution_count": 1,
      "outputs": [
        {
          "output_type": "stream",
          "name": "stdout",
          "text": [
            "9\n"
          ]
        }
      ]
    },
    {
      "cell_type": "markdown",
      "source": [
        "##### number of 1 bits"
      ],
      "metadata": {
        "id": "wXvtZckPhUpM"
      }
    },
    {
      "cell_type": "code",
      "source": [
        "# Write a function that takes an unsigned integer and returns the number of '1' bits it has (also known as the Hamming weight).\n",
        "\n",
        "# Note:\n",
        "\n",
        "# Note that in some languages, such as Java, there is no unsigned integer type. In this case, the input will be given as a signed integer type. It should not affect your implementation, as the integer's internal binary representation is the same, whether it is signed or unsigned.\n",
        "# In Java, the compiler represents the signed integers using 2's complement notation. Therefore, in Example 3, the input represents the signed integer. -3.\n",
        " \n",
        "\n",
        "# Example 1:\n",
        "\n",
        "# Input: n = 00000000000000000000000000001011\n",
        "# Output: 3\n",
        "# Explanation: The input binary string 00000000000000000000000000001011 has a total of three '1' bits.\n",
        "# Example 2:\n",
        "\n",
        "# Input: n = 00000000000000000000000010000000\n",
        "# Output: 1\n",
        "# Explanation: The input binary string 00000000000000000000000010000000 has a total of one '1' bit."
      ],
      "metadata": {
        "id": "KvMy5anbhX46"
      },
      "execution_count": null,
      "outputs": []
    },
    {
      "cell_type": "code",
      "source": [
        "# use XOR O(n) and O(1)\n",
        "def numberOf1Bits1(a):\n",
        "  count = 0\n",
        "  for i in a:\n",
        "    if i == \"1\":\n",
        "      count += 1\n",
        "  return count\n",
        "\n",
        "# if n is given as a number rather than bit representation\n",
        "def numberOf1Bits2(a):\n",
        "  count = 0\n",
        "  while a:\n",
        "    count += a%2\n",
        "    a = a >> 1\n",
        "  return count\n",
        "  \n",
        "# use XOR O(n) and O(1)\n",
        "def numberOf1Bits3(a):\n",
        "  res = 0\n",
        "  while a:\n",
        "    a &= (a-1) # a = a & (a-1)\n",
        "    res += 1\n",
        "    print(a)\n",
        "  return res\n",
        "\n",
        "\n",
        "if __name__==\"__main__\":\n",
        "  m1 = \"00000000000000000000000000001011\"\n",
        "  m2 = \"00000000000000000000000010000000\"\n",
        "  m3 = 34\n",
        "  m4 = 10000000000000000000000000001011\n",
        "  print(numberOf1Bits3(m4))  "
      ],
      "metadata": {
        "id": "kC5sKyhehaOX"
      },
      "execution_count": null,
      "outputs": []
    },
    {
      "cell_type": "markdown",
      "source": [
        "##### counting bits"
      ],
      "metadata": {
        "id": "W0LqJuS1Qypb"
      }
    },
    {
      "cell_type": "code",
      "source": [
        "# Given an integer n, return an array ans of length n + 1 such that for each i (0 <= i <= n), ans[i] is the number of 1's in the binary representation of i.\n",
        "\n",
        "# Example 1:\n",
        "# Input: n = 2\n",
        "# Output: [0,1,1]\n",
        "# Explanation:\n",
        "# 0 --> 0\n",
        "# 1 --> 1\n",
        "# 2 --> 10\n",
        "\n",
        "# Example 2:\n",
        "# Input: n = 5\n",
        "# Output: [0,1,1,2,1,2]\n",
        "# Explanation:\n",
        "# 0 --> 0\n",
        "# 1 --> 1\n",
        "# 2 --> 10\n",
        "# 3 --> 11\n",
        "# 4 --> 100\n",
        "# 5 --> 101"
      ],
      "metadata": {
        "id": "VEBaNgaLQ019"
      },
      "execution_count": null,
      "outputs": []
    },
    {
      "cell_type": "code",
      "source": [
        "# brute force O(nlogn) and O(n) or O(1)\n",
        "def countingBits1(a):\n",
        "  res = []\n",
        "  for i in range(a+1):\n",
        "    count = 0\n",
        "    while i:\n",
        "      count += i % 2\n",
        "      i = i >> 1\n",
        "    res.append(count)\n",
        "  return res\n",
        "\n",
        "# see the pattern\n",
        "# 0000 - 0\n",
        "# 0001 - 1\n",
        "# 0010 - 1\n",
        "# 0011 - 2\n",
        "# 0100 - 1 - 1 +dp[n-4]\n",
        "# 0101 - 2 - 1 +dp[n-4]\n",
        "# 0110 - 2 - 1 +dp[n-4]\n",
        "# 0111 - 3 - 1 +dp[n-4]\n",
        "# [0, 1, 1, 2, 1, 2, 2, 3, 1, 2, 2, 3, 2, 3, 3, 4, 1, 2, 2, 3, 2, 3, 3, 4, 2, 3, 3, 4, 3, 4, 4, 5, 1, 2, 2]\n",
        "def countingBits2(a):\n",
        "  res  = [0] * (a+1)\n",
        "  offset = 1 \n",
        "  for i in range(1, a+1):\n",
        "    if offset * 2 == i:\n",
        "      offset = i\n",
        "    res[i] = 1 + res[i - offset]\n",
        "  return res\n",
        "\n",
        "if __name__==\"__main__\":\n",
        "  m1 = 34\n",
        "  m2 = 10\n",
        "  print(countingBits2(m2))  "
      ],
      "metadata": {
        "id": "lklfVt5qRq3K"
      },
      "execution_count": null,
      "outputs": []
    },
    {
      "cell_type": "markdown",
      "source": [
        "##### Reverse bits"
      ],
      "metadata": {
        "id": "aVDf1GfiZH_2"
      }
    },
    {
      "cell_type": "code",
      "source": [
        "# Reverse bits of a given 32 bits unsigned integer.\n",
        "\n",
        "# Example 1:\n",
        "# Input: n = 00000010100101000001111010011100\n",
        "# Output:    964176192 (00111001011110000010100101000000)\n",
        "# Explanation: The input binary string 00000010100101000001111010011100 represents the unsigned integer 43261596, so return 964176192 which its binary representation is 00111001011110000010100101000000.\n",
        "\n",
        "# Example 2:\n",
        "# Input: n = 11111111111111111111111111111101\n",
        "# Output:   3221225471 (10111111111111111111111111111111)\n",
        "# Explanation: The input binary string 11111111111111111111111111111101 represents the unsigned integer 4294967293, so return 3221225471 which its binary representation is 10111111111111111111111111111111."
      ],
      "metadata": {
        "id": "mPozXor-ZKKU"
      },
      "execution_count": null,
      "outputs": []
    },
    {
      "cell_type": "code",
      "source": [
        "# brute force --- flip each bit\n",
        "# T(n) == O(n)\n",
        "def reverseBits1(a):\n",
        "  res  = 0\n",
        "  for i in range(32):\n",
        "    bit = (a >> i)&1\n",
        "    res = res | (bit << (31-i))\n",
        "  return res\n",
        "\n",
        "if __name__==\"__main__\":\n",
        "  m1 = 0b111000000000000000000000000000000\n",
        "  m2 = 10\n",
        "  print(reverseBits1(m1)) "
      ],
      "metadata": {
        "colab": {
          "base_uri": "https://localhost:8080/"
        },
        "id": "SJj65wwlZQa4",
        "outputId": "9b85d07f-0d68-42cc-c82e-c6267b29a15a"
      },
      "execution_count": 9,
      "outputs": [
        {
          "output_type": "stream",
          "name": "stdout",
          "text": [
            "3\n"
          ]
        }
      ]
    },
    {
      "cell_type": "markdown",
      "source": [
        "##### Missing Number"
      ],
      "metadata": {
        "id": "xIrKX_nN5-Bf"
      }
    },
    {
      "cell_type": "code",
      "source": [
        "# Given an array nums containing n distinct numbers in the range [0, n], return the only number in the range that is missing from the array.\n",
        "\n",
        "# Example 1:\n",
        "# Input: nums = [3,0,1]\n",
        "# Output: 2\n",
        "# Explanation: n = 3 since there are 3 numbers, so all numbers are in the range [0,3]. 2 is the missing number in the range since it does not appear in nums.\n",
        "\n",
        "# Example 2:\n",
        "# Input: nums = [0,1]\n",
        "# Output: 2\n",
        "# Explanation: n = 2 since there are 2 numbers, so all numbers are in the range [0,2]. 2 is the missing number in the range since it does not appear in nums.\n",
        "\n",
        "# Example 3:\n",
        "# Input: nums = [9,6,4,2,3,5,7,0,1]\n",
        "# Output: 8\n",
        "# Explanation: n = 9 since there are 9 numbers, so all numbers are in the range [0,9]. 8 is the missing number in the range since it does not appear in nums."
      ],
      "metadata": {
        "colab": {
          "base_uri": "https://localhost:8080/"
        },
        "id": "qbOFtTtv3OQa",
        "outputId": "a7d93a3d-9489-4835-d73f-d22945669e34"
      },
      "execution_count": 3,
      "outputs": [
        {
          "output_type": "execute_result",
          "data": {
            "text/plain": [
              "112"
            ]
          },
          "metadata": {},
          "execution_count": 3
        }
      ]
    },
    {
      "cell_type": "code",
      "source": [
        "# naive --- sort and search\n",
        "def missingNumber1(a):\n",
        "  a_sorted = sorted(a)\n",
        "  for i in range(len(a_sorted)):\n",
        "    if a_sorted[i]!= i:\n",
        "      return i\n",
        "  return -1\n",
        "\n",
        "# Bit manipulation\n",
        "# 5 XOR 5 = 0\n",
        "# 5 XOR 5 XOR 4 = 4\n",
        "def missingNumber2(a):\n",
        "  res = a[0]\n",
        "  for i in range(1,len(a)):\n",
        "    res = res ^ i ^ a[i]\n",
        "  return res ^ (len(a))\n",
        "\n",
        "if __name__==\"__main__\":\n",
        "  m1 = [9,6,4,2,3,5,7,0,1]\n",
        "  m2 = [0,1]\n",
        "  print(missingNumber2(m1))  "
      ],
      "metadata": {
        "colab": {
          "base_uri": "https://localhost:8080/"
        },
        "id": "MAKBj3Ps6JHt",
        "outputId": "cb85b0ca-e91a-4dc2-a52d-4904ef669417"
      },
      "execution_count": 19,
      "outputs": [
        {
          "output_type": "stream",
          "name": "stdout",
          "text": [
            "8\n"
          ]
        }
      ]
    },
    {
      "cell_type": "markdown",
      "source": [
        "##### Sum of two integers"
      ],
      "metadata": {
        "id": "d4d_ZITTBcDl"
      }
    },
    {
      "cell_type": "code",
      "source": [
        "# Given two integers a and b, return the sum of the two integers without using the operators + and -.\n",
        "\n",
        "# Example 1:\n",
        "# Input: a = 1, b = 2\n",
        "# Output: 3\n",
        "\n",
        "101\n",
        "011\n",
        "110\n",
        "# Example 2:\n",
        "# Input: a = 2, b = 3\n",
        "# 010\n",
        "# 011\n",
        "# 101\n",
        "# Output: 5"
      ],
      "metadata": {
        "id": "D9VaHTqQBvaG"
      },
      "execution_count": null,
      "outputs": []
    },
    {
      "cell_type": "code",
      "source": [
        "def sumOf2Integers1(a, b):\n",
        "  while b!= 0:\n",
        "    temp = (a & b) << 1 # carry\n",
        "    a = a ^ b # absolute xor\n",
        "    b = temp\n",
        "  return a\n",
        "\n",
        "def sumOf2Integers2(a, b):\n",
        "  return a + b\n",
        "\n",
        "if __name__==\"__main__\":\n",
        "  m1 = 2\n",
        "  m2 = 3\n",
        "  print(sumOf2Integers1(m1, m2)) "
      ],
      "metadata": {
        "colab": {
          "base_uri": "https://localhost:8080/"
        },
        "id": "2zH7BiqZBwAu",
        "outputId": "8cebd7b3-0b2d-4a06-b97f-b1a1217df111"
      },
      "execution_count": 34,
      "outputs": [
        {
          "output_type": "stream",
          "name": "stdout",
          "text": [
            "5\n"
          ]
        }
      ]
    },
    {
      "cell_type": "markdown",
      "source": [
        "##### Reverse an integer"
      ],
      "metadata": {
        "id": "eb3NO3ECPx86"
      }
    },
    {
      "cell_type": "code",
      "source": [
        "# Given a signed 32-bit integer x, return x with its digits reversed. If reversing x causes the value to go outside the signed 32-bit integer range [-231, 231 - 1], then return 0.\n",
        "\n",
        "# Assume the environment does not allow you to store 64-bit integers (signed or unsigned).\n",
        "\n",
        "# Example 1:\n",
        "# Input: x = 123\n",
        "# Output: 321\n",
        "\n",
        "# Example 2:\n",
        "# Input: x = -123\n",
        "# Output: -321\n",
        "\n",
        "# Example 3:\n",
        "# Input: x = 120\n",
        "# Output: 21"
      ],
      "metadata": {
        "id": "Pp8oKWS8Psra"
      },
      "execution_count": null,
      "outputs": []
    },
    {
      "cell_type": "code",
      "source": [
        "# Naive O(logn)\n",
        "def reverseAnInteger(a):\n",
        "  res = \"\"\n",
        "  while a:\n",
        "    res = res + str(a%10)\n",
        "    a = a // 10\n",
        "  return res\n",
        "\n",
        "def reverseAnInteger2(a):\n",
        "  MIN = -2147483648 # -2^31\n",
        "  MAX = 2147483647 # 2^31-1\n",
        "  res = 0\n",
        "  while a:\n",
        "    digit = a%10\n",
        "    a = a // 10\n",
        "\n",
        "    if (res > MAX//10 or\n",
        "      (res == MAX//10 and digit > MAX//10)):\n",
        "      return 0\n",
        "    if (res < MIN//10 or\n",
        "      (res == MIN//10 and digit < MIN//10)):\n",
        "      return 0\n",
        "    res = res*10 + digit\n",
        "\n",
        "  return res\n",
        "\n",
        "\n",
        "if __name__==\"__main__\":\n",
        "  m1 = 123\n",
        "  m2 = 3\n",
        "  print(reverseAnInteger2(m1)) "
      ],
      "metadata": {
        "colab": {
          "base_uri": "https://localhost:8080/"
        },
        "id": "9czOHIosPsoZ",
        "outputId": "b6c9944f-ca66-427b-eb9f-cc99d5bb193c"
      },
      "execution_count": 38,
      "outputs": [
        {
          "output_type": "stream",
          "name": "stdout",
          "text": [
            "321\n"
          ]
        }
      ]
    },
    {
      "cell_type": "markdown",
      "source": [
        "#### Binary search"
      ],
      "metadata": {
        "id": "h0MogC5nWSeE"
      }
    },
    {
      "cell_type": "markdown",
      "source": [
        "##### Basic binary search"
      ],
      "metadata": {
        "id": "7rnrKaLYWrEw"
      }
    },
    {
      "cell_type": "code",
      "source": [
        "# Given an array of integers nums which is sorted in ascending order, and an integer target, write a function to search target in nums. If target exists, then return its index. Otherwise, return -1.\n",
        "\n",
        "# You must write an algorithm with O(log n) runtime complexity.\n",
        "\n",
        "# Example 1:\n",
        "# Input: nums = [-1,0,3,5,9,12], target = 9\n",
        "# Output: 4\n",
        "# Explanation: 9 exists in nums and its index is 4\n",
        "\n",
        "# Example 2:\n",
        "# Input: nums = [-1,0,3,5,9,12], target = 2\n",
        "# Output: -1\n",
        "# Explanation: 2 does not exist in nums so return -1"
      ],
      "metadata": {
        "id": "PDEBQJpSPslN"
      },
      "execution_count": null,
      "outputs": []
    },
    {
      "cell_type": "code",
      "source": [
        "# O(logn)\n",
        "def basicBinarySearch1(a, t):\n",
        "  left, right = 0, len(a)-1\n",
        "  while left <= right:\n",
        "    mid = (left + right)//2\n",
        "    if a[mid] == t:\n",
        "      return mid\n",
        "    elif a[mid] > t:\n",
        "      right = mid -1\n",
        "    else:\n",
        "      left = mid + 1\n",
        "  return -1\n",
        "\n",
        "\n",
        "if __name__==\"__main__\":\n",
        "  m1 = [-1,0,3,5,9,12]\n",
        "  k = 2\n",
        "  print(basicBinarySearch1(m1, k)) "
      ],
      "metadata": {
        "colab": {
          "base_uri": "https://localhost:8080/"
        },
        "id": "Eu_oFw3mPsiT",
        "outputId": "4f9e6ead-1f1f-45f8-d302-e175d4002f91"
      },
      "execution_count": 41,
      "outputs": [
        {
          "output_type": "stream",
          "name": "stdout",
          "text": [
            "-1\n"
          ]
        }
      ]
    },
    {
      "cell_type": "markdown",
      "source": [
        "##### Search 2D matrix"
      ],
      "metadata": {
        "id": "1rAA-yUoYy7U"
      }
    },
    {
      "cell_type": "code",
      "source": [
        "# Write an efficient algorithm that searches for a value target in an m x n integer matrix matrix. \n",
        "# This matrix has the following properties:\n",
        "# Integers in each row are sorted from left to right.\n",
        "# The first integer of each row is greater than the last integer of the previous row.\n",
        " \n",
        "\n",
        "# Example 1:\n",
        "# Input: matrix = [[1,3,5,7],[10,11,16,20],[23,30,34,60]], target = 3\n",
        "# Output: true\n",
        "\n",
        "# Example 2:\n",
        "# Input: matrix = [[1,3,5,7],[10,11,16,20],[23,30,34,60]], target = 13\n",
        "# Output: false"
      ],
      "metadata": {
        "id": "Q9gcO_9PY2tk"
      },
      "execution_count": null,
      "outputs": []
    },
    {
      "cell_type": "code",
      "source": [
        "# O(logn) + O(logm) = O(lognm)\n",
        "def searchMatrix(a, t):\n",
        "  rows = len(a)\n",
        "  cols = len(a[0])\n",
        "\n",
        "  # pick row\n",
        "  left_row, right_row = 0, rows - 1\n",
        "  while left_row <= right_row:\n",
        "    mid_row = (left_row + right_row)//2\n",
        "    # print(a[mid_row][0], t)\n",
        "    if a[mid_row][0] <= t and a[mid_row][cols -1] >= t:\n",
        "      break\n",
        "    elif a[mid_row][0] > t:\n",
        "      right_row = mid_row -1\n",
        "    else:\n",
        "      left_row = mid_row + 1\n",
        "  \n",
        "  # pick column\n",
        "  left_col, right_col = 0, cols - 1\n",
        "  while left_col <= right_col:\n",
        "    mid_col = (left_col + right_col)//2\n",
        "    # print(a[mid_row][mid_col], t)\n",
        "    if a[mid_row][mid_col] == t:\n",
        "      return True\n",
        "    elif a[mid_row][mid_col] > t:\n",
        "      right_col = mid_row -1\n",
        "    else:\n",
        "      left_col = mid_row + 1\n",
        "\n",
        "  return False\n",
        "\n",
        "\n",
        "if __name__==\"__main__\":\n",
        "  matrix = [[1,3,5,7],\n",
        "            [10,11,16,20],\n",
        "            [23,30,34,60]]\n",
        "  target1 = 3\n",
        "  target2 = 13\n",
        "  print(searchMatrix(matrix, target2)) "
      ],
      "metadata": {
        "colab": {
          "base_uri": "https://localhost:8080/"
        },
        "id": "NYjcAskNY_Yv",
        "outputId": "64b4f97f-e3f9-4799-c30d-3bc8806184dd"
      },
      "execution_count": 49,
      "outputs": [
        {
          "output_type": "stream",
          "name": "stdout",
          "text": [
            "False\n"
          ]
        }
      ]
    },
    {
      "cell_type": "markdown",
      "source": [
        "##### Koko eating bananas"
      ],
      "metadata": {
        "id": "7MC4Ma3jgQO1"
      }
    },
    {
      "cell_type": "code",
      "source": [
        "# Koko loves to eat bananas. There are n piles of bananas, \n",
        "# the ith pile has piles[i] bananas. The guards have gone and will come back in h hours.\n",
        "\n",
        "# Koko can decide her bananas-per-hour eating speed of k. \n",
        "# Each hour, she chooses some pile of bananas and \n",
        "# eats k bananas from that pile. If the pile has less than k bananas, \n",
        "# she eats all of them instead and will not eat any more bananas during this hour.\n",
        "\n",
        "# Koko likes to eat slowly but still wants to finish eating all the bananas before the guards return.\n",
        "\n",
        "# Return the minimum integer k such that she can eat all the bananas within h hours.\n",
        "\n",
        "\n",
        "# Example 1:\n",
        "# Input: piles = [3,6,7,11], h = 8\n",
        "# Output: 4\n",
        "\n",
        "# Example 2:\n",
        "# Input: piles = [30,11,23,4,20], h = 5\n",
        "# Output: 30\n",
        "\n",
        "# Example 3:\n",
        "# Input: piles = [30,11,23,4,20], h = 6\n",
        "# Output: 23"
      ],
      "metadata": {
        "id": "I4wM_IiEY_WC"
      },
      "execution_count": null,
      "outputs": []
    },
    {
      "cell_type": "code",
      "source": [
        "# O(logn)\n",
        "def kokoEatBananas(a, t):\n",
        "  left, right = 0, len(a)-1\n",
        "  while left <= right:\n",
        "    mid = (left + right)//2\n",
        "    if a[mid] == t:\n",
        "      return mid\n",
        "    elif a[mid] > t:\n",
        "      right = mid -1\n",
        "    else:\n",
        "      left = mid + 1\n",
        "  return -1\n",
        "\n",
        "\n",
        "if __name__==\"__main__\":\n",
        "  m1 = [30,11,23,4,20]\n",
        "  k = 6\n",
        "  print(kokoEatBananas(m1, k)) "
      ],
      "metadata": {
        "id": "aVHZZGJVY_TV"
      },
      "execution_count": null,
      "outputs": []
    },
    {
      "cell_type": "code",
      "source": [
        ""
      ],
      "metadata": {
        "id": "r1PJGMupi6Gl"
      },
      "execution_count": null,
      "outputs": []
    },
    {
      "cell_type": "code",
      "source": [
        ""
      ],
      "metadata": {
        "id": "zg6VDl0ui6Dz"
      },
      "execution_count": null,
      "outputs": []
    },
    {
      "cell_type": "code",
      "source": [
        ""
      ],
      "metadata": {
        "id": "yHFfNScoi6A1"
      },
      "execution_count": null,
      "outputs": []
    },
    {
      "cell_type": "code",
      "source": [
        ""
      ],
      "metadata": {
        "id": "lCEjQtHEi59z"
      },
      "execution_count": null,
      "outputs": []
    },
    {
      "cell_type": "code",
      "source": [
        ""
      ],
      "metadata": {
        "id": "Zb97oEY6i56x"
      },
      "execution_count": null,
      "outputs": []
    },
    {
      "cell_type": "code",
      "source": [
        ""
      ],
      "metadata": {
        "id": "-VrG8K-ji53h"
      },
      "execution_count": null,
      "outputs": []
    },
    {
      "cell_type": "code",
      "source": [
        ""
      ],
      "metadata": {
        "id": "xyvBzDyFi5tj"
      },
      "execution_count": null,
      "outputs": []
    }
  ]
}